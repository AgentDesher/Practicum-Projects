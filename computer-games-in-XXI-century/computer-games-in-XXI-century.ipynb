{
 "cells": [
  {
   "cell_type": "markdown",
   "id": "e06910dd",
   "metadata": {
    "id": "e06910dd"
   },
   "source": [
    "# Развитие индустрии игр в начале XXI века"
   ]
  },
  {
   "cell_type": "markdown",
   "id": "ec211fef",
   "metadata": {},
   "source": [
    "## Введение\n",
    "\n",
    "Необходимо изучить развитие игровой индустрии с 2000 по 2013 год. В начале XXI века индустрия игр активно росла: развивались игровые платформы и появлялись мощные консоли (PlayStation 2, Xbox, Nintendo Wii). Возникало множество игровых жанров, а также росло количество многопользовательских онлайн-игр и сообществ."
   ]
  },
  {
   "cell_type": "markdown",
   "id": "4149134c",
   "metadata": {
    "id": "4149134c"
   },
   "source": [
    "### Цели и задачи проекта\n",
    "\n",
    "**Цели**: подоготовить набор данных для статьи о развитии индустрии игр в начале XXI века. \n",
    "\n",
    "**Задачи**: \n",
    "1. Провоерить данные на корреткность. Наличие ошибок, пропусков, явных и неявных дубликатов.\n",
    "2. Провести предобработку данных после выявления ошибок:\n",
    "    - преобразовать данные к нужному типу;\n",
    "    - исправить ошибки в данных;\n",
    "    - обработать пропуски;\n",
    "    - избавиться от явных и неявных дубликатов.\n",
    "3. Создать срез данных (игры вышедшие с 2000 по 2013 год включительно).\n",
    "4. Котегоризировать игры в зависимости от оценки выставленной игре пользователями (`user_score`) и критиками (`critic_score`).\n",
    "5. Выделить топ-7 платформ по количеству игр, выпущенных за период с 2000 по 2013 годы.\n",
    "6. Подготовка итогового вывода."
   ]
  },
  {
   "cell_type": "markdown",
   "id": "728986ea",
   "metadata": {
    "id": "728986ea"
   },
   "source": [
    "### Описание данных\n",
    "\n",
    "В проекте используется датасет `new_games.csv`, содержащий информацию о продажах игр разных жанров и платформ, а также пользовательские и экспертные оценки игр.\n",
    "\n",
    "---\n"
   ]
  },
  {
   "cell_type": "markdown",
   "id": "6f7d21d6",
   "metadata": {
    "id": "6f7d21d6"
   },
   "source": [
    "## Знакомство с данными: загрузка и первичная предобработка\n",
    "\n",
    "Выгрузим данные из таблицы `new_games.csv` и импортируем необходимые библиотеки.\n",
    "\n",
    "1. Проведем анализ полученных данных: данные какого объёма мы получили, соответствуют ли они описанию, встречаются ли в них пропуски, используются ли верные типы данных.\n",
    "2. Изучим другие особенности данных. Например, проверим названия столбцов: все ли названия отражают содержимое данных и прописаны в удобном для работы виде."
   ]
  },
  {
   "cell_type": "code",
   "execution_count": 1,
   "id": "3937acf7",
   "metadata": {
    "id": "3937acf7"
   },
   "outputs": [],
   "source": [
    "# Загружаем библиотеки\n",
    "import pandas as pd\n",
    "import matplotlib.pyplot as plt"
   ]
  },
  {
   "cell_type": "code",
   "execution_count": 2,
   "id": "d7c8eb4b",
   "metadata": {
    "id": "d7c8eb4b"
   },
   "outputs": [],
   "source": [
    "df = pd.read_csv('https://...')"
   ]
  },
  {
   "cell_type": "code",
   "execution_count": 3,
   "id": "73ff1c75",
   "metadata": {},
   "outputs": [
    {
     "name": "stdout",
     "output_type": "stream",
     "text": [
      "<class 'pandas.core.frame.DataFrame'>\n",
      "RangeIndex: 16956 entries, 0 to 16955\n",
      "Data columns (total 11 columns):\n",
      " #   Column           Non-Null Count  Dtype  \n",
      "---  ------           --------------  -----  \n",
      " 0   Name             16954 non-null  object \n",
      " 1   Platform         16956 non-null  object \n",
      " 2   Year of Release  16681 non-null  float64\n",
      " 3   Genre            16954 non-null  object \n",
      " 4   NA sales         16956 non-null  float64\n",
      " 5   EU sales         16956 non-null  object \n",
      " 6   JP sales         16956 non-null  object \n",
      " 7   Other sales      16956 non-null  float64\n",
      " 8   Critic Score     8242 non-null   float64\n",
      " 9   User Score       10152 non-null  object \n",
      " 10  Rating           10085 non-null  object \n",
      "dtypes: float64(4), object(7)\n",
      "memory usage: 1.4+ MB\n"
     ]
    }
   ],
   "source": [
    "df.info()"
   ]
  },
  {
   "cell_type": "code",
   "execution_count": 4,
   "id": "fc561cac",
   "metadata": {
    "id": "fc561cac"
   },
   "outputs": [
    {
     "data": {
      "text/html": [
       "<div>\n",
       "<style scoped>\n",
       "    .dataframe tbody tr th:only-of-type {\n",
       "        vertical-align: middle;\n",
       "    }\n",
       "\n",
       "    .dataframe tbody tr th {\n",
       "        vertical-align: top;\n",
       "    }\n",
       "\n",
       "    .dataframe thead th {\n",
       "        text-align: right;\n",
       "    }\n",
       "</style>\n",
       "<table border=\"1\" class=\"dataframe\">\n",
       "  <thead>\n",
       "    <tr style=\"text-align: right;\">\n",
       "      <th></th>\n",
       "      <th>Name</th>\n",
       "      <th>Platform</th>\n",
       "      <th>Year of Release</th>\n",
       "      <th>Genre</th>\n",
       "      <th>NA sales</th>\n",
       "      <th>EU sales</th>\n",
       "      <th>JP sales</th>\n",
       "      <th>Other sales</th>\n",
       "      <th>Critic Score</th>\n",
       "      <th>User Score</th>\n",
       "      <th>Rating</th>\n",
       "    </tr>\n",
       "  </thead>\n",
       "  <tbody>\n",
       "    <tr>\n",
       "      <th>0</th>\n",
       "      <td>Wii Sports</td>\n",
       "      <td>Wii</td>\n",
       "      <td>2006.0</td>\n",
       "      <td>Sports</td>\n",
       "      <td>41.36</td>\n",
       "      <td>28.96</td>\n",
       "      <td>3.77</td>\n",
       "      <td>8.45</td>\n",
       "      <td>76.0</td>\n",
       "      <td>8</td>\n",
       "      <td>E</td>\n",
       "    </tr>\n",
       "    <tr>\n",
       "      <th>1</th>\n",
       "      <td>Super Mario Bros.</td>\n",
       "      <td>NES</td>\n",
       "      <td>1985.0</td>\n",
       "      <td>Platform</td>\n",
       "      <td>29.08</td>\n",
       "      <td>3.58</td>\n",
       "      <td>6.81</td>\n",
       "      <td>0.77</td>\n",
       "      <td>NaN</td>\n",
       "      <td>NaN</td>\n",
       "      <td>NaN</td>\n",
       "    </tr>\n",
       "    <tr>\n",
       "      <th>2</th>\n",
       "      <td>Mario Kart Wii</td>\n",
       "      <td>Wii</td>\n",
       "      <td>2008.0</td>\n",
       "      <td>Racing</td>\n",
       "      <td>15.68</td>\n",
       "      <td>12.76</td>\n",
       "      <td>3.79</td>\n",
       "      <td>3.29</td>\n",
       "      <td>82.0</td>\n",
       "      <td>8.3</td>\n",
       "      <td>E</td>\n",
       "    </tr>\n",
       "    <tr>\n",
       "      <th>3</th>\n",
       "      <td>Wii Sports Resort</td>\n",
       "      <td>Wii</td>\n",
       "      <td>2009.0</td>\n",
       "      <td>Sports</td>\n",
       "      <td>15.61</td>\n",
       "      <td>10.93</td>\n",
       "      <td>3.28</td>\n",
       "      <td>2.95</td>\n",
       "      <td>80.0</td>\n",
       "      <td>8</td>\n",
       "      <td>E</td>\n",
       "    </tr>\n",
       "    <tr>\n",
       "      <th>4</th>\n",
       "      <td>Pokemon Red/Pokemon Blue</td>\n",
       "      <td>GB</td>\n",
       "      <td>1996.0</td>\n",
       "      <td>Role-Playing</td>\n",
       "      <td>11.27</td>\n",
       "      <td>8.89</td>\n",
       "      <td>10.22</td>\n",
       "      <td>1.00</td>\n",
       "      <td>NaN</td>\n",
       "      <td>NaN</td>\n",
       "      <td>NaN</td>\n",
       "    </tr>\n",
       "  </tbody>\n",
       "</table>\n",
       "</div>"
      ],
      "text/plain": [
       "                       Name Platform  Year of Release         Genre  NA sales  \\\n",
       "0                Wii Sports      Wii           2006.0        Sports     41.36   \n",
       "1         Super Mario Bros.      NES           1985.0      Platform     29.08   \n",
       "2            Mario Kart Wii      Wii           2008.0        Racing     15.68   \n",
       "3         Wii Sports Resort      Wii           2009.0        Sports     15.61   \n",
       "4  Pokemon Red/Pokemon Blue       GB           1996.0  Role-Playing     11.27   \n",
       "\n",
       "  EU sales JP sales  Other sales  Critic Score User Score Rating  \n",
       "0    28.96     3.77         8.45          76.0          8      E  \n",
       "1     3.58     6.81         0.77           NaN        NaN    NaN  \n",
       "2    12.76     3.79         3.29          82.0        8.3      E  \n",
       "3    10.93     3.28         2.95          80.0          8      E  \n",
       "4     8.89    10.22         1.00           NaN        NaN    NaN  "
      ]
     },
     "execution_count": 4,
     "metadata": {},
     "output_type": "execute_result"
    }
   ],
   "source": [
    "df.head()"
   ]
  },
  {
   "cell_type": "code",
   "execution_count": 5,
   "id": "8a1ca147",
   "metadata": {},
   "outputs": [
    {
     "data": {
      "text/plain": [
       "(16956, 11)"
      ]
     },
     "execution_count": 5,
     "metadata": {},
     "output_type": "execute_result"
    }
   ],
   "source": [
    "# Выведем информацию о размере таблицы\n",
    "df.shape"
   ]
  },
  {
   "cell_type": "markdown",
   "id": "c8d1ca71",
   "metadata": {
    "id": "81651b8d"
   },
   "source": [
    "### Промежуточный вывод\n",
    "\n",
    "1. Предоставленная таблица состоит из 11 колонок и 16956 строк. Данные соотвествуют описанию.\n",
    "2. Не для всех колонок используются верные типы данных: \n",
    "    - Для поля `Year of Release` используется тип данных `float64`. Лучше использовать тип `date` т.к. дата выхода игры.\n",
    "    - Для полей `EU sales`, `JP sales`, Score используется тип данных `object`. Лучше использовать `float64` так как в этих полях хранится информация в виде вещественного числа.\n",
    "    - Для поля `Rating` так же мог бы подойти тип данных `category` т.к. в полях хранится информация о рейтинге и эта информация может быть ограничена узким списком значений.\n",
    "3. В названиях колонок присутствуют пробелы. Названия необходимо привести к формату snake case.\n",
    "4. В части столбцов обнаружены пропуски: \n",
    "    - `Name`;\n",
    "    - `Year of Release`;\n",
    "    - `Genre`;\n",
    "    - `Critic Score`;\n",
    "    - `User Score`;\n",
    "    - `Rating`.\n",
    "\n",
    "---\n"
   ]
  },
  {
   "cell_type": "markdown",
   "id": "774bf76e",
   "metadata": {
    "id": "774bf76e"
   },
   "source": [
    "## Проверка ошибок в данных и их предобработка\n",
    "\n",
    "### Названия, или метки, столбцов датафрейма\n",
    "\n",
    "1. Выведем на экран названия всех столбцов датафрейма и проверим их стиль написания.\n",
    "2. Приведем все столбцы к стилю snake case. "
   ]
  },
  {
   "cell_type": "code",
   "execution_count": 6,
   "id": "770fa0ce",
   "metadata": {},
   "outputs": [
    {
     "data": {
      "text/plain": [
       "Index(['Name', 'Platform', 'Year of Release', 'Genre', 'NA sales', 'EU sales',\n",
       "       'JP sales', 'Other sales', 'Critic Score', 'User Score', 'Rating'],\n",
       "      dtype='object')"
      ]
     },
     "execution_count": 6,
     "metadata": {},
     "output_type": "execute_result"
    }
   ],
   "source": [
    "# Выведем названия всех столбцов\n",
    "df.columns"
   ]
  },
  {
   "cell_type": "code",
   "execution_count": 7,
   "id": "c5e8a2e0",
   "metadata": {},
   "outputs": [],
   "source": [
    "# Отредактируем названия в соотвествии с требованиям\n",
    "df = df.rename(columns={'Name': 'name',\n",
    "                        'Platform': 'platform',\n",
    "                        'Year of Release': 'year_of_release', \n",
    "                        'Genre': 'genre', \n",
    "                        'NA sales': 'na_sales',\n",
    "                        'JP sales': 'jp_sales', \n",
    "                        'EU sales': 'eu_sales', \n",
    "                        'Other sales': 'other_sales',\n",
    "                        'Critic Score': 'critic_score', \n",
    "                        'User Score': 'user_score', \n",
    "                        'Rating': 'rating'})"
   ]
  },
  {
   "cell_type": "code",
   "execution_count": 8,
   "id": "604e6e8a",
   "metadata": {},
   "outputs": [
    {
     "data": {
      "text/plain": [
       "Index(['name', 'platform', 'year_of_release', 'genre', 'na_sales', 'eu_sales',\n",
       "       'jp_sales', 'other_sales', 'critic_score', 'user_score', 'rating'],\n",
       "      dtype='object')"
      ]
     },
     "execution_count": 8,
     "metadata": {},
     "output_type": "execute_result"
    }
   ],
   "source": [
    "# Убедимся что данные отредактированы корректно\n",
    "df.columns"
   ]
  },
  {
   "cell_type": "markdown",
   "id": "3bfbf405",
   "metadata": {},
   "source": [
    "#### Промежуточный вывод\n",
    "\n",
    "1. Проверили стиль написания столбцов датафрейма. \n",
    "2. Привели названия всех столбцов к стилю snake case."
   ]
  },
  {
   "cell_type": "markdown",
   "id": "41bc6bf8",
   "metadata": {
    "id": "41bc6bf8"
   },
   "source": [
    "### Типы данных\n",
    "\n",
    "1. Изучим уникальные значения в стобцах датафрейма, чтобы определить для каких столбцов требуется изменить тип данных.\n",
    "2. Определим причины возникновения некорректных типов данных.\n",
    "3. Проведем преобразование некорректных типов данных."
   ]
  },
  {
   "cell_type": "code",
   "execution_count": 9,
   "id": "16aa5a84",
   "metadata": {},
   "outputs": [
    {
     "name": "stdout",
     "output_type": "stream",
     "text": [
      "<class 'pandas.core.frame.DataFrame'>\n",
      "RangeIndex: 16956 entries, 0 to 16955\n",
      "Data columns (total 11 columns):\n",
      " #   Column           Non-Null Count  Dtype  \n",
      "---  ------           --------------  -----  \n",
      " 0   name             16954 non-null  object \n",
      " 1   platform         16956 non-null  object \n",
      " 2   year_of_release  16681 non-null  float64\n",
      " 3   genre            16954 non-null  object \n",
      " 4   na_sales         16956 non-null  float64\n",
      " 5   eu_sales         16956 non-null  object \n",
      " 6   jp_sales         16956 non-null  object \n",
      " 7   other_sales      16956 non-null  float64\n",
      " 8   critic_score     8242 non-null   float64\n",
      " 9   user_score       10152 non-null  object \n",
      " 10  rating           10085 non-null  object \n",
      "dtypes: float64(4), object(7)\n",
      "memory usage: 1.4+ MB\n"
     ]
    }
   ],
   "source": [
    "# Выведем текущие типы столбцов\n",
    "df.info()"
   ]
  },
  {
   "cell_type": "code",
   "execution_count": 10,
   "id": "67a034af",
   "metadata": {},
   "outputs": [
    {
     "data": {
      "text/plain": [
       "array(['Wii Sports', 'Super Mario Bros.', 'Mario Kart Wii', ...,\n",
       "       'Woody Woodpecker in Crazy Castle 5', 'LMA Manager 2007',\n",
       "       'Haitaka no Psychedelica'], dtype=object)"
      ]
     },
     "execution_count": 10,
     "metadata": {},
     "output_type": "execute_result"
    }
   ],
   "source": [
    "df['name'].unique()"
   ]
  },
  {
   "cell_type": "code",
   "execution_count": 11,
   "id": "e7ee89ca",
   "metadata": {},
   "outputs": [
    {
     "data": {
      "text/plain": [
       "array(['Wii', 'NES', 'GB', 'DS', 'X360', 'PS3', 'PS2', 'SNES', 'GBA',\n",
       "       'PS4', '3DS', 'N64', 'PS', 'XB', 'PC', '2600', 'PSP', 'XOne',\n",
       "       'WiiU', 'GC', 'GEN', 'DC', 'PSV', 'SAT', 'SCD', 'WS', 'NG', 'TG16',\n",
       "       '3DO', 'GG', 'PCFX'], dtype=object)"
      ]
     },
     "execution_count": 11,
     "metadata": {},
     "output_type": "execute_result"
    }
   ],
   "source": [
    "df['platform'].unique()"
   ]
  },
  {
   "cell_type": "code",
   "execution_count": 12,
   "id": "230b44f3",
   "metadata": {},
   "outputs": [
    {
     "data": {
      "text/plain": [
       "array(['Sports', 'Platform', 'Racing', 'Role-Playing', 'Puzzle', 'Misc',\n",
       "       'Shooter', 'Simulation', 'Action', 'Fighting', 'Adventure',\n",
       "       'Strategy', nan, 'MISC', 'ROLE-PLAYING', 'RACING', 'ACTION',\n",
       "       'SHOOTER', 'FIGHTING', 'SPORTS', 'PLATFORM', 'ADVENTURE',\n",
       "       'SIMULATION', 'PUZZLE', 'STRATEGY'], dtype=object)"
      ]
     },
     "execution_count": 12,
     "metadata": {},
     "output_type": "execute_result"
    }
   ],
   "source": [
    "df['genre'].unique()"
   ]
  },
  {
   "cell_type": "code",
   "execution_count": 13,
   "id": "bcc728ed",
   "metadata": {},
   "outputs": [
    {
     "data": {
      "text/plain": [
       "array(['E', nan, 'M', 'T', 'E10+', 'K-A', 'AO', 'EC', 'RP'], dtype=object)"
      ]
     },
     "execution_count": 13,
     "metadata": {},
     "output_type": "execute_result"
    }
   ],
   "source": [
    "df['rating'].unique()"
   ]
  },
  {
   "cell_type": "markdown",
   "id": "7eb2cd18",
   "metadata": {},
   "source": [
    "Колонки `name`, `platform`, `genre`, `rating` хранят строковые значения и имеют тип `object`. **Преобразований не требуется.**\n",
    "\n",
    "---\n"
   ]
  },
  {
   "cell_type": "code",
   "execution_count": 14,
   "id": "6721cedf",
   "metadata": {},
   "outputs": [
    {
     "data": {
      "text/plain": [
       "array([76., nan, 82., 80., 89., 58., 87., 91., 61., 97., 95., 77., 88.,\n",
       "       83., 94., 93., 85., 86., 98., 96., 90., 84., 73., 74., 78., 92.,\n",
       "       71., 72., 68., 62., 49., 67., 81., 66., 56., 79., 70., 59., 64.,\n",
       "       75., 60., 63., 69., 50., 25., 42., 44., 55., 48., 57., 29., 47.,\n",
       "       65., 54., 20., 53., 37., 38., 33., 52., 30., 32., 43., 45., 51.,\n",
       "       40., 46., 39., 34., 35., 41., 36., 28., 31., 27., 26., 19., 23.,\n",
       "       24., 21., 17., 22., 13.])"
      ]
     },
     "execution_count": 14,
     "metadata": {},
     "output_type": "execute_result"
    }
   ],
   "source": [
    "df['critic_score'].unique()"
   ]
  },
  {
   "cell_type": "markdown",
   "id": "eaf79c75",
   "metadata": {},
   "source": [
    "Колонка `critic_score` хранит числовые значения и имеет тип `float64`. **Преобразований не требуется.**\n",
    "\n",
    "---\n"
   ]
  },
  {
   "cell_type": "code",
   "execution_count": 15,
   "id": "836cc7e2",
   "metadata": {},
   "outputs": [
    {
     "data": {
      "text/plain": [
       "array([2006., 1985., 2008., 2009., 1996., 1989., 1984., 2005., 1999.,\n",
       "       2007., 2010., 2013., 2004., 1990., 1988., 2002., 2001., 2011.,\n",
       "       1998., 2015., 2012., 2014., 1992., 1997., 1993., 1994., 1982.,\n",
       "       2016., 2003., 1986., 2000.,   nan, 1995., 1991., 1981., 1987.,\n",
       "       1980., 1983.])"
      ]
     },
     "execution_count": 15,
     "metadata": {},
     "output_type": "execute_result"
    }
   ],
   "source": [
    "df['year_of_release'].unique()"
   ]
  },
  {
   "cell_type": "markdown",
   "id": "1510b95a",
   "metadata": {},
   "source": [
    "Колонка `year_of_release` хранит значения даты релиза и имеет тип `float64`. **Необходимо преобразовать тип в `datetime64[ns]`.** \n",
    "\n",
    "Так же для удобства дальнейших вычислений создадим колонку `year_int`, где будем хранить год релиза в целочисленном виде. Это значение будет полезно при создании среза данных."
   ]
  },
  {
   "cell_type": "code",
   "execution_count": 16,
   "id": "7d834392",
   "metadata": {},
   "outputs": [],
   "source": [
    "# Сохраним в колонку year_int значения из колонки year_of_release\n",
    "df['year_int'] = df['year_of_release']"
   ]
  },
  {
   "cell_type": "markdown",
   "id": "f443c880",
   "metadata": {},
   "source": [
    "Преобразование значения в колоне в целочисленное проведем после обработки пропусков."
   ]
  },
  {
   "cell_type": "code",
   "execution_count": 17,
   "id": "b4f79ff7",
   "metadata": {},
   "outputs": [],
   "source": [
    "# Изменим тип данных для колонки year_of_release на datetime\n",
    "df['year_of_release'] = pd.to_datetime(df['year_of_release'], format='%Y')"
   ]
  },
  {
   "cell_type": "markdown",
   "id": "8b1a02a0",
   "metadata": {},
   "source": [
    "\n",
    "---\n",
    "\n",
    "Колонки `eu_sales`, `jp_sales`, `user_score` хранятся числовые значения и используется тип данных `object`. **Необходимо выяснить причину использования неверного типа. Изменить тип для данных колонок на `float64`.**"
   ]
  },
  {
   "cell_type": "code",
   "execution_count": 18,
   "id": "4d5645b3",
   "metadata": {},
   "outputs": [
    {
     "data": {
      "text/plain": [
       "array(['28.96', '3.58', '12.76', '10.93', '8.89', '2.26', '9.14', '9.18',\n",
       "       '6.94', '0.63', '10.95', '7.47', '6.18', '8.03', '4.89', '8.49',\n",
       "       '9.09', '0.4', '3.75', '9.2', '4.46', '2.71', '3.44', '5.14',\n",
       "       '5.49', '3.9', '5.35', '3.17', '5.09', '4.24', '5.04', '5.86',\n",
       "       '3.68', '4.19', '5.73', '3.59', '4.51', '2.55', '4.02', '4.37',\n",
       "       '6.31', '3.45', '2.81', '2.85', '3.49', '0.01', '3.35', '2.04',\n",
       "       '3.07', '3.87', '3.0', '4.82', '3.64', '2.15', '3.69', '2.65',\n",
       "       '2.56', '3.11', '3.14', '1.94', '1.95', '2.47', '2.28', '3.42',\n",
       "       '3.63', '2.36', '1.71', '1.85', '2.79', '1.24', '6.12', '1.53',\n",
       "       '3.47', '2.24', '5.01', '2.01', '1.72', '2.07', '6.42', '3.86',\n",
       "       '0.45', '3.48', '1.89', '5.75', '2.17', '1.37', '2.35', '1.18',\n",
       "       '2.11', '1.88', '2.83', '2.99', '2.89', '3.27', '2.22', '2.14',\n",
       "       '1.45', '1.75', '1.04', '1.77', '3.02', '2.75', '2.16', '1.9',\n",
       "       '2.59', '2.2', '4.3', '0.93', '2.53', '2.52', '1.79', '1.3', '2.6',\n",
       "       '1.58', '1.2', '1.56', '1.34', '1.26', '0.83', '6.21', '2.8',\n",
       "       '1.59', '1.73', '4.33', '1.83', '0.0', '2.18', '1.98', '1.47',\n",
       "       '0.67', '1.55', '1.91', '0.69', '0.6', '1.93', '1.64', '0.55',\n",
       "       '2.19', '1.11', '2.29', '2.5', '0.96', '1.21', '1.12', '0.77',\n",
       "       '1.69', '1.08', '0.79', '2.37', '2.46', '0.26', '0.75', '1.25',\n",
       "       '2.43', '0.98', '0.74', '2.23', '0.61', '2.45', '1.41', '1.8',\n",
       "       '3.28', '1.16', '1.99', '1.38', '1.36', '1.17', '1.19', '0.99',\n",
       "       '1.68', '2.0', '1.33', '1.57', '1.48', '2.1', '1.27', '1.97',\n",
       "       '0.91', '1.39', '1.96', '0.24', '1.51', '0.14', '1.29', '2.39',\n",
       "       '1.03', '0.5', '0.58', '1.31', '2.02', '1.32', '1.01', '2.27',\n",
       "       '2.3', '1.82', '2.78', '0.44', '0.48', '0.27', '0.21', '2.48',\n",
       "       '0.51', '1.52', '0.04', '0.28', '1.35', '0.87', '2.13', '1.13',\n",
       "       '1.76', '0.76', '2.12', '0.66', '1.6', '1.44', '1.43', '1.7',\n",
       "       '0.47', '1.87', '0.86', '0.73', '1.28', '0.81', '1.09', '0.68',\n",
       "       '1.22', '1.4', '1.02', '1.49', '1.14', '0.49', '0.9', '0.38',\n",
       "       '1.42', '0.95', '1.62', '0.71', '1.05', '0.92', '0.33', '0.3',\n",
       "       '1.67', '1.0', '0.89', '0.1', '0.72', '0.59', '0.56', '0.16',\n",
       "       '0.97', '0.62', 'unknown', '0.85', '0.94', '0.88', '0.84', '1.06',\n",
       "       '0.2', '1.15', '0.8', '1.1', '0.7', '1.92', '0.32', '0.15', '0.53',\n",
       "       '0.09', '1.46', '0.29', '0.22', '1.23', '0.07', '0.17', '0.54',\n",
       "       '0.36', '0.31', '1.84', '0.52', '0.11', '0.64', '0.12', '2.05',\n",
       "       '1.63', '0.82', '0.08', '0.57', '1.65', '0.19', '0.02', '0.43',\n",
       "       '0.25', '1.5', '0.18', '0.39', '0.13', '1.07', '0.46', '0.41',\n",
       "       '0.06', '0.03', '0.37', '0.05', '0.23', '0.65', '0.42', '0.34',\n",
       "       '0.35', '0.78'], dtype=object)"
      ]
     },
     "execution_count": 18,
     "metadata": {},
     "output_type": "execute_result"
    }
   ],
   "source": [
    "df['eu_sales'].unique()"
   ]
  },
  {
   "cell_type": "code",
   "execution_count": 19,
   "id": "d32d52a6",
   "metadata": {},
   "outputs": [
    {
     "data": {
      "text/plain": [
       "array(['3.77', '6.81', '3.79', '3.28', '10.22', '4.22', '6.5', '2.93',\n",
       "       '4.7', '0.28', '1.93', '4.13', '7.2', '3.6', '0.24', '2.53',\n",
       "       '0.98', '0.41', '3.54', '4.16', '6.04', '4.18', '3.84', '0.06',\n",
       "       '0.47', '5.38', '5.32', '5.65', '1.87', '0.13', '3.12', '0.36',\n",
       "       '0.11', '4.35', '0.65', '0.07', '0.08', '0.49', '0.3', '2.66',\n",
       "       '2.69', '0.48', '0.38', '5.33', '1.91', '3.96', '3.1', '1.1',\n",
       "       '1.2', '0.14', '2.54', '2.14', '0.81', '2.12', '0.44', '3.15',\n",
       "       '1.25', '0.04', '0.0', '2.47', '2.23', '1.69', '0.01', '3.0',\n",
       "       '0.02', '4.39', '1.98', '0.1', '3.81', '0.05', '2.49', '1.58',\n",
       "       '3.14', '2.73', '0.66', '0.22', '3.63', '1.45', '1.31', '2.43',\n",
       "       '0.7', '0.35', '1.4', '0.6', '2.26', '1.42', '1.28', '1.39',\n",
       "       '0.87', '0.17', '0.94', '0.19', '0.21', '1.6', '0.16', '1.03',\n",
       "       '0.25', '2.06', '1.49', '1.29', '0.09', '2.87', '0.03', '0.78',\n",
       "       '0.83', '2.33', '2.02', '1.36', '1.81', '1.97', '0.91', '0.99',\n",
       "       '0.95', '2.0', '1.01', '2.78', '2.11', '1.09', '0.2', '1.9',\n",
       "       '1.27', '3.61', '1.57', '2.2', '1.7', '1.08', '0.15', '1.11',\n",
       "       '0.29', '1.54', '0.12', '0.89', '4.87', '1.52', '1.32', '1.15',\n",
       "       '4.1', '1.46', '0.46', '1.05', '1.61', '0.26', '1.38', '0.62',\n",
       "       '0.73', '0.57', '0.31', '0.58', '1.76', '2.1', '0.9', '0.51',\n",
       "       '0.64', '2.46', '0.23', '0.37', '0.92', '1.07', '2.62', '1.12',\n",
       "       '0.54', '0.27', '0.59', '3.67', '0.55', '1.75', '3.44', '0.33',\n",
       "       '2.55', '2.32', '2.79', '0.74', '3.18', '0.82', '0.77', '0.4',\n",
       "       '2.35', '3.19', '0.8', '0.76', '3.03', '0.88', 'unknown', '0.45',\n",
       "       '1.16', '0.34', '1.19', '1.13', '2.13', '1.96', '0.71', '1.04',\n",
       "       '2.68', '0.68', '2.65', '0.96', '2.41', '0.52', '0.18', '1.34',\n",
       "       '1.48', '2.34', '1.06', '1.21', '2.29', '1.63', '2.05', '2.17',\n",
       "       '1.56', '1.35', '1.33', '0.63', '0.79', '0.75', '0.53', '1.53',\n",
       "       '1.3', '0.39', '0.69', '0.42', '0.93', '0.56', '0.84', '0.72',\n",
       "       '0.32', '1.71', '1.65', '0.61', '1.51', '1.5', '1.44', '1.24',\n",
       "       '1.18', '1.37', '1.0', '1.26', '0.85', '0.43', '0.67', '1.14',\n",
       "       '0.86', '1.17', '0.5', '1.02', '0.97'], dtype=object)"
      ]
     },
     "execution_count": 19,
     "metadata": {},
     "output_type": "execute_result"
    }
   ],
   "source": [
    "df['jp_sales'].unique()"
   ]
  },
  {
   "cell_type": "code",
   "execution_count": 20,
   "id": "82a25bdb",
   "metadata": {},
   "outputs": [
    {
     "data": {
      "text/plain": [
       "array(['8', nan, '8.3', '8.5', '6.6', '8.4', '8.6', '7.7', '6.3', '7.4',\n",
       "       '8.2', '9', '7.9', '8.1', '8.7', '7.1', '3.4', '5.3', '4.8', '3.2',\n",
       "       '8.9', '6.4', '7.8', '7.5', '2.6', '7.2', '9.2', '7', '7.3', '4.3',\n",
       "       '7.6', '5.7', '5', '9.1', '6.5', 'tbd', '8.8', '6.9', '9.4', '6.8',\n",
       "       '6.1', '6.7', '5.4', '4', '4.9', '4.5', '9.3', '6.2', '4.2', '6',\n",
       "       '3.7', '4.1', '5.8', '5.6', '5.5', '4.4', '4.6', '5.9', '3.9',\n",
       "       '3.1', '2.9', '5.2', '3.3', '4.7', '5.1', '3.5', '2.5', '1.9', '3',\n",
       "       '2.7', '2.2', '2', '9.5', '2.1', '3.6', '2.8', '1.8', '3.8', '0',\n",
       "       '1.6', '9.6', '2.4', '1.7', '1.1', '0.3', '1.5', '0.7', '1.2',\n",
       "       '2.3', '0.5', '1.3', '0.2', '0.6', '1.4', '0.9', '1', '9.7'],\n",
       "      dtype=object)"
      ]
     },
     "execution_count": 20,
     "metadata": {},
     "output_type": "execute_result"
    }
   ],
   "source": [
    "df['user_score'].unique()"
   ]
  },
  {
   "cell_type": "markdown",
   "id": "0134ffb6",
   "metadata": {},
   "source": [
    "В колонках `eu_sales`, `jp_sales` встречается значение 'unknown', в колонке `user_score` 'tbd'. Это строковые значения из-за них столбцы имеют не верный тип данных `object`.\n",
    "\n",
    "Из-за пропусков в столбцах мы не можем преобразовать их тип к `float64` стандартным образом. С помощью аргумента `coerce` это возможно. При этом все пропуски заменятся на NaN."
   ]
  },
  {
   "cell_type": "code",
   "execution_count": 21,
   "id": "b29c743f",
   "metadata": {},
   "outputs": [],
   "source": [
    "# Приведем данные в столбцах к типу float64, с использованием аргумента 'coerce' для замены всех пропусков на NaN\n",
    "df['eu_sales'] = pd.to_numeric(df['eu_sales'], errors='coerce')\n",
    "df['jp_sales'] = pd.to_numeric(df['jp_sales'], errors='coerce')\n",
    "df['user_score'] = pd.to_numeric(df['user_score'], errors='coerce')"
   ]
  },
  {
   "cell_type": "code",
   "execution_count": 22,
   "id": "6ffe5739",
   "metadata": {},
   "outputs": [
    {
     "name": "stdout",
     "output_type": "stream",
     "text": [
      "<class 'pandas.core.frame.DataFrame'>\n",
      "RangeIndex: 16956 entries, 0 to 16955\n",
      "Data columns (total 12 columns):\n",
      " #   Column           Non-Null Count  Dtype         \n",
      "---  ------           --------------  -----         \n",
      " 0   name             16954 non-null  object        \n",
      " 1   platform         16956 non-null  object        \n",
      " 2   year_of_release  16681 non-null  datetime64[ns]\n",
      " 3   genre            16954 non-null  object        \n",
      " 4   na_sales         16956 non-null  float64       \n",
      " 5   eu_sales         16950 non-null  float64       \n",
      " 6   jp_sales         16952 non-null  float64       \n",
      " 7   other_sales      16956 non-null  float64       \n",
      " 8   critic_score     8242 non-null   float64       \n",
      " 9   user_score       7688 non-null   float64       \n",
      " 10  rating           10085 non-null  object        \n",
      " 11  year_int         16681 non-null  float64       \n",
      "dtypes: datetime64[ns](1), float64(7), object(4)\n",
      "memory usage: 1.6+ MB\n"
     ]
    }
   ],
   "source": [
    "# Убедимся, что мы получили необходимые типы данных в стоблцах\n",
    "df.info()"
   ]
  },
  {
   "cell_type": "markdown",
   "id": "0bd4e25c",
   "metadata": {},
   "source": [
    "####  Промежуточный вывод\n",
    "\n",
    "1. Изучили типы данных используемые для столбцов. Преобразовали типы данных для колонок:\n",
    "    - `year_of_release` из `float64` в `object`;\n",
    "    - `eu_sales`, `jp_sales`, `user_score` из `object` в `float64`.\n",
    "2. Завели дополнительный столбец для дальнейших вычислений `year_int`, где будем хранить год релиза в целочисленном виде. Это значение будет полезно при создании среза данных.\n",
    "\n",
    "---\n"
   ]
  },
  {
   "cell_type": "markdown",
   "id": "b39893cb",
   "metadata": {
    "id": "b39893cb"
   },
   "source": [
    "### Наличие пропусков в данных\n",
    "\n",
    "Рассчитаем количество пропусков в каждом столбце в абсолютных и относительных значениях."
   ]
  },
  {
   "cell_type": "code",
   "execution_count": 23,
   "id": "0f1c91a8",
   "metadata": {
    "id": "0f1c91a8"
   },
   "outputs": [
    {
     "data": {
      "text/plain": [
       "platform              0\n",
       "na_sales              0\n",
       "other_sales           0\n",
       "name                  2\n",
       "genre                 2\n",
       "jp_sales              4\n",
       "eu_sales              6\n",
       "year_of_release     275\n",
       "year_int            275\n",
       "rating             6871\n",
       "critic_score       8714\n",
       "user_score         9268\n",
       "dtype: int64"
      ]
     },
     "execution_count": 23,
     "metadata": {},
     "output_type": "execute_result"
    }
   ],
   "source": [
    "# Посчитаем количество пропусков в абсолютных значениях \n",
    "df.isna().sum().sort_values(ascending=True)"
   ]
  },
  {
   "cell_type": "code",
   "execution_count": 24,
   "id": "36d10d84",
   "metadata": {},
   "outputs": [
    {
     "data": {
      "text/plain": [
       "name               0.000118\n",
       "platform           0.000000\n",
       "year_of_release    0.016218\n",
       "genre              0.000118\n",
       "na_sales           0.000000\n",
       "eu_sales           0.000354\n",
       "jp_sales           0.000236\n",
       "other_sales        0.000000\n",
       "critic_score       0.513918\n",
       "user_score         0.546591\n",
       "rating             0.405225\n",
       "year_int           0.016218\n",
       "dtype: float64"
      ]
     },
     "execution_count": 24,
     "metadata": {},
     "output_type": "execute_result"
    }
   ],
   "source": [
    "# Посчитаем долю пропусков\n",
    "df.isna().mean()"
   ]
  },
  {
   "cell_type": "markdown",
   "id": "f0f9b51b",
   "metadata": {
    "id": "bd69e642"
   },
   "source": [
    "Пропуски встречаются в стобцах:\n",
    "- `name` - 2 пропуска, тип пропуска MCAR, отсутвие названия игры можно объяснить человеческим фактором или техническими причинами;\n",
    "- `year_of_release` - 275 пропусков, тип пропуска MNAR сложно предположить почему информация о дате выхода игры отсутствует т.к. пропусков достаточно много сложно предположить что это ошибка или человеческий фактор;\n",
    "- `genre` - 2 пропуска, тип пропуска MCAR отсутвие названия игры можно объяснить человеческим фактором или техническими причинами;\n",
    "- `eu_sales` - 6 пропусков, тип пропуска MNAR;\n",
    "- `jp_sales` - 4 пропуска, тип пропуска MNAR;\n",
    "- `critic_score` - 8714 пропусков, тип пропуска MAR можно предположить, что информация по рейтингам просто не велась и не аггрегировалась до определенного года;\n",
    "- `user_score` - 9268 пропусков, тип пропуска MAR;\n",
    "- `rating` - 6871 пропуск, тип пропуска MAR."
   ]
  },
  {
   "cell_type": "markdown",
   "id": "599b8fce",
   "metadata": {},
   "source": [
    "Без информации о названии и жанре строки теряют аналитическую ценность, так как невозможно идентифицировать игру или отнести её к категории. Поэтому данные строки можно удалить, тем более что их совсем немного."
   ]
  },
  {
   "cell_type": "code",
   "execution_count": 25,
   "id": "5a838b28",
   "metadata": {},
   "outputs": [],
   "source": [
    "# Отбираем строки без пропусков в столбце name\n",
    "df = df.dropna(subset=['name'])"
   ]
  },
  {
   "cell_type": "code",
   "execution_count": 26,
   "id": "d25291f0",
   "metadata": {},
   "outputs": [],
   "source": [
    "# Отбираем строки без пропусков в столбце genre\n",
    "df = df.dropna(subset=['genre'])"
   ]
  },
  {
   "cell_type": "markdown",
   "id": "c63effdd",
   "metadata": {},
   "source": [
    "Так как в полях `eu_sales`, `jp_sales` незначительное кол-во пропусков. Пропущенные значения мы можем заполнить средним."
   ]
  },
  {
   "cell_type": "code",
   "execution_count": 27,
   "id": "f24980f7",
   "metadata": {},
   "outputs": [],
   "source": [
    "# Заполним средним, пропущенные значения для поля eu_sales\n",
    "def mean_game_sales(row):\n",
    "    if pd.isna(row['eu_sales']):\n",
    "        group = df[(df['platform'] == row['platform']) &\n",
    "                   (df['year_of_release'] == row['year_of_release'])]\n",
    "        return group['eu_sales'].mean()\n",
    "    else:\n",
    "        return row['eu_sales']\n",
    "\n",
    "df['eu_sales'] = df.apply(mean_game_sales, axis=1)"
   ]
  },
  {
   "cell_type": "code",
   "execution_count": 28,
   "id": "0057f3b1",
   "metadata": {},
   "outputs": [],
   "source": [
    "# Заполним средним, пропущенные значения для поля jp_sales\n",
    "def mean_game_sales(row):\n",
    "    if pd.isna(row['jp_sales']):\n",
    "        group = df[(df['platform'] == row['platform']) &\n",
    "                   (df['year_of_release'] == row['year_of_release'])]\n",
    "        return group['jp_sales'].mean()\n",
    "    else:\n",
    "        return row['jp_sales']\n",
    "\n",
    "df['jp_sales'] = df.apply(mean_game_sales, axis=1)"
   ]
  },
  {
   "cell_type": "markdown",
   "id": "94e4ea53",
   "metadata": {},
   "source": [
    "\n",
    "---\n",
    "\n",
    "Так как в колонках `rating`, `critic_score`, `user_score` присутвует значительное кол-во пропусков. Заменим пропущенные значения на индикаторы."
   ]
  },
  {
   "cell_type": "code",
   "execution_count": 29,
   "id": "154be65d",
   "metadata": {
    "id": "154be65d"
   },
   "outputs": [],
   "source": [
    "# В колонах rating  заменим пропущенные значения на значение индикатор (пустаря строка '') \n",
    "df['rating'] = df['rating'].fillna('')"
   ]
  },
  {
   "cell_type": "code",
   "execution_count": 30,
   "id": "94be7636",
   "metadata": {},
   "outputs": [],
   "source": [
    "# Заменим пропуски в полях critic_score, user_score на индикатор: (-1)\n",
    "df['critic_score'] = df['critic_score'].fillna(-1)\n",
    "df['user_score'] = df['user_score'].fillna(-1)"
   ]
  },
  {
   "cell_type": "code",
   "execution_count": 31,
   "id": "e87e638a",
   "metadata": {},
   "outputs": [],
   "source": [
    "# Отберем строки без пропусков в столбце year_of_release \n",
    "df = df[~df['year_of_release'].isna()]"
   ]
  },
  {
   "cell_type": "code",
   "execution_count": 32,
   "id": "eb6f1150",
   "metadata": {},
   "outputs": [
    {
     "data": {
      "text/html": [
       "<div>\n",
       "<style scoped>\n",
       "    .dataframe tbody tr th:only-of-type {\n",
       "        vertical-align: middle;\n",
       "    }\n",
       "\n",
       "    .dataframe tbody tr th {\n",
       "        vertical-align: top;\n",
       "    }\n",
       "\n",
       "    .dataframe thead th {\n",
       "        text-align: right;\n",
       "    }\n",
       "</style>\n",
       "<table border=\"1\" class=\"dataframe\">\n",
       "  <thead>\n",
       "    <tr style=\"text-align: right;\">\n",
       "      <th></th>\n",
       "      <th>name</th>\n",
       "      <th>platform</th>\n",
       "      <th>year_of_release</th>\n",
       "      <th>genre</th>\n",
       "      <th>na_sales</th>\n",
       "      <th>eu_sales</th>\n",
       "      <th>jp_sales</th>\n",
       "      <th>other_sales</th>\n",
       "      <th>critic_score</th>\n",
       "      <th>user_score</th>\n",
       "      <th>rating</th>\n",
       "      <th>year_int</th>\n",
       "    </tr>\n",
       "  </thead>\n",
       "  <tbody>\n",
       "    <tr>\n",
       "      <th>0</th>\n",
       "      <td>Wii Sports</td>\n",
       "      <td>Wii</td>\n",
       "      <td>2006-01-01</td>\n",
       "      <td>Sports</td>\n",
       "      <td>41.36</td>\n",
       "      <td>28.96</td>\n",
       "      <td>3.77</td>\n",
       "      <td>8.45</td>\n",
       "      <td>76.0</td>\n",
       "      <td>8.0</td>\n",
       "      <td>E</td>\n",
       "      <td>2006</td>\n",
       "    </tr>\n",
       "    <tr>\n",
       "      <th>1</th>\n",
       "      <td>Super Mario Bros.</td>\n",
       "      <td>NES</td>\n",
       "      <td>1985-01-01</td>\n",
       "      <td>Platform</td>\n",
       "      <td>29.08</td>\n",
       "      <td>3.58</td>\n",
       "      <td>6.81</td>\n",
       "      <td>0.77</td>\n",
       "      <td>-1.0</td>\n",
       "      <td>-1.0</td>\n",
       "      <td></td>\n",
       "      <td>1985</td>\n",
       "    </tr>\n",
       "    <tr>\n",
       "      <th>2</th>\n",
       "      <td>Mario Kart Wii</td>\n",
       "      <td>Wii</td>\n",
       "      <td>2008-01-01</td>\n",
       "      <td>Racing</td>\n",
       "      <td>15.68</td>\n",
       "      <td>12.76</td>\n",
       "      <td>3.79</td>\n",
       "      <td>3.29</td>\n",
       "      <td>82.0</td>\n",
       "      <td>8.3</td>\n",
       "      <td>E</td>\n",
       "      <td>2008</td>\n",
       "    </tr>\n",
       "    <tr>\n",
       "      <th>3</th>\n",
       "      <td>Wii Sports Resort</td>\n",
       "      <td>Wii</td>\n",
       "      <td>2009-01-01</td>\n",
       "      <td>Sports</td>\n",
       "      <td>15.61</td>\n",
       "      <td>10.93</td>\n",
       "      <td>3.28</td>\n",
       "      <td>2.95</td>\n",
       "      <td>80.0</td>\n",
       "      <td>8.0</td>\n",
       "      <td>E</td>\n",
       "      <td>2009</td>\n",
       "    </tr>\n",
       "    <tr>\n",
       "      <th>4</th>\n",
       "      <td>Pokemon Red/Pokemon Blue</td>\n",
       "      <td>GB</td>\n",
       "      <td>1996-01-01</td>\n",
       "      <td>Role-Playing</td>\n",
       "      <td>11.27</td>\n",
       "      <td>8.89</td>\n",
       "      <td>10.22</td>\n",
       "      <td>1.00</td>\n",
       "      <td>-1.0</td>\n",
       "      <td>-1.0</td>\n",
       "      <td></td>\n",
       "      <td>1996</td>\n",
       "    </tr>\n",
       "  </tbody>\n",
       "</table>\n",
       "</div>"
      ],
      "text/plain": [
       "                       name platform year_of_release         genre  na_sales  \\\n",
       "0                Wii Sports      Wii      2006-01-01        Sports     41.36   \n",
       "1         Super Mario Bros.      NES      1985-01-01      Platform     29.08   \n",
       "2            Mario Kart Wii      Wii      2008-01-01        Racing     15.68   \n",
       "3         Wii Sports Resort      Wii      2009-01-01        Sports     15.61   \n",
       "4  Pokemon Red/Pokemon Blue       GB      1996-01-01  Role-Playing     11.27   \n",
       "\n",
       "   eu_sales  jp_sales  other_sales  critic_score  user_score rating  year_int  \n",
       "0     28.96      3.77         8.45          76.0         8.0      E      2006  \n",
       "1      3.58      6.81         0.77          -1.0        -1.0             1985  \n",
       "2     12.76      3.79         3.29          82.0         8.3      E      2008  \n",
       "3     10.93      3.28         2.95          80.0         8.0      E      2009  \n",
       "4      8.89     10.22         1.00          -1.0        -1.0             1996  "
      ]
     },
     "execution_count": 32,
     "metadata": {},
     "output_type": "execute_result"
    }
   ],
   "source": [
    "# Преобразуем тип данных в колонке year_of_release в int64\n",
    "df['year_int'] = df['year_int'].astype('int16')\n",
    "df.head()"
   ]
  },
  {
   "cell_type": "code",
   "execution_count": 33,
   "id": "c7c83dbe",
   "metadata": {},
   "outputs": [
    {
     "data": {
      "text/plain": [
       "name               0\n",
       "platform           0\n",
       "year_of_release    0\n",
       "genre              0\n",
       "na_sales           0\n",
       "eu_sales           0\n",
       "jp_sales           0\n",
       "other_sales        0\n",
       "critic_score       0\n",
       "user_score         0\n",
       "rating             0\n",
       "year_int           0\n",
       "dtype: int64"
      ]
     },
     "execution_count": 33,
     "metadata": {},
     "output_type": "execute_result"
    }
   ],
   "source": [
    "#Убедимся, что в данных больше нет пропусков или они заменены на индикаторы\n",
    "df.isna().sum()"
   ]
  },
  {
   "cell_type": "code",
   "execution_count": 34,
   "id": "ee8ce2ce",
   "metadata": {},
   "outputs": [
    {
     "data": {
      "text/plain": [
       "(16679, 12)"
      ]
     },
     "execution_count": 34,
     "metadata": {},
     "output_type": "execute_result"
    }
   ],
   "source": [
    "# Количество строк после удаления пропусков\n",
    "df.shape"
   ]
  },
  {
   "cell_type": "markdown",
   "id": "e00b87d9",
   "metadata": {},
   "source": [
    "#### Промежуточный вывод\n",
    "\n",
    "1. Определили колонки с пропусками, расчитали долю пропусков в этих колонках:\n",
    "\n",
    "    - `name` доля пропусков: 0.000118;\n",
    "    - `year_of_release` доля пропусков: 0.016218;\n",
    "    - `genre` доля пропусков: 0.000118;\n",
    "    - `eu_sales` доля пропусков: 0.000354;\n",
    "    - `jp_sales` доля пропусков: 0.000236;\n",
    "    - `critic_score` доля пропусков: 0.513918;\n",
    "    - `user_score` доля пропусков: 0.546591;\n",
    "    - `rating` доля пропусков: 0.405225;\n",
    "    - `year_int` доля пропусков: 0.016218.\n",
    "    \n",
    "\n",
    "2. Выдвинули предположения о причинах возникновения пропусков:\n",
    "\n",
    "    - `name` - 2 пропуска, тип пропуска MCAR, отсутвие названия игры можно объяснить человеческим фактором или техническими причинами;\n",
    "    - `year_of_release` - 275 пропусков, тип пропуска MNAR сложно предположить почему информация о дате выхода игры отсутствует т.к. пропусков достаточно много сложно предположить что это ошибка или человеческий фактор;\n",
    "    - `genre` - 2 пропуска, тип пропуска MCAR отсутвие названия игры можно объяснить человеческим фактором или техническими причинами;\n",
    "    - `eu_sales` - 6 пропусков, тип пропуска MNAR;\n",
    "    - `jp_sales` - 4 пропуска, тип пропуска MNAR;\n",
    "    - `critic_score` - 8714 пропусков, тип пропуска MAR можно предположить, что информация по рейтингам просто не велась и не аггрегировалась до определенного года;\n",
    "    - `user_score` - 9268 пропусков, тип пропуска MAR;\n",
    "    - `rating` - 6871 пропуск, тип пропуска MAR;\n",
    "    \n",
    "3. Удалили строки с пропусками в колонах `name` и `genre`;\n",
    "4. Заменили средним пропущенные значенияв полях `eu_sales`, `jp_sales`;\n",
    "5. Так как в колонках `rating`, `critic_score`, `user_score` присутвует значительное кол-во пропусков. Заменили пропущенные значения на индикаторы.\n",
    "6. После обработки пропусков преобразовали значения в столбце `year_int` к типу `int16`.\n",
    "    \n",
    "---    \n"
   ]
  },
  {
   "cell_type": "markdown",
   "id": "a63363fd",
   "metadata": {
    "id": "a63363fd"
   },
   "source": [
    "## Явные и неявные дубликаты в данных\n",
    "\n",
    "1. Изучим уникальные значения в категориальных данных, например с названиями жанра игры, платформы, рейтинга и года выпуска. Проверим, встречаются ли среди данных неявные дубликаты, связанные с опечатками или разным способом написания.\n",
    "2. При необходимости проведем нормализацию данных с текстовыми значениями. Названия или жанры игр приведем к нижнему регистру, а названия рейтинга — к верхнему."
   ]
  },
  {
   "cell_type": "markdown",
   "id": "290aa602",
   "metadata": {},
   "source": [
    "### Неявные дубликаты"
   ]
  },
  {
   "cell_type": "code",
   "execution_count": 35,
   "id": "bbfdc958",
   "metadata": {},
   "outputs": [],
   "source": [
    "# Посчитаем количество строк в таблице до удаления дубликатов\n",
    "initial_row_count = df.shape[0]"
   ]
  },
  {
   "cell_type": "markdown",
   "id": "428ed742",
   "metadata": {},
   "source": [
    "\n",
    "---\n",
    "\n",
    "Можно предположить, в колонке name присутствует большое количество названий игрю. Визуально определить наличие неявных дубликатов не получится.Поэтому для начала рассчитаем кол-во уникальных значений в этом поле."
   ]
  },
  {
   "cell_type": "code",
   "execution_count": 36,
   "id": "f721abc0",
   "metadata": {},
   "outputs": [
    {
     "data": {
      "text/plain": [
       "11426"
      ]
     },
     "execution_count": 36,
     "metadata": {},
     "output_type": "execute_result"
    }
   ],
   "source": [
    "df['name'].nunique()"
   ]
  },
  {
   "cell_type": "markdown",
   "id": "d59a8bb3",
   "metadata": {},
   "source": [
    "Так как значений оказалось действительно много проведем нормализацию значений в этом поле."
   ]
  },
  {
   "cell_type": "code",
   "execution_count": 37,
   "id": "81fd8f7d",
   "metadata": {},
   "outputs": [
    {
     "data": {
      "text/plain": [
       "11426"
      ]
     },
     "execution_count": 37,
     "metadata": {},
     "output_type": "execute_result"
    }
   ],
   "source": [
    "# Нормализуем данные в колонке name, приведем все значения к нижмему регистру, удалим пробелы в начаел и конце строки\n",
    "df['name'] = df['name'].str.lower()\n",
    "df['name'] = df['name'].str.strip()\n",
    "\n",
    "# Рассчитаем количество уникальных значений после преобразования\n",
    "df['name'].nunique()"
   ]
  },
  {
   "cell_type": "markdown",
   "id": "e28fb221",
   "metadata": {},
   "source": [
    "Количество уникальных значений не изменилось, следовательно в колонке не было неявных дубликатов.\n",
    "\n",
    "---\n"
   ]
  },
  {
   "cell_type": "code",
   "execution_count": 38,
   "id": "a0cac80c",
   "metadata": {
    "id": "a0cac80c"
   },
   "outputs": [
    {
     "data": {
      "text/plain": [
       "array(['Sports', 'Platform', 'Racing', 'Role-Playing', 'Puzzle', 'Misc',\n",
       "       'Shooter', 'Simulation', 'Action', 'Fighting', 'Adventure',\n",
       "       'Strategy', 'MISC', 'ROLE-PLAYING', 'RACING', 'ACTION', 'SHOOTER',\n",
       "       'FIGHTING', 'SPORTS', 'PLATFORM', 'ADVENTURE', 'SIMULATION',\n",
       "       'PUZZLE', 'STRATEGY'], dtype=object)"
      ]
     },
     "execution_count": 38,
     "metadata": {},
     "output_type": "execute_result"
    }
   ],
   "source": [
    "# Проверим встречаются ли неявные дубликаты колонке genre, выведем все уникальные значения\n",
    "df['genre'].unique()"
   ]
  },
  {
   "cell_type": "code",
   "execution_count": 39,
   "id": "84c78e03",
   "metadata": {},
   "outputs": [
    {
     "data": {
      "text/plain": [
       "24"
      ]
     },
     "execution_count": 39,
     "metadata": {},
     "output_type": "execute_result"
    }
   ],
   "source": [
    "df['genre'].nunique()"
   ]
  },
  {
   "cell_type": "code",
   "execution_count": 40,
   "id": "00f2bffe",
   "metadata": {},
   "outputs": [
    {
     "data": {
      "text/plain": [
       "12"
      ]
     },
     "execution_count": 40,
     "metadata": {},
     "output_type": "execute_result"
    }
   ],
   "source": [
    "# Нормализуем данные в колонке genre, приведем все значения к нижмему регистру\n",
    "df['genre'] = df['genre'].str.lower()\n",
    "\n",
    "# Рассчитаем количество уникальных значений после преобразования\n",
    "df['genre'].nunique()"
   ]
  },
  {
   "cell_type": "markdown",
   "id": "a15be846",
   "metadata": {},
   "source": [
    "Количество уникальных значений уменьшилось 2 раза, следовательно в колонке присутствовали неявные дубликаты.\n",
    "\n",
    "---\n"
   ]
  },
  {
   "cell_type": "code",
   "execution_count": 41,
   "id": "e398b93b",
   "metadata": {},
   "outputs": [
    {
     "data": {
      "text/plain": [
       "array(['Wii', 'NES', 'GB', 'DS', 'X360', 'PS3', 'PS2', 'SNES', 'GBA',\n",
       "       'PS4', '3DS', 'N64', 'PS', 'XB', 'PC', '2600', 'PSP', 'XOne',\n",
       "       'WiiU', 'GC', 'GEN', 'DC', 'PSV', 'SAT', 'SCD', 'WS', 'NG', 'TG16',\n",
       "       '3DO', 'GG', 'PCFX'], dtype=object)"
      ]
     },
     "execution_count": 41,
     "metadata": {},
     "output_type": "execute_result"
    }
   ],
   "source": [
    "# Проверим встречаются ли неявные дубликаты колонке platform, выведем все уникальные значения\n",
    "df['platform'].unique()"
   ]
  },
  {
   "cell_type": "code",
   "execution_count": 42,
   "id": "08f4a566",
   "metadata": {},
   "outputs": [
    {
     "data": {
      "text/plain": [
       "31"
      ]
     },
     "execution_count": 42,
     "metadata": {},
     "output_type": "execute_result"
    }
   ],
   "source": [
    "df['platform'].nunique()"
   ]
  },
  {
   "cell_type": "code",
   "execution_count": 43,
   "id": "9fd80b9f",
   "metadata": {
    "scrolled": true
   },
   "outputs": [
    {
     "data": {
      "text/plain": [
       "31"
      ]
     },
     "execution_count": 43,
     "metadata": {},
     "output_type": "execute_result"
    }
   ],
   "source": [
    "# Нормализуем данные в колонке platform, приведем все значения к верхнему регистру \n",
    "df['platform'] = df['platform'].str.upper()\n",
    "\n",
    "# Рассчитаем количество уникальных значений после преобразования\n",
    "df['platform'].nunique()"
   ]
  },
  {
   "cell_type": "markdown",
   "id": "93daa0a0",
   "metadata": {},
   "source": [
    "Количество уникальных значений не изменилось, следовательно в колонке не было неявных дубликатов.\n",
    "\n",
    "---\n"
   ]
  },
  {
   "cell_type": "code",
   "execution_count": 44,
   "id": "dc7c5948",
   "metadata": {},
   "outputs": [
    {
     "data": {
      "text/plain": [
       "array(['E', '', 'M', 'T', 'E10+', 'K-A', 'AO', 'EC', 'RP'], dtype=object)"
      ]
     },
     "execution_count": 44,
     "metadata": {},
     "output_type": "execute_result"
    }
   ],
   "source": [
    "# Проверим встречаются ли неявные дубликаты колонке rating\n",
    "df['rating'].unique()"
   ]
  },
  {
   "cell_type": "code",
   "execution_count": 45,
   "id": "1cfc15dc",
   "metadata": {},
   "outputs": [],
   "source": [
    "# Заменим устаревшее значения рейтмнга K-A (Kids to Adults) на текущее E (Everyone)\n",
    "df['rating'] = df['rating'].str.replace('K-A', 'E')"
   ]
  },
  {
   "cell_type": "code",
   "execution_count": 46,
   "id": "9e0bfbf9",
   "metadata": {},
   "outputs": [
    {
     "data": {
      "text/plain": [
       "array(['E', '', 'M', 'T', 'E10+', 'AO', 'EC', 'RP'], dtype=object)"
      ]
     },
     "execution_count": 46,
     "metadata": {},
     "output_type": "execute_result"
    }
   ],
   "source": [
    "df['rating'].unique()"
   ]
  },
  {
   "cell_type": "markdown",
   "id": "71c1b2eb",
   "metadata": {},
   "source": [
    "В колонке `rating` неявных дубликатов не обнаружено.\n",
    "\n",
    "---\n"
   ]
  },
  {
   "cell_type": "markdown",
   "id": "8dbd9f82",
   "metadata": {},
   "source": [
    "### Явные дубликаты"
   ]
  },
  {
   "cell_type": "code",
   "execution_count": 47,
   "id": "fc5c91b5",
   "metadata": {
    "id": "fc5c91b5"
   },
   "outputs": [
    {
     "data": {
      "text/plain": [
       "235"
      ]
     },
     "execution_count": 47,
     "metadata": {},
     "output_type": "execute_result"
    }
   ],
   "source": [
    "# Рассчитаем количество явных дубликатов\n",
    "df.duplicated().sum()"
   ]
  },
  {
   "cell_type": "markdown",
   "id": "70be7e16",
   "metadata": {
    "id": "8548f894"
   },
   "source": [
    "В данных присутствует 235 явных дубликатов. Для их удаления воспользуемся методом `drop_duplicates()`. Текущий датафрейм оставим без изменения. Создадим отедьный датафрей для очищенных данных `df_cleaned`."
   ]
  },
  {
   "cell_type": "code",
   "execution_count": 48,
   "id": "2f61e076",
   "metadata": {
    "id": "2f61e076"
   },
   "outputs": [],
   "source": [
    "# Отсортируем датафрейм по всем столбцам\n",
    "df_sorted = df.sort_values(by=list(df.columns))\n",
    "\n",
    "# Удаляем дубликаты\n",
    "df_cleaned = df.drop_duplicates(subset=None, keep='first', inplace=False)\n",
    "final_row_count = df_cleaned.shape[0]"
   ]
  },
  {
   "cell_type": "code",
   "execution_count": 49,
   "id": "f9d8ee19",
   "metadata": {
    "id": "f9d8ee19"
   },
   "outputs": [
    {
     "name": "stdout",
     "output_type": "stream",
     "text": [
      "Количество строк до удаления дубликатов: 16679\n",
      "Количество строк после удаления строк: 16444\n",
      "Количество удаленных строк: 235\n",
      "Доля удаленных строк: 0.014\n"
     ]
    }
   ],
   "source": [
    "df_cleaned_len = len(df_cleaned)\n",
    "\n",
    "print(f\"Количество строк до удаления дубликатов: {initial_row_count}\")\n",
    "print(f\"Количество строк после удаления строк: {df_cleaned_len}\")\n",
    "print(f\"Количество удаленных строк: {initial_row_count-df_cleaned_len}\")\n",
    "print(f\"Доля удаленных строк: {round((initial_row_count-df_cleaned_len)/initial_row_count, 3)}\")"
   ]
  },
  {
   "cell_type": "markdown",
   "id": "a24d12f4",
   "metadata": {},
   "source": [
    "##### Промежуточный вывод\n",
    "\n",
    "1. С помощью метода `unique()` в столбце `genre` нашли неявные дубликаты. Для нормализации данных применили метод `str.upper()`.\n",
    "2. В датафрейме нашли 235 явных дубликатов. Для их удаления воспользовались методом `drop_duplicates()`. Текущий датафрейм оставили без изменения. Создадали отедьный датафрей для очищенных данных `df_cleaned`.\n",
    "3. Количество строк до удаления дубликатов - 16679, после удаления - 16444. Всего удалили 235 строк, доля удаленных строк 0.014. \n",
    "\n",
    "---\n"
   ]
  },
  {
   "cell_type": "markdown",
   "id": "9140c6d0",
   "metadata": {},
   "source": [
    "### Промежуточный вывод\n",
    "\n",
    "**Названия, или метки, столбцов датафрейма**\n",
    "\n",
    "1. Проверили стиль написания столбцов датафрейма. \n",
    "2. Привели названия всех столбцов к стилю snake case.\n",
    "\n",
    "**Типы данных**\n",
    "\n",
    "1. Изучили типы данных используемые для столбцов. Преобразовали типы данных для колонок:\n",
    "    - `year_of_release` из `float64` в `object`;\n",
    "    - `eu_sales`, `jp_sales`, `user_score` из `object` в `float64`.\n",
    "2. Завели дополнительный столбец для дальнейших вычислений `year_int`, где будем хранить год релиза в целочисленном виде. Это значение будет полезно при создании среза данных.\n",
    "\n",
    "\n",
    "**Обработка пропусков**\n",
    "\n",
    "1. Определили колонки с пропусками, расчитали долю пропусков в этих колонках:\n",
    "\n",
    "    - `name` доля пропусков: 0.000118;\n",
    "    - `year_of_release` доля пропусков: 0.016218;\n",
    "    - `genre` доля пропусков: 0.000118;\n",
    "    - `eu_sales` доля пропусков: 0.000354;\n",
    "    - `jp_sales` доля пропусков: 0.000236;\n",
    "    - `critic_score` доля пропусков: 0.513918;\n",
    "    - `user_score` доля пропусков: 0.546591;\n",
    "    - `rating` доля пропусков: 0.405225;\n",
    "    - `year_int` доля пропусков: 0.016218.\n",
    "\n",
    "2. Удалили строки с пропусками в колонах `name` и `genre`;\n",
    "3. Заменили средним пропущенные значенияв полях `eu_sales`, `jp_sales`;\n",
    "4. Так как в колонках `rating`, `critic_score`, `user_score` присутвует значительное кол-во пропусков. Заменили пропущенные значения на индикаторы.\n",
    "5. После обработки пропусков преобразовали значения в столбце `year_int` к типу `int16`.\n",
    "\n",
    "\n",
    "**Явные и неявные дубликаты в данных**\n",
    "\n",
    "1. С помощью метода `unique()` в столбце `genre` нашли неявные дубликаты. Для нормализации данных применили метод `str.upper()`.\n",
    "2. В датафрейме нашли 235 явных дубликатов. Для их удаления воспользовались методом `drop_duplicates()`. Текущий датафрейм оставили без изменения. Создадали отедьный датафрей для очищенных данных `df_cleaned`.\n",
    "3. Количество строк до удаления дубликатов - 16679, после удаления - 16444. Всего удалили 235 строк.\n",
    "\n",
    "---\n"
   ]
  },
  {
   "cell_type": "markdown",
   "id": "613f0eb0",
   "metadata": {
    "id": "613f0eb0"
   },
   "source": [
    "## Фильтрация данных\n",
    "\n",
    "Отберем данные по полю `df_atual`, период с 2000 по 2013 год влючительно."
   ]
  },
  {
   "cell_type": "code",
   "execution_count": 50,
   "id": "2344916d",
   "metadata": {
    "id": "2344916d"
   },
   "outputs": [],
   "source": [
    "df_actual = df_cleaned.loc[(df_cleaned['year_int'] >= 2000) &\n",
    "                           (df_cleaned['year_int'] <= 2013)]"
   ]
  },
  {
   "cell_type": "code",
   "execution_count": 51,
   "id": "16356384",
   "metadata": {},
   "outputs": [
    {
     "name": "stdout",
     "output_type": "stream",
     "text": [
      "12781\n"
     ]
    }
   ],
   "source": [
    "# Посчитаем кол-во игр выпущенных в период с 2000 по 2013 год \n",
    "print(df_actual.shape[0])"
   ]
  },
  {
   "cell_type": "code",
   "execution_count": 52,
   "id": "0f4fe699",
   "metadata": {},
   "outputs": [
    {
     "name": "stdout",
     "output_type": "stream",
     "text": [
      "Количество игр выпущенных в каждый год\n",
      "year_int\n",
      "2000     350\n",
      "2001     482\n",
      "2002     829\n",
      "2003     775\n",
      "2004     762\n",
      "2005     939\n",
      "2006    1006\n",
      "2007    1197\n",
      "2008    1427\n",
      "2009    1426\n",
      "2010    1255\n",
      "2011    1136\n",
      "2012     653\n",
      "2013     544\n",
      "Name: name, dtype: int64\n"
     ]
    }
   ],
   "source": [
    "# Посчитаем кол-во игр выпущенных в каждый год за указанный выше период\n",
    "grouped_games_by_year = df_actual.groupby('year_int')['name'].count()\n",
    "print('Количество игр выпущенных в каждый год')\n",
    "print(grouped_games_by_year)"
   ]
  },
  {
   "cell_type": "code",
   "execution_count": 53,
   "id": "f6ae4c87",
   "metadata": {},
   "outputs": [
    {
     "data": {
      "image/png": "[encoded data removed]",
      "text/plain": [
       "<Figure size 1200x400 with 1 Axes>"
      ]
     },
     "metadata": {},
     "output_type": "display_data"
    }
   ],
   "source": [
    "# Строим столбчатую диаграмму\n",
    "grouped_games_by_year.plot(\n",
    "               kind='bar', \n",
    "               rot=0,\n",
    "               figsize=(12, 4),\n",
    "               color='#b965e4'\n",
    "               \n",
    ")\n",
    "\n",
    "plt.grid(True, linestyle='--', alpha=0.7)\n",
    "\n",
    "# Настраиваем оформление графика\n",
    "plt.title(f'Распределение выпуска игр по годам')\n",
    "plt.xlabel('Год')\n",
    "plt.ylabel('Кол-во выпущенных игр')\n",
    "\n",
    "# Выводим график\n",
    "plt.show()"
   ]
  },
  {
   "cell_type": "markdown",
   "id": "a6f10b01",
   "metadata": {
    "id": "a6f10b01"
   },
   "source": [
    "## Категоризация данных"
   ]
  },
  {
   "cell_type": "markdown",
   "id": "4ee97897-f518-43ee-afc2-dda14ca45c1d",
   "metadata": {},
   "source": [
    "### Категоризация данных по оценкам пользователей\n",
    "\n",
    "Проведем категоризацию данных. Разделим все игры по оценкам пользователей и выделим следующие категории: \n",
    "- **высокая оценка** (от 8 до 10 включительно);\n",
    "- **средняя оценка** (от 3 до 8, не включая правую границу интервала);\n",
    "- **низкая оценка** (от 0 до 3, не включая правую границу интервала)."
   ]
  },
  {
   "cell_type": "code",
   "execution_count": 54,
   "id": "ee6c944d",
   "metadata": {},
   "outputs": [],
   "source": [
    "# Чтобы избежать ошибко при добавлении нового стобца содадим копию таблицы df_actual \n",
    "df_actual_user_score = df_actual.copy()"
   ]
  },
  {
   "cell_type": "code",
   "execution_count": 55,
   "id": "3db87229",
   "metadata": {
    "id": "3db87229"
   },
   "outputs": [],
   "source": [
    "# Категроризируем оценки пользователей\n",
    "df_actual_user_score['user_score_category'] = pd.cut(df_actual['user_score'],\n",
    "                                          bins=[-1, 0, 3, 8, 10],\n",
    "                                          labels=[\"Нет оценки\", \"Низкая оценка\", \"Средняя оценка\", \"Высокая оценка\"],\n",
    "                                          right=False,\n",
    "                                          include_lowest=True).astype('category')"
   ]
  },
  {
   "cell_type": "code",
   "execution_count": 56,
   "id": "bed99712",
   "metadata": {},
   "outputs": [
    {
     "data": {
      "text/html": [
       "<div>\n",
       "<style scoped>\n",
       "    .dataframe tbody tr th:only-of-type {\n",
       "        vertical-align: middle;\n",
       "    }\n",
       "\n",
       "    .dataframe tbody tr th {\n",
       "        vertical-align: top;\n",
       "    }\n",
       "\n",
       "    .dataframe thead th {\n",
       "        text-align: right;\n",
       "    }\n",
       "</style>\n",
       "<table border=\"1\" class=\"dataframe\">\n",
       "  <thead>\n",
       "    <tr style=\"text-align: right;\">\n",
       "      <th></th>\n",
       "      <th>name</th>\n",
       "      <th>platform</th>\n",
       "      <th>year_of_release</th>\n",
       "      <th>genre</th>\n",
       "      <th>na_sales</th>\n",
       "      <th>eu_sales</th>\n",
       "      <th>jp_sales</th>\n",
       "      <th>other_sales</th>\n",
       "      <th>critic_score</th>\n",
       "      <th>user_score</th>\n",
       "      <th>rating</th>\n",
       "      <th>year_int</th>\n",
       "      <th>user_score_category</th>\n",
       "    </tr>\n",
       "  </thead>\n",
       "  <tbody>\n",
       "    <tr>\n",
       "      <th>0</th>\n",
       "      <td>wii sports</td>\n",
       "      <td>WII</td>\n",
       "      <td>2006-01-01</td>\n",
       "      <td>sports</td>\n",
       "      <td>41.36</td>\n",
       "      <td>28.96</td>\n",
       "      <td>3.77</td>\n",
       "      <td>8.45</td>\n",
       "      <td>76.0</td>\n",
       "      <td>8.0</td>\n",
       "      <td>E</td>\n",
       "      <td>2006</td>\n",
       "      <td>Высокая оценка</td>\n",
       "    </tr>\n",
       "    <tr>\n",
       "      <th>2</th>\n",
       "      <td>mario kart wii</td>\n",
       "      <td>WII</td>\n",
       "      <td>2008-01-01</td>\n",
       "      <td>racing</td>\n",
       "      <td>15.68</td>\n",
       "      <td>12.76</td>\n",
       "      <td>3.79</td>\n",
       "      <td>3.29</td>\n",
       "      <td>82.0</td>\n",
       "      <td>8.3</td>\n",
       "      <td>E</td>\n",
       "      <td>2008</td>\n",
       "      <td>Высокая оценка</td>\n",
       "    </tr>\n",
       "    <tr>\n",
       "      <th>3</th>\n",
       "      <td>wii sports resort</td>\n",
       "      <td>WII</td>\n",
       "      <td>2009-01-01</td>\n",
       "      <td>sports</td>\n",
       "      <td>15.61</td>\n",
       "      <td>10.93</td>\n",
       "      <td>3.28</td>\n",
       "      <td>2.95</td>\n",
       "      <td>80.0</td>\n",
       "      <td>8.0</td>\n",
       "      <td>E</td>\n",
       "      <td>2009</td>\n",
       "      <td>Высокая оценка</td>\n",
       "    </tr>\n",
       "    <tr>\n",
       "      <th>6</th>\n",
       "      <td>new super mario bros.</td>\n",
       "      <td>DS</td>\n",
       "      <td>2006-01-01</td>\n",
       "      <td>platform</td>\n",
       "      <td>11.28</td>\n",
       "      <td>9.14</td>\n",
       "      <td>6.50</td>\n",
       "      <td>2.88</td>\n",
       "      <td>89.0</td>\n",
       "      <td>8.5</td>\n",
       "      <td>E</td>\n",
       "      <td>2006</td>\n",
       "      <td>Высокая оценка</td>\n",
       "    </tr>\n",
       "    <tr>\n",
       "      <th>7</th>\n",
       "      <td>wii play</td>\n",
       "      <td>WII</td>\n",
       "      <td>2006-01-01</td>\n",
       "      <td>misc</td>\n",
       "      <td>13.96</td>\n",
       "      <td>9.18</td>\n",
       "      <td>2.93</td>\n",
       "      <td>2.84</td>\n",
       "      <td>58.0</td>\n",
       "      <td>6.6</td>\n",
       "      <td>E</td>\n",
       "      <td>2006</td>\n",
       "      <td>Средняя оценка</td>\n",
       "    </tr>\n",
       "  </tbody>\n",
       "</table>\n",
       "</div>"
      ],
      "text/plain": [
       "                    name platform year_of_release     genre  na_sales  \\\n",
       "0             wii sports      WII      2006-01-01    sports     41.36   \n",
       "2         mario kart wii      WII      2008-01-01    racing     15.68   \n",
       "3      wii sports resort      WII      2009-01-01    sports     15.61   \n",
       "6  new super mario bros.       DS      2006-01-01  platform     11.28   \n",
       "7               wii play      WII      2006-01-01      misc     13.96   \n",
       "\n",
       "   eu_sales  jp_sales  other_sales  critic_score  user_score rating  year_int  \\\n",
       "0     28.96      3.77         8.45          76.0         8.0      E      2006   \n",
       "2     12.76      3.79         3.29          82.0         8.3      E      2008   \n",
       "3     10.93      3.28         2.95          80.0         8.0      E      2009   \n",
       "6      9.14      6.50         2.88          89.0         8.5      E      2006   \n",
       "7      9.18      2.93         2.84          58.0         6.6      E      2006   \n",
       "\n",
       "  user_score_category  \n",
       "0      Высокая оценка  \n",
       "2      Высокая оценка  \n",
       "3      Высокая оценка  \n",
       "6      Высокая оценка  \n",
       "7      Средняя оценка  "
      ]
     },
     "execution_count": 56,
     "metadata": {},
     "output_type": "execute_result"
    }
   ],
   "source": [
    "df_actual_user_score.head()"
   ]
  },
  {
   "cell_type": "markdown",
   "id": "f8f34b40",
   "metadata": {
    "id": "f8f34b40"
   },
   "source": [
    "### Категоризация данных по оценкам критиков\n",
    "\n",
    "Разделим все игры по оценкам критиков и выделим следующие категории: \n",
    "- **высокая оценка** (от 80 до 100 включительно); \n",
    "- **средняя оценка** (от 30 до 80, не включая правую границу интервала); \n",
    "- **низкая оценка** (от 0 до 30, не включая правую границу интервала)."
   ]
  },
  {
   "cell_type": "code",
   "execution_count": 57,
   "id": "2e17b53c",
   "metadata": {},
   "outputs": [],
   "source": [
    "# Чтобы избежать ошибко при добавлении нового стобца содадим копию таблицы df_actual \n",
    "df_actual_critic_score = df_actual.copy()"
   ]
  },
  {
   "cell_type": "code",
   "execution_count": 58,
   "id": "c19ff7e9",
   "metadata": {},
   "outputs": [],
   "source": [
    "# Категроризируем оценки критиков\n",
    "df_actual_critic_score['critic_score_category'] = pd.cut(df_actual_critic_score['critic_score'],\n",
    "                                          bins=[-1, 0, 30, 80, 100],\n",
    "                                          labels=[\"Нет оценки\", \"Низкая оценка\", \"Средняя оценка\", \"Высокая оценка\"],\n",
    "                                          right=False,\n",
    "                                          include_lowest=True).astype('category')"
   ]
  },
  {
   "cell_type": "code",
   "execution_count": 59,
   "id": "6aa363c3",
   "metadata": {},
   "outputs": [
    {
     "data": {
      "text/html": [
       "<div>\n",
       "<style scoped>\n",
       "    .dataframe tbody tr th:only-of-type {\n",
       "        vertical-align: middle;\n",
       "    }\n",
       "\n",
       "    .dataframe tbody tr th {\n",
       "        vertical-align: top;\n",
       "    }\n",
       "\n",
       "    .dataframe thead th {\n",
       "        text-align: right;\n",
       "    }\n",
       "</style>\n",
       "<table border=\"1\" class=\"dataframe\">\n",
       "  <thead>\n",
       "    <tr style=\"text-align: right;\">\n",
       "      <th></th>\n",
       "      <th>name</th>\n",
       "      <th>platform</th>\n",
       "      <th>year_of_release</th>\n",
       "      <th>genre</th>\n",
       "      <th>na_sales</th>\n",
       "      <th>eu_sales</th>\n",
       "      <th>jp_sales</th>\n",
       "      <th>other_sales</th>\n",
       "      <th>critic_score</th>\n",
       "      <th>user_score</th>\n",
       "      <th>rating</th>\n",
       "      <th>year_int</th>\n",
       "      <th>critic_score_category</th>\n",
       "    </tr>\n",
       "  </thead>\n",
       "  <tbody>\n",
       "    <tr>\n",
       "      <th>0</th>\n",
       "      <td>wii sports</td>\n",
       "      <td>WII</td>\n",
       "      <td>2006-01-01</td>\n",
       "      <td>sports</td>\n",
       "      <td>41.36</td>\n",
       "      <td>28.96</td>\n",
       "      <td>3.77</td>\n",
       "      <td>8.45</td>\n",
       "      <td>76.0</td>\n",
       "      <td>8.0</td>\n",
       "      <td>E</td>\n",
       "      <td>2006</td>\n",
       "      <td>Средняя оценка</td>\n",
       "    </tr>\n",
       "    <tr>\n",
       "      <th>2</th>\n",
       "      <td>mario kart wii</td>\n",
       "      <td>WII</td>\n",
       "      <td>2008-01-01</td>\n",
       "      <td>racing</td>\n",
       "      <td>15.68</td>\n",
       "      <td>12.76</td>\n",
       "      <td>3.79</td>\n",
       "      <td>3.29</td>\n",
       "      <td>82.0</td>\n",
       "      <td>8.3</td>\n",
       "      <td>E</td>\n",
       "      <td>2008</td>\n",
       "      <td>Высокая оценка</td>\n",
       "    </tr>\n",
       "    <tr>\n",
       "      <th>3</th>\n",
       "      <td>wii sports resort</td>\n",
       "      <td>WII</td>\n",
       "      <td>2009-01-01</td>\n",
       "      <td>sports</td>\n",
       "      <td>15.61</td>\n",
       "      <td>10.93</td>\n",
       "      <td>3.28</td>\n",
       "      <td>2.95</td>\n",
       "      <td>80.0</td>\n",
       "      <td>8.0</td>\n",
       "      <td>E</td>\n",
       "      <td>2009</td>\n",
       "      <td>Высокая оценка</td>\n",
       "    </tr>\n",
       "    <tr>\n",
       "      <th>6</th>\n",
       "      <td>new super mario bros.</td>\n",
       "      <td>DS</td>\n",
       "      <td>2006-01-01</td>\n",
       "      <td>platform</td>\n",
       "      <td>11.28</td>\n",
       "      <td>9.14</td>\n",
       "      <td>6.50</td>\n",
       "      <td>2.88</td>\n",
       "      <td>89.0</td>\n",
       "      <td>8.5</td>\n",
       "      <td>E</td>\n",
       "      <td>2006</td>\n",
       "      <td>Высокая оценка</td>\n",
       "    </tr>\n",
       "    <tr>\n",
       "      <th>7</th>\n",
       "      <td>wii play</td>\n",
       "      <td>WII</td>\n",
       "      <td>2006-01-01</td>\n",
       "      <td>misc</td>\n",
       "      <td>13.96</td>\n",
       "      <td>9.18</td>\n",
       "      <td>2.93</td>\n",
       "      <td>2.84</td>\n",
       "      <td>58.0</td>\n",
       "      <td>6.6</td>\n",
       "      <td>E</td>\n",
       "      <td>2006</td>\n",
       "      <td>Средняя оценка</td>\n",
       "    </tr>\n",
       "  </tbody>\n",
       "</table>\n",
       "</div>"
      ],
      "text/plain": [
       "                    name platform year_of_release     genre  na_sales  \\\n",
       "0             wii sports      WII      2006-01-01    sports     41.36   \n",
       "2         mario kart wii      WII      2008-01-01    racing     15.68   \n",
       "3      wii sports resort      WII      2009-01-01    sports     15.61   \n",
       "6  new super mario bros.       DS      2006-01-01  platform     11.28   \n",
       "7               wii play      WII      2006-01-01      misc     13.96   \n",
       "\n",
       "   eu_sales  jp_sales  other_sales  critic_score  user_score rating  year_int  \\\n",
       "0     28.96      3.77         8.45          76.0         8.0      E      2006   \n",
       "2     12.76      3.79         3.29          82.0         8.3      E      2008   \n",
       "3     10.93      3.28         2.95          80.0         8.0      E      2009   \n",
       "6      9.14      6.50         2.88          89.0         8.5      E      2006   \n",
       "7      9.18      2.93         2.84          58.0         6.6      E      2006   \n",
       "\n",
       "  critic_score_category  \n",
       "0        Средняя оценка  \n",
       "2        Высокая оценка  \n",
       "3        Высокая оценка  \n",
       "6        Высокая оценка  \n",
       "7        Средняя оценка  "
      ]
     },
     "execution_count": 59,
     "metadata": {},
     "output_type": "execute_result"
    }
   ],
   "source": [
    "df_actual_critic_score.head()"
   ]
  },
  {
   "cell_type": "markdown",
   "id": "olkTlTlAUDR9",
   "metadata": {
    "id": "olkTlTlAUDR9"
   },
   "source": [
    "### Количество игр по категориям\n",
    "\n",
    "Cгруппируем данные по выделенным категориям и посчитаем количество игр в каждой категории."
   ]
  },
  {
   "cell_type": "code",
   "execution_count": 60,
   "id": "HW0Nsp-4UMSL",
   "metadata": {
    "id": "HW0Nsp-4UMSL"
   },
   "outputs": [
    {
     "data": {
      "text/html": [
       "<div>\n",
       "<style scoped>\n",
       "    .dataframe tbody tr th:only-of-type {\n",
       "        vertical-align: middle;\n",
       "    }\n",
       "\n",
       "    .dataframe tbody tr th {\n",
       "        vertical-align: top;\n",
       "    }\n",
       "\n",
       "    .dataframe thead th {\n",
       "        text-align: right;\n",
       "    }\n",
       "</style>\n",
       "<table border=\"1\" class=\"dataframe\">\n",
       "  <thead>\n",
       "    <tr style=\"text-align: right;\">\n",
       "      <th></th>\n",
       "      <th>critic_score_category</th>\n",
       "      <th>cnt_critic_score</th>\n",
       "    </tr>\n",
       "  </thead>\n",
       "  <tbody>\n",
       "    <tr>\n",
       "      <th>0</th>\n",
       "      <td>Нет оценки</td>\n",
       "      <td>5612</td>\n",
       "    </tr>\n",
       "    <tr>\n",
       "      <th>1</th>\n",
       "      <td>Средняя оценка</td>\n",
       "      <td>5422</td>\n",
       "    </tr>\n",
       "    <tr>\n",
       "      <th>2</th>\n",
       "      <td>Высокая оценка</td>\n",
       "      <td>1692</td>\n",
       "    </tr>\n",
       "    <tr>\n",
       "      <th>3</th>\n",
       "      <td>Низкая оценка</td>\n",
       "      <td>55</td>\n",
       "    </tr>\n",
       "  </tbody>\n",
       "</table>\n",
       "</div>"
      ],
      "text/plain": [
       "  critic_score_category  cnt_critic_score\n",
       "0            Нет оценки              5612\n",
       "1        Средняя оценка              5422\n",
       "2        Высокая оценка              1692\n",
       "3         Низкая оценка                55"
      ]
     },
     "execution_count": 60,
     "metadata": {},
     "output_type": "execute_result"
    }
   ],
   "source": [
    "# Сгруппируем игры по оценкам критиков и посчитаем количество игр по группам\n",
    "grouped_by_critics = df_actual_critic_score.groupby('critic_score_category', \n",
    "                                             observed=True).agg(cnt_critic_score=('name', \n",
    "                                                                                  'count')).sort_values(by='cnt_critic_score',\n",
    "                                                                                                                  ascending=False)\n",
    "grouped_by_critics = grouped_by_critics.reset_index()\n",
    "grouped_by_critics"
   ]
  },
  {
   "cell_type": "code",
   "execution_count": 61,
   "id": "3cadffe9",
   "metadata": {},
   "outputs": [
    {
     "data": {
      "image/png": "[encoded data removed]",
      "text/plain": [
       "<Figure size 700x300 with 1 Axes>"
      ]
     },
     "metadata": {},
     "output_type": "display_data"
    }
   ],
   "source": [
    "# Строим столбчатую диаграмму\n",
    "grouped_by_critics.plot(kind='bar',\n",
    "                        x='critic_score_category',\n",
    "                        rot=0,\n",
    "                        figsize=(7, 3),\n",
    "                        color='#eb88b1',\n",
    "                        legend=False\n",
    "               \n",
    ")\n",
    "\n",
    "plt.grid(True, linestyle='--', alpha=0.7)\n",
    "\n",
    "# Настраиваем оформление графика\n",
    "plt.title(f'Распределение игр по оценкам критиков')\n",
    "plt.xlabel('Оценка')\n",
    "plt.ylabel('Кол-во игр')\n",
    "\n",
    "# Выводим график\n",
    "plt.show()"
   ]
  },
  {
   "cell_type": "code",
   "execution_count": 62,
   "id": "2eba2a9f",
   "metadata": {},
   "outputs": [
    {
     "data": {
      "text/html": [
       "<div>\n",
       "<style scoped>\n",
       "    .dataframe tbody tr th:only-of-type {\n",
       "        vertical-align: middle;\n",
       "    }\n",
       "\n",
       "    .dataframe tbody tr th {\n",
       "        vertical-align: top;\n",
       "    }\n",
       "\n",
       "    .dataframe thead th {\n",
       "        text-align: right;\n",
       "    }\n",
       "</style>\n",
       "<table border=\"1\" class=\"dataframe\">\n",
       "  <thead>\n",
       "    <tr style=\"text-align: right;\">\n",
       "      <th></th>\n",
       "      <th>user_score_category</th>\n",
       "      <th>cnt_user_score</th>\n",
       "    </tr>\n",
       "  </thead>\n",
       "  <tbody>\n",
       "    <tr>\n",
       "      <th>0</th>\n",
       "      <td>Нет оценки</td>\n",
       "      <td>6298</td>\n",
       "    </tr>\n",
       "    <tr>\n",
       "      <th>1</th>\n",
       "      <td>Средняя оценка</td>\n",
       "      <td>4081</td>\n",
       "    </tr>\n",
       "    <tr>\n",
       "      <th>2</th>\n",
       "      <td>Высокая оценка</td>\n",
       "      <td>2286</td>\n",
       "    </tr>\n",
       "    <tr>\n",
       "      <th>3</th>\n",
       "      <td>Низкая оценка</td>\n",
       "      <td>116</td>\n",
       "    </tr>\n",
       "  </tbody>\n",
       "</table>\n",
       "</div>"
      ],
      "text/plain": [
       "  user_score_category  cnt_user_score\n",
       "0          Нет оценки            6298\n",
       "1      Средняя оценка            4081\n",
       "2      Высокая оценка            2286\n",
       "3       Низкая оценка             116"
      ]
     },
     "execution_count": 62,
     "metadata": {},
     "output_type": "execute_result"
    }
   ],
   "source": [
    "# Сгруппируем игры по оценкам пользователей и посчитаем количество игр по группам\n",
    "grouped_by_users = df_actual_user_score.groupby('user_score_category', \n",
    "                                           observed=True).agg(cnt_user_score=('name', \n",
    "                                                                              'count')).sort_values(by='cnt_user_score',\n",
    "                                                                                                            ascending=False)\n",
    "\n",
    "grouped_by_users = grouped_by_users.reset_index()\n",
    "grouped_by_users"
   ]
  },
  {
   "cell_type": "code",
   "execution_count": 63,
   "id": "adb90ba6",
   "metadata": {},
   "outputs": [
    {
     "data": {
      "image/png": "[encoded data removed]",
      "text/plain": [
       "<Figure size 700x300 with 1 Axes>"
      ]
     },
     "metadata": {},
     "output_type": "display_data"
    }
   ],
   "source": [
    "# Строим столбчатую диаграмму\n",
    "grouped_by_users.plot(kind='bar', \n",
    "                        rot=0,\n",
    "                        x='user_score_category',\n",
    "                        figsize=(7, 3),\n",
    "                        color='#f5c05a',\n",
    "                        legend=False\n",
    "               \n",
    ")\n",
    "\n",
    "plt.grid(True, linestyle='--', alpha=0.7)\n",
    "\n",
    "# Настраиваем оформление графика\n",
    "plt.title(f'Распределение игр по оценкам пользователей')\n",
    "plt.xlabel('Оценка')\n",
    "plt.ylabel('Кол-во игр')\n",
    "\n",
    "# Выводим график\n",
    "plt.show()"
   ]
  },
  {
   "cell_type": "code",
   "execution_count": 64,
   "id": "6aa28f80",
   "metadata": {},
   "outputs": [
    {
     "data": {
      "text/html": [
       "<div>\n",
       "<style scoped>\n",
       "    .dataframe tbody tr th:only-of-type {\n",
       "        vertical-align: middle;\n",
       "    }\n",
       "\n",
       "    .dataframe tbody tr th {\n",
       "        vertical-align: top;\n",
       "    }\n",
       "\n",
       "    .dataframe thead th {\n",
       "        text-align: right;\n",
       "    }\n",
       "</style>\n",
       "<table border=\"1\" class=\"dataframe\">\n",
       "  <thead>\n",
       "    <tr style=\"text-align: right;\">\n",
       "      <th></th>\n",
       "      <th>critic_score_category</th>\n",
       "      <th>cnt_critic_score</th>\n",
       "      <th>cnt_user_score</th>\n",
       "    </tr>\n",
       "  </thead>\n",
       "  <tbody>\n",
       "    <tr>\n",
       "      <th>0</th>\n",
       "      <td>Нет оценки</td>\n",
       "      <td>5612</td>\n",
       "      <td>6298</td>\n",
       "    </tr>\n",
       "    <tr>\n",
       "      <th>1</th>\n",
       "      <td>Средняя оценка</td>\n",
       "      <td>5422</td>\n",
       "      <td>4081</td>\n",
       "    </tr>\n",
       "    <tr>\n",
       "      <th>2</th>\n",
       "      <td>Высокая оценка</td>\n",
       "      <td>1692</td>\n",
       "      <td>2286</td>\n",
       "    </tr>\n",
       "    <tr>\n",
       "      <th>3</th>\n",
       "      <td>Низкая оценка</td>\n",
       "      <td>55</td>\n",
       "      <td>116</td>\n",
       "    </tr>\n",
       "  </tbody>\n",
       "</table>\n",
       "</div>"
      ],
      "text/plain": [
       "  critic_score_category  cnt_critic_score  cnt_user_score\n",
       "0            Нет оценки              5612            6298\n",
       "1        Средняя оценка              5422            4081\n",
       "2        Высокая оценка              1692            2286\n",
       "3         Низкая оценка                55             116"
      ]
     },
     "execution_count": 64,
     "metadata": {},
     "output_type": "execute_result"
    }
   ],
   "source": [
    "df_joined = grouped_by_critics.join(grouped_by_users)\n",
    "df_joined = df_joined.drop('user_score_category', axis=1)\n",
    "\n",
    "df_joined"
   ]
  },
  {
   "cell_type": "code",
   "execution_count": 65,
   "id": "54cbca4e",
   "metadata": {},
   "outputs": [
    {
     "data": {
      "image/png": "[encoded data removed]",
      "text/plain": [
       "<Figure size 800x400 with 1 Axes>"
      ]
     },
     "metadata": {},
     "output_type": "display_data"
    }
   ],
   "source": [
    "colors = ['#eb88b1', '#f5c05a']\n",
    "\n",
    "# Строим столбчатую диаграмму\n",
    "df_joined.plot(kind='bar', \n",
    "                        rot=0,\n",
    "                        x='critic_score_category',\n",
    "                        figsize=(8, 4),\n",
    "                        legend=True,\n",
    "                        color=colors\n",
    "               \n",
    ")\n",
    "\n",
    "plt.grid(True, linestyle='--', alpha=0.7)\n",
    "\n",
    "# Настраиваем оформление графика\n",
    "plt.title(f'Распределение игр категориям оценок и видам критиков')\n",
    "plt.xlabel('Оценка')\n",
    "plt.ylabel('Кол-во игр')\n",
    "\n",
    "# Выводим график\n",
    "plt.show()"
   ]
  },
  {
   "cell_type": "markdown",
   "id": "e3b299c2-edc2-46d6-b5d9-22024e01ead2",
   "metadata": {},
   "source": [
    "#### Промежуточный вывод\n",
    "\n",
    "В обеих категориях (оценки критиков, оценки пользователей) наибольшее количество игр не имеют оценок (5612 и 6298), наименьшее количество игри имеет низкую оценку (55 и 116)."
   ]
  },
  {
   "cell_type": "markdown",
   "id": "6a98444c",
   "metadata": {
    "id": "6a98444c"
   },
   "source": [
    "### Топ-7 платформ по количеству выпушенных игр\n",
    "\n",
    "Выделим Топ-7 платформ по количеству игр, выпущенных за весь актуальный период. \n",
    "3. Рассчитаем для каждого региона коливество млн. проданных копий игр поличество проданных копий для каждого региона."
   ]
  },
  {
   "cell_type": "code",
   "execution_count": 66,
   "id": "e13209e4",
   "metadata": {},
   "outputs": [
    {
     "data": {
      "text/html": [
       "<div>\n",
       "<style scoped>\n",
       "    .dataframe tbody tr th:only-of-type {\n",
       "        vertical-align: middle;\n",
       "    }\n",
       "\n",
       "    .dataframe tbody tr th {\n",
       "        vertical-align: top;\n",
       "    }\n",
       "\n",
       "    .dataframe thead th {\n",
       "        text-align: right;\n",
       "    }\n",
       "</style>\n",
       "<table border=\"1\" class=\"dataframe\">\n",
       "  <thead>\n",
       "    <tr style=\"text-align: right;\">\n",
       "      <th></th>\n",
       "      <th>platform</th>\n",
       "      <th>cnt_games</th>\n",
       "    </tr>\n",
       "  </thead>\n",
       "  <tbody>\n",
       "    <tr>\n",
       "      <th>0</th>\n",
       "      <td>PS2</td>\n",
       "      <td>2127</td>\n",
       "    </tr>\n",
       "    <tr>\n",
       "      <th>1</th>\n",
       "      <td>DS</td>\n",
       "      <td>2120</td>\n",
       "    </tr>\n",
       "    <tr>\n",
       "      <th>2</th>\n",
       "      <td>WII</td>\n",
       "      <td>1275</td>\n",
       "    </tr>\n",
       "    <tr>\n",
       "      <th>3</th>\n",
       "      <td>PSP</td>\n",
       "      <td>1180</td>\n",
       "    </tr>\n",
       "    <tr>\n",
       "      <th>4</th>\n",
       "      <td>X360</td>\n",
       "      <td>1121</td>\n",
       "    </tr>\n",
       "    <tr>\n",
       "      <th>5</th>\n",
       "      <td>PS3</td>\n",
       "      <td>1087</td>\n",
       "    </tr>\n",
       "    <tr>\n",
       "      <th>6</th>\n",
       "      <td>GBA</td>\n",
       "      <td>811</td>\n",
       "    </tr>\n",
       "  </tbody>\n",
       "</table>\n",
       "</div>"
      ],
      "text/plain": [
       "  platform  cnt_games\n",
       "0      PS2       2127\n",
       "1       DS       2120\n",
       "2      WII       1275\n",
       "3      PSP       1180\n",
       "4     X360       1121\n",
       "5      PS3       1087\n",
       "6      GBA        811"
      ]
     },
     "execution_count": 66,
     "metadata": {},
     "output_type": "execute_result"
    }
   ],
   "source": [
    "# Cгруппируем данные по платформам и посчитаем количество выпущенных игр для каждой платформы.\n",
    "grouped_by_platform = df_actual.groupby('platform').agg(cnt_games=('platform', \n",
    "                                                                   'count')).sort_values(by='cnt_games',\n",
    "                                                                                         ascending=False)\n",
    "grouped_by_platform = grouped_by_platform.reset_index()\n",
    "grouped_by_platform = grouped_by_platform[grouped_by_platform.index <= 6]\n",
    "grouped_by_platform"
   ]
  },
  {
   "cell_type": "code",
   "execution_count": 67,
   "id": "1b07aab7",
   "metadata": {},
   "outputs": [
    {
     "data": {
      "image/png": "[encoded data removed]",
      "text/plain": [
       "<Figure size 800x400 with 1 Axes>"
      ]
     },
     "metadata": {},
     "output_type": "display_data"
    }
   ],
   "source": [
    "# Строим столбчатую диаграмму\n",
    "grouped_by_platform.plot(kind='bar', \n",
    "                         x='platform',\n",
    "                         rot=0,\n",
    "                         figsize=(8, 4),\n",
    "                         color='#b965e4',\n",
    "                         legend=False\n",
    "               \n",
    ")\n",
    "\n",
    "plt.grid(True, linestyle='--', alpha=0.7)\n",
    "\n",
    "# Настраиваем оформление графика\n",
    "plt.title(f'Топ-7 платформ по количеству выпущенных игр')\n",
    "plt.xlabel('Платформа')\n",
    "plt.ylabel('Кол-во выпущенных игр')\n",
    "\n",
    "# Выводим график\n",
    "plt.show()"
   ]
  },
  {
   "cell_type": "markdown",
   "id": "8fb64490-5082-4b9b-a1d0-22076695668d",
   "metadata": {},
   "source": [
    "### Топ-7 платформ по количеству проданных копий игр\n",
    "\n",
    "Рассчитаем для каждого региона коливество млн. проданных копий игр в разрезе платформы."
   ]
  },
  {
   "cell_type": "markdown",
   "id": "2de26acb-05d9-46a0-aa6a-033664d7e0b0",
   "metadata": {},
   "source": [
    "#### Сверная Америка"
   ]
  },
  {
   "cell_type": "code",
   "execution_count": 68,
   "id": "05e04d22",
   "metadata": {},
   "outputs": [
    {
     "data": {
      "text/html": [
       "<div>\n",
       "<style scoped>\n",
       "    .dataframe tbody tr th:only-of-type {\n",
       "        vertical-align: middle;\n",
       "    }\n",
       "\n",
       "    .dataframe tbody tr th {\n",
       "        vertical-align: top;\n",
       "    }\n",
       "\n",
       "    .dataframe thead th {\n",
       "        text-align: right;\n",
       "    }\n",
       "</style>\n",
       "<table border=\"1\" class=\"dataframe\">\n",
       "  <thead>\n",
       "    <tr style=\"text-align: right;\">\n",
       "      <th></th>\n",
       "      <th>platform</th>\n",
       "      <th>na_cnt_games</th>\n",
       "      <th>na_share</th>\n",
       "    </tr>\n",
       "  </thead>\n",
       "  <tbody>\n",
       "    <tr>\n",
       "      <th>0</th>\n",
       "      <td>PS2</td>\n",
       "      <td>572.92</td>\n",
       "      <td>0.176525</td>\n",
       "    </tr>\n",
       "    <tr>\n",
       "      <th>1</th>\n",
       "      <td>X360</td>\n",
       "      <td>567.44</td>\n",
       "      <td>0.174836</td>\n",
       "    </tr>\n",
       "    <tr>\n",
       "      <th>2</th>\n",
       "      <td>WII</td>\n",
       "      <td>484.79</td>\n",
       "      <td>0.149371</td>\n",
       "    </tr>\n",
       "    <tr>\n",
       "      <th>3</th>\n",
       "      <td>DS</td>\n",
       "      <td>380.31</td>\n",
       "      <td>0.117179</td>\n",
       "    </tr>\n",
       "    <tr>\n",
       "      <th>4</th>\n",
       "      <td>PS3</td>\n",
       "      <td>368.08</td>\n",
       "      <td>0.113411</td>\n",
       "    </tr>\n",
       "    <tr>\n",
       "      <th>5</th>\n",
       "      <td>GBA</td>\n",
       "      <td>184.12</td>\n",
       "      <td>0.056730</td>\n",
       "    </tr>\n",
       "    <tr>\n",
       "      <th>6</th>\n",
       "      <td>XB</td>\n",
       "      <td>182.06</td>\n",
       "      <td>0.056095</td>\n",
       "    </tr>\n",
       "    <tr>\n",
       "      <th>7</th>\n",
       "      <td>GC</td>\n",
       "      <td>131.94</td>\n",
       "      <td>0.040653</td>\n",
       "    </tr>\n",
       "    <tr>\n",
       "      <th>8</th>\n",
       "      <td>PSP</td>\n",
       "      <td>107.27</td>\n",
       "      <td>0.033051</td>\n",
       "    </tr>\n",
       "    <tr>\n",
       "      <th>9</th>\n",
       "      <td>PS</td>\n",
       "      <td>65.71</td>\n",
       "      <td>0.020246</td>\n",
       "    </tr>\n",
       "    <tr>\n",
       "      <th>10</th>\n",
       "      <td>3DS</td>\n",
       "      <td>60.01</td>\n",
       "      <td>0.018490</td>\n",
       "    </tr>\n",
       "    <tr>\n",
       "      <th>11</th>\n",
       "      <td>PC</td>\n",
       "      <td>56.70</td>\n",
       "      <td>0.017470</td>\n",
       "    </tr>\n",
       "    <tr>\n",
       "      <th>12</th>\n",
       "      <td>N64</td>\n",
       "      <td>21.88</td>\n",
       "      <td>0.006742</td>\n",
       "    </tr>\n",
       "    <tr>\n",
       "      <th>13</th>\n",
       "      <td>WIIU</td>\n",
       "      <td>18.74</td>\n",
       "      <td>0.005774</td>\n",
       "    </tr>\n",
       "    <tr>\n",
       "      <th>14</th>\n",
       "      <td>XONE</td>\n",
       "      <td>11.85</td>\n",
       "      <td>0.003651</td>\n",
       "    </tr>\n",
       "    <tr>\n",
       "      <th>15</th>\n",
       "      <td>PS4</td>\n",
       "      <td>10.13</td>\n",
       "      <td>0.003121</td>\n",
       "    </tr>\n",
       "    <tr>\n",
       "      <th>16</th>\n",
       "      <td>PSV</td>\n",
       "      <td>9.95</td>\n",
       "      <td>0.003066</td>\n",
       "    </tr>\n",
       "    <tr>\n",
       "      <th>17</th>\n",
       "      <td>GB</td>\n",
       "      <td>9.12</td>\n",
       "      <td>0.002810</td>\n",
       "    </tr>\n",
       "    <tr>\n",
       "      <th>18</th>\n",
       "      <td>DC</td>\n",
       "      <td>2.53</td>\n",
       "      <td>0.000780</td>\n",
       "    </tr>\n",
       "    <tr>\n",
       "      <th>19</th>\n",
       "      <td>WS</td>\n",
       "      <td>0.00</td>\n",
       "      <td>0.000000</td>\n",
       "    </tr>\n",
       "  </tbody>\n",
       "</table>\n",
       "</div>"
      ],
      "text/plain": [
       "   platform  na_cnt_games  na_share\n",
       "0       PS2        572.92  0.176525\n",
       "1      X360        567.44  0.174836\n",
       "2       WII        484.79  0.149371\n",
       "3        DS        380.31  0.117179\n",
       "4       PS3        368.08  0.113411\n",
       "5       GBA        184.12  0.056730\n",
       "6        XB        182.06  0.056095\n",
       "7        GC        131.94  0.040653\n",
       "8       PSP        107.27  0.033051\n",
       "9        PS         65.71  0.020246\n",
       "10      3DS         60.01  0.018490\n",
       "11       PC         56.70  0.017470\n",
       "12      N64         21.88  0.006742\n",
       "13     WIIU         18.74  0.005774\n",
       "14     XONE         11.85  0.003651\n",
       "15      PS4         10.13  0.003121\n",
       "16      PSV          9.95  0.003066\n",
       "17       GB          9.12  0.002810\n",
       "18       DC          2.53  0.000780\n",
       "19       WS          0.00  0.000000"
      ]
     },
     "execution_count": 68,
     "metadata": {},
     "output_type": "execute_result"
    }
   ],
   "source": [
    "# Рассчитаем количество млн. проданных копий в Северной Америке для каждой платформы\n",
    "na_sales = df_actual.groupby('platform').agg(na_cnt_games=('na_sales', 'sum')).sort_values(by='na_cnt_games',\n",
    "                                                                                                 ascending=False)\n",
    "# Сбросим индексы                                                                                     \n",
    "na_sales = na_sales.reset_index()\n",
    "\n",
    "# Рассчитаем долю проданных копий\n",
    "na_sales['na_share'] = na_sales['na_cnt_games'] / na_sales['na_cnt_games'].sum()\n",
    "na_sales"
   ]
  },
  {
   "cell_type": "code",
   "execution_count": 69,
   "id": "be26a977",
   "metadata": {},
   "outputs": [],
   "source": [
    "# Ограничим выборку\n",
    "na_sales_slice = na_sales[na_sales.index <= 6]"
   ]
  },
  {
   "cell_type": "code",
   "execution_count": 70,
   "id": "12556c3d",
   "metadata": {},
   "outputs": [
    {
     "data": {
      "image/png": "[encoded data removed]",
      "text/plain": [
       "<Figure size 800x400 with 1 Axes>"
      ]
     },
     "metadata": {},
     "output_type": "display_data"
    }
   ],
   "source": [
    "# Строим столбчатую диаграмму\n",
    "na_sales_slice.plot(kind='bar',\n",
    "              x='platform',\n",
    "              y='na_cnt_games',\n",
    "              rot=0,\n",
    "              figsize=(8, 4),\n",
    "              color='#61a6f9',\n",
    "              legend=False              \n",
    ")\n",
    "\n",
    "plt.grid(True, linestyle='--', alpha=0.7)\n",
    "\n",
    "# Настраиваем оформление графика\n",
    "plt.title(f'Топ-7 платформ по количеству млн. проданных копий в Северной Америке')\n",
    "plt.xlabel('Платформа')\n",
    "plt.ylabel('Кол-во выпущенных игр')\n",
    "\n",
    "# Выводим график\n",
    "plt.show()"
   ]
  },
  {
   "cell_type": "markdown",
   "id": "56d9415d-edeb-4c45-bb34-fd5aaa98cc20",
   "metadata": {},
   "source": [
    "#### Европа"
   ]
  },
  {
   "cell_type": "code",
   "execution_count": 71,
   "id": "5e458466",
   "metadata": {},
   "outputs": [
    {
     "data": {
      "text/html": [
       "<div>\n",
       "<style scoped>\n",
       "    .dataframe tbody tr th:only-of-type {\n",
       "        vertical-align: middle;\n",
       "    }\n",
       "\n",
       "    .dataframe tbody tr th {\n",
       "        vertical-align: top;\n",
       "    }\n",
       "\n",
       "    .dataframe thead th {\n",
       "        text-align: right;\n",
       "    }\n",
       "</style>\n",
       "<table border=\"1\" class=\"dataframe\">\n",
       "  <thead>\n",
       "    <tr style=\"text-align: right;\">\n",
       "      <th></th>\n",
       "      <th>platform</th>\n",
       "      <th>eu_cnt_games</th>\n",
       "      <th>eu_share</th>\n",
       "    </tr>\n",
       "  </thead>\n",
       "  <tbody>\n",
       "    <tr>\n",
       "      <th>0</th>\n",
       "      <td>PS2</td>\n",
       "      <td>331.963784</td>\n",
       "      <td>0.183168</td>\n",
       "    </tr>\n",
       "    <tr>\n",
       "      <th>1</th>\n",
       "      <td>PS3</td>\n",
       "      <td>301.670000</td>\n",
       "      <td>0.166453</td>\n",
       "    </tr>\n",
       "    <tr>\n",
       "      <th>2</th>\n",
       "      <td>WII</td>\n",
       "      <td>255.730000</td>\n",
       "      <td>0.141104</td>\n",
       "    </tr>\n",
       "    <tr>\n",
       "      <th>3</th>\n",
       "      <td>X360</td>\n",
       "      <td>252.299785</td>\n",
       "      <td>0.139212</td>\n",
       "    </tr>\n",
       "    <tr>\n",
       "      <th>4</th>\n",
       "      <td>DS</td>\n",
       "      <td>187.441022</td>\n",
       "      <td>0.103425</td>\n",
       "    </tr>\n",
       "    <tr>\n",
       "      <th>5</th>\n",
       "      <td>PC</td>\n",
       "      <td>103.370000</td>\n",
       "      <td>0.057037</td>\n",
       "    </tr>\n",
       "    <tr>\n",
       "      <th>6</th>\n",
       "      <td>GBA</td>\n",
       "      <td>74.170449</td>\n",
       "      <td>0.040925</td>\n",
       "    </tr>\n",
       "    <tr>\n",
       "      <th>7</th>\n",
       "      <td>PSP</td>\n",
       "      <td>65.620000</td>\n",
       "      <td>0.036207</td>\n",
       "    </tr>\n",
       "    <tr>\n",
       "      <th>8</th>\n",
       "      <td>XB</td>\n",
       "      <td>59.650000</td>\n",
       "      <td>0.032913</td>\n",
       "    </tr>\n",
       "    <tr>\n",
       "      <th>9</th>\n",
       "      <td>PS</td>\n",
       "      <td>46.940000</td>\n",
       "      <td>0.025900</td>\n",
       "    </tr>\n",
       "    <tr>\n",
       "      <th>10</th>\n",
       "      <td>3DS</td>\n",
       "      <td>45.150000</td>\n",
       "      <td>0.024912</td>\n",
       "    </tr>\n",
       "    <tr>\n",
       "      <th>11</th>\n",
       "      <td>GC</td>\n",
       "      <td>38.320000</td>\n",
       "      <td>0.021144</td>\n",
       "    </tr>\n",
       "    <tr>\n",
       "      <th>12</th>\n",
       "      <td>WIIU</td>\n",
       "      <td>11.980000</td>\n",
       "      <td>0.006610</td>\n",
       "    </tr>\n",
       "    <tr>\n",
       "      <th>13</th>\n",
       "      <td>PS4</td>\n",
       "      <td>11.050000</td>\n",
       "      <td>0.006097</td>\n",
       "    </tr>\n",
       "    <tr>\n",
       "      <th>14</th>\n",
       "      <td>PSV</td>\n",
       "      <td>9.540000</td>\n",
       "      <td>0.005264</td>\n",
       "    </tr>\n",
       "    <tr>\n",
       "      <th>15</th>\n",
       "      <td>N64</td>\n",
       "      <td>6.130000</td>\n",
       "      <td>0.003382</td>\n",
       "    </tr>\n",
       "    <tr>\n",
       "      <th>16</th>\n",
       "      <td>XONE</td>\n",
       "      <td>5.340000</td>\n",
       "      <td>0.002946</td>\n",
       "    </tr>\n",
       "    <tr>\n",
       "      <th>17</th>\n",
       "      <td>GB</td>\n",
       "      <td>5.190000</td>\n",
       "      <td>0.002864</td>\n",
       "    </tr>\n",
       "    <tr>\n",
       "      <th>18</th>\n",
       "      <td>DC</td>\n",
       "      <td>0.790000</td>\n",
       "      <td>0.000436</td>\n",
       "    </tr>\n",
       "    <tr>\n",
       "      <th>19</th>\n",
       "      <td>WS</td>\n",
       "      <td>0.000000</td>\n",
       "      <td>0.000000</td>\n",
       "    </tr>\n",
       "  </tbody>\n",
       "</table>\n",
       "</div>"
      ],
      "text/plain": [
       "   platform  eu_cnt_games  eu_share\n",
       "0       PS2    331.963784  0.183168\n",
       "1       PS3    301.670000  0.166453\n",
       "2       WII    255.730000  0.141104\n",
       "3      X360    252.299785  0.139212\n",
       "4        DS    187.441022  0.103425\n",
       "5        PC    103.370000  0.057037\n",
       "6       GBA     74.170449  0.040925\n",
       "7       PSP     65.620000  0.036207\n",
       "8        XB     59.650000  0.032913\n",
       "9        PS     46.940000  0.025900\n",
       "10      3DS     45.150000  0.024912\n",
       "11       GC     38.320000  0.021144\n",
       "12     WIIU     11.980000  0.006610\n",
       "13      PS4     11.050000  0.006097\n",
       "14      PSV      9.540000  0.005264\n",
       "15      N64      6.130000  0.003382\n",
       "16     XONE      5.340000  0.002946\n",
       "17       GB      5.190000  0.002864\n",
       "18       DC      0.790000  0.000436\n",
       "19       WS      0.000000  0.000000"
      ]
     },
     "execution_count": 71,
     "metadata": {},
     "output_type": "execute_result"
    }
   ],
   "source": [
    "# Посчитаем количество млн. проданных копий в Северной Америке для каждой платформы\n",
    "eu_sales = df_actual.groupby('platform').agg(eu_cnt_games=('eu_sales', \n",
    "                                                                 'sum')).sort_values(by='eu_cnt_games',\n",
    "                                                                                     ascending=False)\n",
    "# Сбросим индексы\n",
    "eu_sales = eu_sales.reset_index()\n",
    "\n",
    "# Рассчитаем долю проданных копий\n",
    "eu_sales['eu_share'] = eu_sales['eu_cnt_games'] / eu_sales['eu_cnt_games'].sum()\n",
    "eu_sales"
   ]
  },
  {
   "cell_type": "code",
   "execution_count": 72,
   "id": "a41d8aa6",
   "metadata": {},
   "outputs": [],
   "source": [
    "# Ограничим выборку\n",
    "eu_sales_slice = eu_sales[eu_sales.index <= 6]"
   ]
  },
  {
   "cell_type": "code",
   "execution_count": 73,
   "id": "0270eaf4",
   "metadata": {},
   "outputs": [
    {
     "data": {
      "image/png": "[encoded data removed]",
      "text/plain": [
       "<Figure size 800x400 with 1 Axes>"
      ]
     },
     "metadata": {},
     "output_type": "display_data"
    }
   ],
   "source": [
    "# Строим столбчатую диаграмму\n",
    "eu_sales_slice.plot(kind='bar',\n",
    "              x='platform',\n",
    "              y='eu_cnt_games',\n",
    "              rot=0,\n",
    "              figsize=(8, 4),\n",
    "              color='#61a6f9',\n",
    "              legend=False\n",
    "               \n",
    ")\n",
    "\n",
    "plt.grid(True, linestyle='--', alpha=0.7)\n",
    "\n",
    "# Настраиваем оформление графика\n",
    "plt.title(f'Топ-7 платформ по количеству млн. проданных копий в Европе')\n",
    "plt.xlabel('Платформа')\n",
    "plt.ylabel('Кол-во выпущенных игр')\n",
    "\n",
    "# Выводим график\n",
    "plt.show()"
   ]
  },
  {
   "cell_type": "markdown",
   "id": "4905a9e0-12b4-4a67-8e66-562cea53ff28",
   "metadata": {},
   "source": [
    "#### Япония"
   ]
  },
  {
   "cell_type": "code",
   "execution_count": 74,
   "id": "b43c8885",
   "metadata": {},
   "outputs": [
    {
     "data": {
      "text/html": [
       "<div>\n",
       "<style scoped>\n",
       "    .dataframe tbody tr th:only-of-type {\n",
       "        vertical-align: middle;\n",
       "    }\n",
       "\n",
       "    .dataframe tbody tr th {\n",
       "        vertical-align: top;\n",
       "    }\n",
       "\n",
       "    .dataframe thead th {\n",
       "        text-align: right;\n",
       "    }\n",
       "</style>\n",
       "<table border=\"1\" class=\"dataframe\">\n",
       "  <thead>\n",
       "    <tr style=\"text-align: right;\">\n",
       "      <th></th>\n",
       "      <th>platform</th>\n",
       "      <th>jp_cnt_games</th>\n",
       "      <th>jp_share</th>\n",
       "    </tr>\n",
       "  </thead>\n",
       "  <tbody>\n",
       "    <tr>\n",
       "      <th>0</th>\n",
       "      <td>DS</td>\n",
       "      <td>175.071260</td>\n",
       "      <td>0.242210</td>\n",
       "    </tr>\n",
       "    <tr>\n",
       "      <th>1</th>\n",
       "      <td>PS2</td>\n",
       "      <td>137.540000</td>\n",
       "      <td>0.190286</td>\n",
       "    </tr>\n",
       "    <tr>\n",
       "      <th>2</th>\n",
       "      <td>PSP</td>\n",
       "      <td>75.523060</td>\n",
       "      <td>0.104486</td>\n",
       "    </tr>\n",
       "    <tr>\n",
       "      <th>3</th>\n",
       "      <td>WII</td>\n",
       "      <td>68.280000</td>\n",
       "      <td>0.094465</td>\n",
       "    </tr>\n",
       "    <tr>\n",
       "      <th>4</th>\n",
       "      <td>PS3</td>\n",
       "      <td>68.190000</td>\n",
       "      <td>0.094340</td>\n",
       "    </tr>\n",
       "    <tr>\n",
       "      <th>5</th>\n",
       "      <td>3DS</td>\n",
       "      <td>56.380000</td>\n",
       "      <td>0.078001</td>\n",
       "    </tr>\n",
       "    <tr>\n",
       "      <th>6</th>\n",
       "      <td>GBA</td>\n",
       "      <td>46.560000</td>\n",
       "      <td>0.064415</td>\n",
       "    </tr>\n",
       "    <tr>\n",
       "      <th>7</th>\n",
       "      <td>GC</td>\n",
       "      <td>21.340000</td>\n",
       "      <td>0.029524</td>\n",
       "    </tr>\n",
       "    <tr>\n",
       "      <th>8</th>\n",
       "      <td>PS</td>\n",
       "      <td>20.100000</td>\n",
       "      <td>0.027808</td>\n",
       "    </tr>\n",
       "    <tr>\n",
       "      <th>9</th>\n",
       "      <td>GB</td>\n",
       "      <td>13.010000</td>\n",
       "      <td>0.017999</td>\n",
       "    </tr>\n",
       "    <tr>\n",
       "      <th>10</th>\n",
       "      <td>X360</td>\n",
       "      <td>12.224043</td>\n",
       "      <td>0.016912</td>\n",
       "    </tr>\n",
       "    <tr>\n",
       "      <th>11</th>\n",
       "      <td>N64</td>\n",
       "      <td>8.250000</td>\n",
       "      <td>0.011414</td>\n",
       "    </tr>\n",
       "    <tr>\n",
       "      <th>12</th>\n",
       "      <td>PSV</td>\n",
       "      <td>7.300000</td>\n",
       "      <td>0.010099</td>\n",
       "    </tr>\n",
       "    <tr>\n",
       "      <th>13</th>\n",
       "      <td>WIIU</td>\n",
       "      <td>5.700000</td>\n",
       "      <td>0.007886</td>\n",
       "    </tr>\n",
       "    <tr>\n",
       "      <th>14</th>\n",
       "      <td>DC</td>\n",
       "      <td>3.960000</td>\n",
       "      <td>0.005479</td>\n",
       "    </tr>\n",
       "    <tr>\n",
       "      <th>15</th>\n",
       "      <td>XB</td>\n",
       "      <td>1.380000</td>\n",
       "      <td>0.001909</td>\n",
       "    </tr>\n",
       "    <tr>\n",
       "      <th>16</th>\n",
       "      <td>WS</td>\n",
       "      <td>0.960000</td>\n",
       "      <td>0.001328</td>\n",
       "    </tr>\n",
       "    <tr>\n",
       "      <th>17</th>\n",
       "      <td>PS4</td>\n",
       "      <td>0.940000</td>\n",
       "      <td>0.001300</td>\n",
       "    </tr>\n",
       "    <tr>\n",
       "      <th>18</th>\n",
       "      <td>PC</td>\n",
       "      <td>0.080000</td>\n",
       "      <td>0.000111</td>\n",
       "    </tr>\n",
       "    <tr>\n",
       "      <th>19</th>\n",
       "      <td>XONE</td>\n",
       "      <td>0.020000</td>\n",
       "      <td>0.000028</td>\n",
       "    </tr>\n",
       "  </tbody>\n",
       "</table>\n",
       "</div>"
      ],
      "text/plain": [
       "   platform  jp_cnt_games  jp_share\n",
       "0        DS    175.071260  0.242210\n",
       "1       PS2    137.540000  0.190286\n",
       "2       PSP     75.523060  0.104486\n",
       "3       WII     68.280000  0.094465\n",
       "4       PS3     68.190000  0.094340\n",
       "5       3DS     56.380000  0.078001\n",
       "6       GBA     46.560000  0.064415\n",
       "7        GC     21.340000  0.029524\n",
       "8        PS     20.100000  0.027808\n",
       "9        GB     13.010000  0.017999\n",
       "10     X360     12.224043  0.016912\n",
       "11      N64      8.250000  0.011414\n",
       "12      PSV      7.300000  0.010099\n",
       "13     WIIU      5.700000  0.007886\n",
       "14       DC      3.960000  0.005479\n",
       "15       XB      1.380000  0.001909\n",
       "16       WS      0.960000  0.001328\n",
       "17      PS4      0.940000  0.001300\n",
       "18       PC      0.080000  0.000111\n",
       "19     XONE      0.020000  0.000028"
      ]
     },
     "execution_count": 74,
     "metadata": {},
     "output_type": "execute_result"
    }
   ],
   "source": [
    "# Посчитаем количество млн. проданных копий в Северной Америке для каждой платформы\n",
    "jp_sales = df_actual.groupby('platform').agg(jp_cnt_games=('jp_sales', 'sum')).sort_values(by='jp_cnt_games',\n",
    "                                                                                                 ascending=False)\n",
    "# Сбросим индексы\n",
    "jp_sales = jp_sales.reset_index()\n",
    "\n",
    "# Рассчитаем долю проданных копий\n",
    "jp_sales['jp_share'] = jp_sales['jp_cnt_games'] / jp_sales['jp_cnt_games'].sum()\n",
    "jp_sales"
   ]
  },
  {
   "cell_type": "code",
   "execution_count": 75,
   "id": "ee8ce07a",
   "metadata": {},
   "outputs": [],
   "source": [
    "# Ограничим выборку\n",
    "jp_sales_slice = jp_sales[jp_sales.index <= 6]"
   ]
  },
  {
   "cell_type": "code",
   "execution_count": 76,
   "id": "c7f35ed4",
   "metadata": {},
   "outputs": [
    {
     "data": {
      "image/png": "[encoded data removed]",
      "text/plain": [
       "<Figure size 800x400 with 1 Axes>"
      ]
     },
     "metadata": {},
     "output_type": "display_data"
    }
   ],
   "source": [
    "# Строим столбчатую диаграмму\n",
    "jp_sales_slice.plot(kind='bar', \n",
    "              x='platform',\n",
    "              y='jp_cnt_games',\n",
    "              rot=0,\n",
    "              figsize=(8, 4),\n",
    "              color='#61a6f9',\n",
    "              legend=False\n",
    "               \n",
    ")\n",
    "\n",
    "plt.grid(True, linestyle='--', alpha=0.7)\n",
    "\n",
    "# Настраиваем оформление графика\n",
    "plt.title(f'Топ-7 платформ по количеству млн. проданных копий в Японии')\n",
    "plt.xlabel('Платформа')\n",
    "plt.ylabel('Кол-во выпущенных игр')\n",
    "\n",
    "# Выводим график\n",
    "plt.show()"
   ]
  },
  {
   "cell_type": "markdown",
   "id": "08ca5d4e-4d82-417d-a6c0-683ca157fa1d",
   "metadata": {},
   "source": [
    "#### Общий график продаж по всем регионам"
   ]
  },
  {
   "cell_type": "code",
   "execution_count": 77,
   "id": "9e108f62",
   "metadata": {},
   "outputs": [],
   "source": [
    "df_merget = na_sales.merge(eu_sales, on='platform')\n",
    "df_merget = df_merget.merge(jp_sales, on='platform')"
   ]
  },
  {
   "cell_type": "code",
   "execution_count": 78,
   "id": "30daa45c",
   "metadata": {},
   "outputs": [
    {
     "data": {
      "text/html": [
       "<div>\n",
       "<style scoped>\n",
       "    .dataframe tbody tr th:only-of-type {\n",
       "        vertical-align: middle;\n",
       "    }\n",
       "\n",
       "    .dataframe tbody tr th {\n",
       "        vertical-align: top;\n",
       "    }\n",
       "\n",
       "    .dataframe thead th {\n",
       "        text-align: right;\n",
       "    }\n",
       "</style>\n",
       "<table border=\"1\" class=\"dataframe\">\n",
       "  <thead>\n",
       "    <tr style=\"text-align: right;\">\n",
       "      <th></th>\n",
       "      <th>platform</th>\n",
       "      <th>na_cnt_games</th>\n",
       "      <th>na_share</th>\n",
       "      <th>eu_cnt_games</th>\n",
       "      <th>eu_share</th>\n",
       "      <th>jp_cnt_games</th>\n",
       "      <th>jp_share</th>\n",
       "    </tr>\n",
       "  </thead>\n",
       "  <tbody>\n",
       "    <tr>\n",
       "      <th>0</th>\n",
       "      <td>PS2</td>\n",
       "      <td>572.92</td>\n",
       "      <td>0.176525</td>\n",
       "      <td>331.963784</td>\n",
       "      <td>0.183168</td>\n",
       "      <td>137.540000</td>\n",
       "      <td>0.190286</td>\n",
       "    </tr>\n",
       "    <tr>\n",
       "      <th>1</th>\n",
       "      <td>X360</td>\n",
       "      <td>567.44</td>\n",
       "      <td>0.174836</td>\n",
       "      <td>252.299785</td>\n",
       "      <td>0.139212</td>\n",
       "      <td>12.224043</td>\n",
       "      <td>0.016912</td>\n",
       "    </tr>\n",
       "    <tr>\n",
       "      <th>2</th>\n",
       "      <td>WII</td>\n",
       "      <td>484.79</td>\n",
       "      <td>0.149371</td>\n",
       "      <td>255.730000</td>\n",
       "      <td>0.141104</td>\n",
       "      <td>68.280000</td>\n",
       "      <td>0.094465</td>\n",
       "    </tr>\n",
       "    <tr>\n",
       "      <th>3</th>\n",
       "      <td>DS</td>\n",
       "      <td>380.31</td>\n",
       "      <td>0.117179</td>\n",
       "      <td>187.441022</td>\n",
       "      <td>0.103425</td>\n",
       "      <td>175.071260</td>\n",
       "      <td>0.242210</td>\n",
       "    </tr>\n",
       "    <tr>\n",
       "      <th>4</th>\n",
       "      <td>PS3</td>\n",
       "      <td>368.08</td>\n",
       "      <td>0.113411</td>\n",
       "      <td>301.670000</td>\n",
       "      <td>0.166453</td>\n",
       "      <td>68.190000</td>\n",
       "      <td>0.094340</td>\n",
       "    </tr>\n",
       "    <tr>\n",
       "      <th>5</th>\n",
       "      <td>GBA</td>\n",
       "      <td>184.12</td>\n",
       "      <td>0.056730</td>\n",
       "      <td>74.170449</td>\n",
       "      <td>0.040925</td>\n",
       "      <td>46.560000</td>\n",
       "      <td>0.064415</td>\n",
       "    </tr>\n",
       "    <tr>\n",
       "      <th>6</th>\n",
       "      <td>XB</td>\n",
       "      <td>182.06</td>\n",
       "      <td>0.056095</td>\n",
       "      <td>59.650000</td>\n",
       "      <td>0.032913</td>\n",
       "      <td>1.380000</td>\n",
       "      <td>0.001909</td>\n",
       "    </tr>\n",
       "    <tr>\n",
       "      <th>7</th>\n",
       "      <td>GC</td>\n",
       "      <td>131.94</td>\n",
       "      <td>0.040653</td>\n",
       "      <td>38.320000</td>\n",
       "      <td>0.021144</td>\n",
       "      <td>21.340000</td>\n",
       "      <td>0.029524</td>\n",
       "    </tr>\n",
       "    <tr>\n",
       "      <th>8</th>\n",
       "      <td>PSP</td>\n",
       "      <td>107.27</td>\n",
       "      <td>0.033051</td>\n",
       "      <td>65.620000</td>\n",
       "      <td>0.036207</td>\n",
       "      <td>75.523060</td>\n",
       "      <td>0.104486</td>\n",
       "    </tr>\n",
       "    <tr>\n",
       "      <th>9</th>\n",
       "      <td>PS</td>\n",
       "      <td>65.71</td>\n",
       "      <td>0.020246</td>\n",
       "      <td>46.940000</td>\n",
       "      <td>0.025900</td>\n",
       "      <td>20.100000</td>\n",
       "      <td>0.027808</td>\n",
       "    </tr>\n",
       "    <tr>\n",
       "      <th>10</th>\n",
       "      <td>3DS</td>\n",
       "      <td>60.01</td>\n",
       "      <td>0.018490</td>\n",
       "      <td>45.150000</td>\n",
       "      <td>0.024912</td>\n",
       "      <td>56.380000</td>\n",
       "      <td>0.078001</td>\n",
       "    </tr>\n",
       "    <tr>\n",
       "      <th>11</th>\n",
       "      <td>PC</td>\n",
       "      <td>56.70</td>\n",
       "      <td>0.017470</td>\n",
       "      <td>103.370000</td>\n",
       "      <td>0.057037</td>\n",
       "      <td>0.080000</td>\n",
       "      <td>0.000111</td>\n",
       "    </tr>\n",
       "    <tr>\n",
       "      <th>12</th>\n",
       "      <td>N64</td>\n",
       "      <td>21.88</td>\n",
       "      <td>0.006742</td>\n",
       "      <td>6.130000</td>\n",
       "      <td>0.003382</td>\n",
       "      <td>8.250000</td>\n",
       "      <td>0.011414</td>\n",
       "    </tr>\n",
       "    <tr>\n",
       "      <th>13</th>\n",
       "      <td>WIIU</td>\n",
       "      <td>18.74</td>\n",
       "      <td>0.005774</td>\n",
       "      <td>11.980000</td>\n",
       "      <td>0.006610</td>\n",
       "      <td>5.700000</td>\n",
       "      <td>0.007886</td>\n",
       "    </tr>\n",
       "    <tr>\n",
       "      <th>14</th>\n",
       "      <td>XONE</td>\n",
       "      <td>11.85</td>\n",
       "      <td>0.003651</td>\n",
       "      <td>5.340000</td>\n",
       "      <td>0.002946</td>\n",
       "      <td>0.020000</td>\n",
       "      <td>0.000028</td>\n",
       "    </tr>\n",
       "    <tr>\n",
       "      <th>15</th>\n",
       "      <td>PS4</td>\n",
       "      <td>10.13</td>\n",
       "      <td>0.003121</td>\n",
       "      <td>11.050000</td>\n",
       "      <td>0.006097</td>\n",
       "      <td>0.940000</td>\n",
       "      <td>0.001300</td>\n",
       "    </tr>\n",
       "    <tr>\n",
       "      <th>16</th>\n",
       "      <td>PSV</td>\n",
       "      <td>9.95</td>\n",
       "      <td>0.003066</td>\n",
       "      <td>9.540000</td>\n",
       "      <td>0.005264</td>\n",
       "      <td>7.300000</td>\n",
       "      <td>0.010099</td>\n",
       "    </tr>\n",
       "    <tr>\n",
       "      <th>17</th>\n",
       "      <td>GB</td>\n",
       "      <td>9.12</td>\n",
       "      <td>0.002810</td>\n",
       "      <td>5.190000</td>\n",
       "      <td>0.002864</td>\n",
       "      <td>13.010000</td>\n",
       "      <td>0.017999</td>\n",
       "    </tr>\n",
       "    <tr>\n",
       "      <th>18</th>\n",
       "      <td>DC</td>\n",
       "      <td>2.53</td>\n",
       "      <td>0.000780</td>\n",
       "      <td>0.790000</td>\n",
       "      <td>0.000436</td>\n",
       "      <td>3.960000</td>\n",
       "      <td>0.005479</td>\n",
       "    </tr>\n",
       "    <tr>\n",
       "      <th>19</th>\n",
       "      <td>WS</td>\n",
       "      <td>0.00</td>\n",
       "      <td>0.000000</td>\n",
       "      <td>0.000000</td>\n",
       "      <td>0.000000</td>\n",
       "      <td>0.960000</td>\n",
       "      <td>0.001328</td>\n",
       "    </tr>\n",
       "  </tbody>\n",
       "</table>\n",
       "</div>"
      ],
      "text/plain": [
       "   platform  na_cnt_games  na_share  eu_cnt_games  eu_share  jp_cnt_games  \\\n",
       "0       PS2        572.92  0.176525    331.963784  0.183168    137.540000   \n",
       "1      X360        567.44  0.174836    252.299785  0.139212     12.224043   \n",
       "2       WII        484.79  0.149371    255.730000  0.141104     68.280000   \n",
       "3        DS        380.31  0.117179    187.441022  0.103425    175.071260   \n",
       "4       PS3        368.08  0.113411    301.670000  0.166453     68.190000   \n",
       "5       GBA        184.12  0.056730     74.170449  0.040925     46.560000   \n",
       "6        XB        182.06  0.056095     59.650000  0.032913      1.380000   \n",
       "7        GC        131.94  0.040653     38.320000  0.021144     21.340000   \n",
       "8       PSP        107.27  0.033051     65.620000  0.036207     75.523060   \n",
       "9        PS         65.71  0.020246     46.940000  0.025900     20.100000   \n",
       "10      3DS         60.01  0.018490     45.150000  0.024912     56.380000   \n",
       "11       PC         56.70  0.017470    103.370000  0.057037      0.080000   \n",
       "12      N64         21.88  0.006742      6.130000  0.003382      8.250000   \n",
       "13     WIIU         18.74  0.005774     11.980000  0.006610      5.700000   \n",
       "14     XONE         11.85  0.003651      5.340000  0.002946      0.020000   \n",
       "15      PS4         10.13  0.003121     11.050000  0.006097      0.940000   \n",
       "16      PSV          9.95  0.003066      9.540000  0.005264      7.300000   \n",
       "17       GB          9.12  0.002810      5.190000  0.002864     13.010000   \n",
       "18       DC          2.53  0.000780      0.790000  0.000436      3.960000   \n",
       "19       WS          0.00  0.000000      0.000000  0.000000      0.960000   \n",
       "\n",
       "    jp_share  \n",
       "0   0.190286  \n",
       "1   0.016912  \n",
       "2   0.094465  \n",
       "3   0.242210  \n",
       "4   0.094340  \n",
       "5   0.064415  \n",
       "6   0.001909  \n",
       "7   0.029524  \n",
       "8   0.104486  \n",
       "9   0.027808  \n",
       "10  0.078001  \n",
       "11  0.000111  \n",
       "12  0.011414  \n",
       "13  0.007886  \n",
       "14  0.000028  \n",
       "15  0.001300  \n",
       "16  0.010099  \n",
       "17  0.017999  \n",
       "18  0.005479  \n",
       "19  0.001328  "
      ]
     },
     "execution_count": 78,
     "metadata": {},
     "output_type": "execute_result"
    }
   ],
   "source": [
    "df_merget.sort_values(by='na_share', ascending=False)"
   ]
  },
  {
   "cell_type": "code",
   "execution_count": 79,
   "id": "ebd0d8be",
   "metadata": {},
   "outputs": [
    {
     "data": {
      "image/png": "[encoded data removed]",
      "text/plain": [
       "<Figure size 800x400 with 1 Axes>"
      ]
     },
     "metadata": {},
     "output_type": "display_data"
    }
   ],
   "source": [
    "df_merget = df_merget[df_merget.index <= 4]\n",
    "\n",
    "colors = ['#b965e4', '#eb88b1', '#f5c05a']\n",
    "\n",
    "# Строим столбчатую диаграмму\n",
    "df_merget.plot(kind='bar', \n",
    "              x='platform',\n",
    "              y=['na_share', 'eu_share', 'jp_share'],\n",
    "              rot=0,\n",
    "              figsize=(8, 4),\n",
    "              legend=True,\n",
    "              color=colors      \n",
    ")\n",
    "\n",
    "plt.grid(True, linestyle='--', alpha=0.7)\n",
    "\n",
    "# Настраиваем оформление графика\n",
    "plt.title(f'Топ-5 наиболее популярных платформ по доле выпущенных игр')\n",
    "plt.xlabel('Платформа')\n",
    "plt.ylabel('Кол-во выпущенных игр')\n",
    "\n",
    "# Выводим график\n",
    "plt.show()"
   ]
  },
  {
   "cell_type": "markdown",
   "id": "f03d3070-fc1b-4155-ade8-5beaf8d76d56",
   "metadata": {},
   "source": [
    "#### Промежуточный вывод\n",
    "\n",
    "1. Наибольшее количество выпущенных игр у платформы **PS2** (2127).\n",
    "2. Наибольшее количество проданных копий в Северной Америке у платформы **PS2** (572 млн.), что составляет 17% от общего количества. Наименее популярны платформы **DC** (2.53 млн.) и **WS** (0).\n",
    "4. В Европе также лидирует платформа **PS2** (331 млн.), что составляет 18% от общего количества. На последнем месте **DC** (0.79 млн.) и **WS** (0).\n",
    "5. В Японии результаты существенно отличаются, на первом месте **DS** (175 млн.), на последенем **XONE** (0.02 млн.). Платформа **PS2** находящаяся на первом месте по количеству выпущенных игр и количеству проданных млн. копий в Северной Америке и Европе, в Японии находится на втором месте по популярности **PS2** (137 млн.).                                                                                                         "
   ]
  },
  {
   "cell_type": "markdown",
   "id": "69ba375b",
   "metadata": {},
   "source": [
    "### Топ игр по жанрам"
   ]
  },
  {
   "cell_type": "markdown",
   "id": "af69f1d9-27ed-4564-8b6d-71cb0b63ae05",
   "metadata": {},
   "source": [
    "#### Топ по количеству выпущенных игры\n",
    "\n",
    "Проведем дополнительный анализ выпуска игр по жанрам."
   ]
  },
  {
   "cell_type": "code",
   "execution_count": 80,
   "id": "43542b4d",
   "metadata": {},
   "outputs": [
    {
     "data": {
      "text/html": [
       "<div>\n",
       "<style scoped>\n",
       "    .dataframe tbody tr th:only-of-type {\n",
       "        vertical-align: middle;\n",
       "    }\n",
       "\n",
       "    .dataframe tbody tr th {\n",
       "        vertical-align: top;\n",
       "    }\n",
       "\n",
       "    .dataframe thead th {\n",
       "        text-align: right;\n",
       "    }\n",
       "</style>\n",
       "<table border=\"1\" class=\"dataframe\">\n",
       "  <thead>\n",
       "    <tr style=\"text-align: right;\">\n",
       "      <th></th>\n",
       "      <th>genre</th>\n",
       "      <th>cnt_games_g</th>\n",
       "    </tr>\n",
       "  </thead>\n",
       "  <tbody>\n",
       "    <tr>\n",
       "      <th>0</th>\n",
       "      <td>action</td>\n",
       "      <td>2460</td>\n",
       "    </tr>\n",
       "    <tr>\n",
       "      <th>1</th>\n",
       "      <td>sports</td>\n",
       "      <td>1818</td>\n",
       "    </tr>\n",
       "    <tr>\n",
       "      <th>2</th>\n",
       "      <td>misc</td>\n",
       "      <td>1484</td>\n",
       "    </tr>\n",
       "    <tr>\n",
       "      <th>3</th>\n",
       "      <td>role-playing</td>\n",
       "      <td>1079</td>\n",
       "    </tr>\n",
       "    <tr>\n",
       "      <th>4</th>\n",
       "      <td>adventure</td>\n",
       "      <td>1009</td>\n",
       "    </tr>\n",
       "    <tr>\n",
       "      <th>5</th>\n",
       "      <td>shooter</td>\n",
       "      <td>1001</td>\n",
       "    </tr>\n",
       "    <tr>\n",
       "      <th>6</th>\n",
       "      <td>racing</td>\n",
       "      <td>966</td>\n",
       "    </tr>\n",
       "    <tr>\n",
       "      <th>7</th>\n",
       "      <td>simulation</td>\n",
       "      <td>724</td>\n",
       "    </tr>\n",
       "    <tr>\n",
       "      <th>8</th>\n",
       "      <td>platform</td>\n",
       "      <td>682</td>\n",
       "    </tr>\n",
       "    <tr>\n",
       "      <th>9</th>\n",
       "      <td>fighting</td>\n",
       "      <td>580</td>\n",
       "    </tr>\n",
       "    <tr>\n",
       "      <th>10</th>\n",
       "      <td>strategy</td>\n",
       "      <td>513</td>\n",
       "    </tr>\n",
       "    <tr>\n",
       "      <th>11</th>\n",
       "      <td>puzzle</td>\n",
       "      <td>465</td>\n",
       "    </tr>\n",
       "  </tbody>\n",
       "</table>\n",
       "</div>"
      ],
      "text/plain": [
       "           genre  cnt_games_g\n",
       "0         action         2460\n",
       "1         sports         1818\n",
       "2           misc         1484\n",
       "3   role-playing         1079\n",
       "4      adventure         1009\n",
       "5        shooter         1001\n",
       "6         racing          966\n",
       "7     simulation          724\n",
       "8       platform          682\n",
       "9       fighting          580\n",
       "10      strategy          513\n",
       "11        puzzle          465"
      ]
     },
     "execution_count": 80,
     "metadata": {},
     "output_type": "execute_result"
    }
   ],
   "source": [
    "grouped_by_genre = df_actual.groupby('genre').agg(cnt_games_g=('platform', \n",
    "                                                                    'count')).sort_values(by='cnt_games_g',\n",
    "                                                                                          ascending=False)\n",
    "grouped_by_genre = grouped_by_genre.reset_index()\n",
    "grouped_by_genre"
   ]
  },
  {
   "cell_type": "code",
   "execution_count": 81,
   "id": "4f9b894c",
   "metadata": {},
   "outputs": [
    {
     "data": {
      "image/png": "[encoded data removed]",
      "text/plain": [
       "<Figure size 1200x400 with 1 Axes>"
      ]
     },
     "metadata": {},
     "output_type": "display_data"
    }
   ],
   "source": [
    "# Строим столбчатую диаграмму\n",
    "grouped_by_genre.plot(kind='bar', \n",
    "                         x='genre',\n",
    "                         rot=0,\n",
    "                         figsize=(12, 4),\n",
    "                         color='#b965e4',\n",
    "                         legend=False\n",
    "               \n",
    ")\n",
    "\n",
    "plt.grid(True, linestyle='--', alpha=0.7)\n",
    "\n",
    "# Настраиваем оформление графика\n",
    "plt.title(f'Распределение количества выпущенных игр по жанрам')\n",
    "plt.xlabel('Жанр')\n",
    "plt.ylabel('Кол-во выпущенных игр')\n",
    "\n",
    "# Выводим график\n",
    "plt.show()"
   ]
  },
  {
   "cell_type": "markdown",
   "id": "33e94402-fb0f-4bf5-951b-d6111d9e409f",
   "metadata": {},
   "source": [
    "#### Количество проданных копий в Северной Америке"
   ]
  },
  {
   "cell_type": "code",
   "execution_count": 82,
   "id": "6d61a1f3",
   "metadata": {},
   "outputs": [
    {
     "data": {
      "text/html": [
       "<div>\n",
       "<style scoped>\n",
       "    .dataframe tbody tr th:only-of-type {\n",
       "        vertical-align: middle;\n",
       "    }\n",
       "\n",
       "    .dataframe tbody tr th {\n",
       "        vertical-align: top;\n",
       "    }\n",
       "\n",
       "    .dataframe thead th {\n",
       "        text-align: right;\n",
       "    }\n",
       "</style>\n",
       "<table border=\"1\" class=\"dataframe\">\n",
       "  <thead>\n",
       "    <tr style=\"text-align: right;\">\n",
       "      <th></th>\n",
       "      <th>genre</th>\n",
       "      <th>na_cnt_games</th>\n",
       "    </tr>\n",
       "  </thead>\n",
       "  <tbody>\n",
       "    <tr>\n",
       "      <th>0</th>\n",
       "      <td>action</td>\n",
       "      <td>679.74</td>\n",
       "    </tr>\n",
       "    <tr>\n",
       "      <th>1</th>\n",
       "      <td>sports</td>\n",
       "      <td>543.26</td>\n",
       "    </tr>\n",
       "    <tr>\n",
       "      <th>2</th>\n",
       "      <td>shooter</td>\n",
       "      <td>416.21</td>\n",
       "    </tr>\n",
       "    <tr>\n",
       "      <th>3</th>\n",
       "      <td>misc</td>\n",
       "      <td>350.22</td>\n",
       "    </tr>\n",
       "    <tr>\n",
       "      <th>4</th>\n",
       "      <td>racing</td>\n",
       "      <td>263.57</td>\n",
       "    </tr>\n",
       "    <tr>\n",
       "      <th>5</th>\n",
       "      <td>platform</td>\n",
       "      <td>250.76</td>\n",
       "    </tr>\n",
       "    <tr>\n",
       "      <th>6</th>\n",
       "      <td>role-playing</td>\n",
       "      <td>248.83</td>\n",
       "    </tr>\n",
       "    <tr>\n",
       "      <th>7</th>\n",
       "      <td>simulation</td>\n",
       "      <td>159.54</td>\n",
       "    </tr>\n",
       "    <tr>\n",
       "      <th>8</th>\n",
       "      <td>fighting</td>\n",
       "      <td>148.34</td>\n",
       "    </tr>\n",
       "    <tr>\n",
       "      <th>9</th>\n",
       "      <td>adventure</td>\n",
       "      <td>76.49</td>\n",
       "    </tr>\n",
       "    <tr>\n",
       "      <th>10</th>\n",
       "      <td>puzzle</td>\n",
       "      <td>63.50</td>\n",
       "    </tr>\n",
       "    <tr>\n",
       "      <th>11</th>\n",
       "      <td>strategy</td>\n",
       "      <td>45.09</td>\n",
       "    </tr>\n",
       "  </tbody>\n",
       "</table>\n",
       "</div>"
      ],
      "text/plain": [
       "           genre  na_cnt_games\n",
       "0         action        679.74\n",
       "1         sports        543.26\n",
       "2        shooter        416.21\n",
       "3           misc        350.22\n",
       "4         racing        263.57\n",
       "5       platform        250.76\n",
       "6   role-playing        248.83\n",
       "7     simulation        159.54\n",
       "8       fighting        148.34\n",
       "9      adventure         76.49\n",
       "10        puzzle         63.50\n",
       "11      strategy         45.09"
      ]
     },
     "execution_count": 82,
     "metadata": {},
     "output_type": "execute_result"
    }
   ],
   "source": [
    "# Рассчитаем количество млн. проданных копий в Северной Америке для каждого жанра\n",
    "na_sales_g = df_actual.groupby('genre').agg(na_cnt_games=('na_sales', 'sum')).sort_values(by='na_cnt_games',\n",
    "                                                                                                 ascending=False)\n",
    "# Сбросим индексы                                                                                     \n",
    "na_sales_g = na_sales_g.reset_index()\n",
    "\n",
    "na_sales_g"
   ]
  },
  {
   "cell_type": "code",
   "execution_count": 83,
   "id": "25eb0538",
   "metadata": {},
   "outputs": [
    {
     "data": {
      "image/png": "[encoded data removed]",
      "text/plain": [
       "<Figure size 1200x400 with 1 Axes>"
      ]
     },
     "metadata": {},
     "output_type": "display_data"
    }
   ],
   "source": [
    "# Строим столбчатую диаграмму\n",
    "na_sales_g.plot(kind='bar',\n",
    "              x='genre',\n",
    "              rot=0,\n",
    "              figsize=(12, 4),\n",
    "              color='#eb88b1',\n",
    "              legend=False              \n",
    ")\n",
    "\n",
    "plt.grid(True, linestyle='--', alpha=0.7)\n",
    "\n",
    "# Настраиваем оформление графика\n",
    "plt.title(f'Количество выпущенных игр по жанрам в Северной Америке')\n",
    "plt.xlabel('Жанр')\n",
    "plt.ylabel('Кол-во выпущенных игр')\n",
    "\n",
    "# Выводим график\n",
    "plt.show()"
   ]
  },
  {
   "cell_type": "markdown",
   "id": "f7a0eed9-bf0e-4438-a0d4-fd583040473d",
   "metadata": {},
   "source": [
    "#### Количество проданных копий в Европе"
   ]
  },
  {
   "cell_type": "code",
   "execution_count": 84,
   "id": "babbbc10",
   "metadata": {},
   "outputs": [
    {
     "data": {
      "text/html": [
       "<div>\n",
       "<style scoped>\n",
       "    .dataframe tbody tr th:only-of-type {\n",
       "        vertical-align: middle;\n",
       "    }\n",
       "\n",
       "    .dataframe tbody tr th {\n",
       "        vertical-align: top;\n",
       "    }\n",
       "\n",
       "    .dataframe thead th {\n",
       "        text-align: right;\n",
       "    }\n",
       "</style>\n",
       "<table border=\"1\" class=\"dataframe\">\n",
       "  <thead>\n",
       "    <tr style=\"text-align: right;\">\n",
       "      <th></th>\n",
       "      <th>genre</th>\n",
       "      <th>eu_cnt_games</th>\n",
       "    </tr>\n",
       "  </thead>\n",
       "  <tbody>\n",
       "    <tr>\n",
       "      <th>0</th>\n",
       "      <td>action</td>\n",
       "      <td>390.170708</td>\n",
       "    </tr>\n",
       "    <tr>\n",
       "      <th>1</th>\n",
       "      <td>sports</td>\n",
       "      <td>293.850000</td>\n",
       "    </tr>\n",
       "    <tr>\n",
       "      <th>2</th>\n",
       "      <td>shooter</td>\n",
       "      <td>228.500000</td>\n",
       "    </tr>\n",
       "    <tr>\n",
       "      <th>3</th>\n",
       "      <td>misc</td>\n",
       "      <td>183.413883</td>\n",
       "    </tr>\n",
       "    <tr>\n",
       "      <th>4</th>\n",
       "      <td>racing</td>\n",
       "      <td>177.890000</td>\n",
       "    </tr>\n",
       "    <tr>\n",
       "      <th>5</th>\n",
       "      <td>platform</td>\n",
       "      <td>132.780449</td>\n",
       "    </tr>\n",
       "    <tr>\n",
       "      <th>6</th>\n",
       "      <td>role-playing</td>\n",
       "      <td>127.520000</td>\n",
       "    </tr>\n",
       "    <tr>\n",
       "      <th>7</th>\n",
       "      <td>simulation</td>\n",
       "      <td>97.400000</td>\n",
       "    </tr>\n",
       "    <tr>\n",
       "      <th>8</th>\n",
       "      <td>fighting</td>\n",
       "      <td>67.820000</td>\n",
       "    </tr>\n",
       "    <tr>\n",
       "      <th>9</th>\n",
       "      <td>adventure</td>\n",
       "      <td>43.010000</td>\n",
       "    </tr>\n",
       "    <tr>\n",
       "      <th>10</th>\n",
       "      <td>puzzle</td>\n",
       "      <td>39.230000</td>\n",
       "    </tr>\n",
       "    <tr>\n",
       "      <th>11</th>\n",
       "      <td>strategy</td>\n",
       "      <td>30.760000</td>\n",
       "    </tr>\n",
       "  </tbody>\n",
       "</table>\n",
       "</div>"
      ],
      "text/plain": [
       "           genre  eu_cnt_games\n",
       "0         action    390.170708\n",
       "1         sports    293.850000\n",
       "2        shooter    228.500000\n",
       "3           misc    183.413883\n",
       "4         racing    177.890000\n",
       "5       platform    132.780449\n",
       "6   role-playing    127.520000\n",
       "7     simulation     97.400000\n",
       "8       fighting     67.820000\n",
       "9      adventure     43.010000\n",
       "10        puzzle     39.230000\n",
       "11      strategy     30.760000"
      ]
     },
     "execution_count": 84,
     "metadata": {},
     "output_type": "execute_result"
    }
   ],
   "source": [
    "# Рассчитаем количество млн. проданных копий в Северной Америке для каждого жанра\n",
    "eu_sales_g = df_actual.groupby('genre').agg(eu_cnt_games=('eu_sales', 'sum')).sort_values(by='eu_cnt_games',\n",
    "                                                                                                 ascending=False)\n",
    "# Сбросим индексы                                                                                     \n",
    "eu_sales_g = eu_sales_g.reset_index()\n",
    "\n",
    "# Рассчитаем долю проданных копий\n",
    "# na_sales['na_share'] = na_sales['na_cnt_games'] / na_sales['na_cnt_games'].sum()\n",
    "eu_sales_g"
   ]
  },
  {
   "cell_type": "code",
   "execution_count": 85,
   "id": "f11810d0",
   "metadata": {},
   "outputs": [
    {
     "data": {
      "image/png": "[encoded data removed]",
      "text/plain": [
       "<Figure size 1500x400 with 1 Axes>"
      ]
     },
     "metadata": {},
     "output_type": "display_data"
    }
   ],
   "source": [
    "# Строим столбчатую диаграмму\n",
    "eu_sales_g.plot(kind='bar',\n",
    "              x='genre',\n",
    "              rot=0,\n",
    "              figsize=(15, 4),\n",
    "              color='#eb88b1',\n",
    "              legend=False              \n",
    ")\n",
    "\n",
    "plt.grid(True, linestyle='--', alpha=0.7)\n",
    "\n",
    "# Настраиваем оформление графика\n",
    "plt.title(f'Количество выпущенных игр по жанрам в Европе')\n",
    "plt.xlabel('Жанр')\n",
    "plt.ylabel('Кол-во выпущенных игр')\n",
    "\n",
    "# Выводим график\n",
    "plt.show()"
   ]
  },
  {
   "cell_type": "markdown",
   "id": "a99634eb-2c86-433d-b52c-21b2ca8a083f",
   "metadata": {},
   "source": [
    "#### Количество проданных копий в Японии"
   ]
  },
  {
   "cell_type": "code",
   "execution_count": 86,
   "id": "9e5283b8",
   "metadata": {},
   "outputs": [
    {
     "data": {
      "text/html": [
       "<div>\n",
       "<style scoped>\n",
       "    .dataframe tbody tr th:only-of-type {\n",
       "        vertical-align: middle;\n",
       "    }\n",
       "\n",
       "    .dataframe tbody tr th {\n",
       "        vertical-align: top;\n",
       "    }\n",
       "\n",
       "    .dataframe thead th {\n",
       "        text-align: right;\n",
       "    }\n",
       "</style>\n",
       "<table border=\"1\" class=\"dataframe\">\n",
       "  <thead>\n",
       "    <tr style=\"text-align: right;\">\n",
       "      <th></th>\n",
       "      <th>genre</th>\n",
       "      <th>jp_cnt_games</th>\n",
       "    </tr>\n",
       "  </thead>\n",
       "  <tbody>\n",
       "    <tr>\n",
       "      <th>0</th>\n",
       "      <td>role-playing</td>\n",
       "      <td>210.550000</td>\n",
       "    </tr>\n",
       "    <tr>\n",
       "      <th>1</th>\n",
       "      <td>action</td>\n",
       "      <td>102.642721</td>\n",
       "    </tr>\n",
       "    <tr>\n",
       "      <th>2</th>\n",
       "      <td>misc</td>\n",
       "      <td>79.891260</td>\n",
       "    </tr>\n",
       "    <tr>\n",
       "      <th>3</th>\n",
       "      <td>sports</td>\n",
       "      <td>72.620000</td>\n",
       "    </tr>\n",
       "    <tr>\n",
       "      <th>4</th>\n",
       "      <td>platform</td>\n",
       "      <td>52.583060</td>\n",
       "    </tr>\n",
       "    <tr>\n",
       "      <th>5</th>\n",
       "      <td>fighting</td>\n",
       "      <td>38.531322</td>\n",
       "    </tr>\n",
       "    <tr>\n",
       "      <th>6</th>\n",
       "      <td>simulation</td>\n",
       "      <td>37.850000</td>\n",
       "    </tr>\n",
       "    <tr>\n",
       "      <th>7</th>\n",
       "      <td>adventure</td>\n",
       "      <td>33.740000</td>\n",
       "    </tr>\n",
       "    <tr>\n",
       "      <th>8</th>\n",
       "      <td>strategy</td>\n",
       "      <td>26.760000</td>\n",
       "    </tr>\n",
       "    <tr>\n",
       "      <th>9</th>\n",
       "      <td>racing</td>\n",
       "      <td>25.980000</td>\n",
       "    </tr>\n",
       "    <tr>\n",
       "      <th>10</th>\n",
       "      <td>puzzle</td>\n",
       "      <td>23.250000</td>\n",
       "    </tr>\n",
       "    <tr>\n",
       "      <th>11</th>\n",
       "      <td>shooter</td>\n",
       "      <td>18.410000</td>\n",
       "    </tr>\n",
       "  </tbody>\n",
       "</table>\n",
       "</div>"
      ],
      "text/plain": [
       "           genre  jp_cnt_games\n",
       "0   role-playing    210.550000\n",
       "1         action    102.642721\n",
       "2           misc     79.891260\n",
       "3         sports     72.620000\n",
       "4       platform     52.583060\n",
       "5       fighting     38.531322\n",
       "6     simulation     37.850000\n",
       "7      adventure     33.740000\n",
       "8       strategy     26.760000\n",
       "9         racing     25.980000\n",
       "10        puzzle     23.250000\n",
       "11       shooter     18.410000"
      ]
     },
     "execution_count": 86,
     "metadata": {},
     "output_type": "execute_result"
    }
   ],
   "source": [
    "# Рассчитаем количество млн. проданных копий в Северной Америке для каждого жанра\n",
    "jp_sales_g = df_actual.groupby('genre').agg(jp_cnt_games=('jp_sales', 'sum')).sort_values(by='jp_cnt_games',\n",
    "                                                                                                 ascending=False)\n",
    "# Сбросим индексы                                                                                     \n",
    "jp_sales_g = jp_sales_g.reset_index()\n",
    "\n",
    "# Рассчитаем долю проданных копий\n",
    "# na_sales['na_share'] = na_sales['na_cnt_games'] / na_sales['na_cnt_games'].sum()\n",
    "jp_sales_g"
   ]
  },
  {
   "cell_type": "code",
   "execution_count": 87,
   "id": "8d7c4fd5",
   "metadata": {},
   "outputs": [
    {
     "data": {
      "image/png": "[encoded data removed]",
      "text/plain": [
       "<Figure size 1200x400 with 1 Axes>"
      ]
     },
     "metadata": {},
     "output_type": "display_data"
    }
   ],
   "source": [
    "# Строим столбчатую диаграмму\n",
    "jp_sales_g.plot(kind='bar',\n",
    "              x='genre',\n",
    "              rot=0,\n",
    "              figsize=(12, 4),\n",
    "              color='#eb88b1',\n",
    "              legend=False              \n",
    ")\n",
    "\n",
    "plt.grid(True, linestyle='--', alpha=0.7)\n",
    "\n",
    "# Настраиваем оформление графика\n",
    "plt.title(f'Количество выпущенных игр по жанрам в Японии')\n",
    "plt.xlabel('Жанр')\n",
    "plt.ylabel('Кол-во выпущенных игр')\n",
    "\n",
    "# Выводим график\n",
    "plt.show()"
   ]
  },
  {
   "cell_type": "markdown",
   "id": "80ae4b3e-9043-42cc-92c2-d7f43a75579b",
   "metadata": {
    "jp-MarkdownHeadingCollapsed": true
   },
   "source": [
    "#### Промежуточный вывод\n",
    "\n",
    "**Топ-3 жанров по количеству выпущенных игр:**\n",
    "1. action - 2460 шт.;\n",
    "2. sports - 1818 шт.;\n",
    "3. misc - 1484 шт.;\n",
    "\n",
    "Наименее популярный жанр **puzzle**- 465 шт.\n",
    "\n",
    "**Кол-во млн. проданных копий по регионам**\n",
    "\n",
    "**Сверная Америка:**\n",
    "1. action\t679 млн.;\n",
    "2. sports\t543 млн.;\n",
    "3. shooter\t416 млн.;\n",
    "\n",
    "Наименее популярный жанр **strategy** - 45 млн.\n",
    "\n",
    "**Европа:**\n",
    "1. action\t390 млн.;\n",
    "2. sports\t293 млн.;\n",
    "3. shooter\t228 млн.;\n",
    "\n",
    "Наименее популярный жанр **strategy** - 30 млн.\n",
    "\n",
    "**Япония:**\n",
    "1. role-playing - 210 млн.;\n",
    "2. action - 102 млн.;\n",
    "3. misc - 79 млн.;\n",
    "\n",
    "Наименее популярный жанр **shooter** - 18 млн.\n",
    "\n",
    "Наимболее популярный жанр по кол-ву проданных млн. копий в Северной Америке и Европе **action** (679 и 390), в Японии находится на 2-ом месте 102 млн.\n",
    "\n",
    "Наимболее популярный в японии жанр **role-playing** (210 млн.), в Северной Америке находится на 7-ом месте 248 млн. проданных копий, в Европе также на 7-ом 127 млн. проданных копий. \n",
    "\n",
    "Жанр **strategy** одинаково не популярен как Америке и Европе, так и в Японии. При этом наименее популярный в Японии жанр **shooter**, в Северной Америке и Европе входит в тройку лидеров."
   ]
  },
  {
   "cell_type": "markdown",
   "id": "c0158881",
   "metadata": {
    "id": "c0158881"
   },
   "source": [
    "## Итоговый вывод\n",
    "\n",
    "### Проделанная работа\n",
    "\n",
    "1. Приведение типов данных к корректным форматам.\n",
    "2. Обработка пропущенных значений.  \n",
    "3. Очистка данных от явных и неявных дубликатов.   \n",
    "4. Формирование среза данных: были отобраны игры, выпущенные в период с 2000 по 2013 год включительно (по полю `year_of_release`).   \n",
    "5. Категоризация: на основе пользовательских и критических оценок были созданы шесть категорий. Для каждой категории посчитано количество игр.   \n",
    "6. Проведена группировка данных по игровым платформам. Выделены 7 самых популярных платформ по количеству выпущенных игр за указанный период.\n",
    "    \n",
    "\n",
    "---\n",
    "\n",
    "### Используемый срез данных\n",
    "\n",
    "Игры, выпущенные в период с 2000 по 2013 год включительно.\n",
    "\n",
    "---\n",
    "\n",
    "### Новые поля\n",
    "\n",
    "В результате обработки в датафрейм были добавлены следующие поля:\n",
    "\n",
    "- `year_int` — год выхода игры в виде целого числа (для фильтрации по периоду);\n",
    "- `user_score_category` — категория игры по пользовательской оценке; \n",
    "- `critic_score_category` — категория игры по оценке критиков.\n",
    "    \n",
    "\n",
    "---\n",
    "\n",
    "### Вывод\n",
    "\n",
    "С 2000 по 2013 год наибольшее количество игр выпустили следующие платформы:\n",
    "\n",
    "- **PS2** — 2127 игр\n",
    "- **DS** — 2120 игр\n",
    "- **WII** — 1275 игр\n",
    "   \n",
    "\n",
    "Больше всего игр (8104) попали в категорию со **средней оценкой** как от пользователей, так и от критиков. На втором месте — игры с **высокой оценкой пользователей и средней оценкой критиков** (1915 игр), на третьем — игры с **высокой оценкой как пользователей, так и критиков** (1085 игр).\n",
    "\n",
    "При этом:\n",
    "\n",
    "- Лишь **одна игра** получила высокую оценку критиков и низкую от пользователей.   \n",
    "- Всего **две игры** имели низкий рейтинг от критиков, но высокую пользовательскую оценку.\n",
    "    \n",
    "\n",
    "Это говорит о том, что чаще всего мнения критиков и пользователей совпадают, особенно в среднем диапазоне оценок.\n",
    "\n",
    "Наблюдаются значительные различия в популярности платформ по регионам:\n",
    "\n",
    "|Регион|1-е место|2-е место|3-е место|\n",
    "|---|---|---|---|\n",
    "|Северная Америка|PS2 (572 млн копий)|X360 (567 млн копий)|WII (484 млн копий)|\n",
    "|Европа|PS2 (331 млн копий)|PS3 (301 млн копий)|WII (255 млн копий)|\n",
    "|Япония|DS (175 млн копий)|PS2 (137 млн копий)|PSP (75 млн копий)|\n",
    "\n",
    "- **PS2** — самая популярная платформа в Северной Америке и Европе.   \n",
    "- **DS** лидирует по продажам в Японии.\n",
    "\n",
    "Наименее популярные платформы:\n",
    "\n",
    "- В **Северной Америке** и **Европе** — **WS**, с нулевым объемом продаж.  \n",
    "- В **Японии** — **XONE**, также с нулевыми продажами.\n",
    "    \n",
    "\n",
    "Что касается жанров, то здесь региональные различия еще ярче:\n",
    "\n",
    "**Топ-3 жанра в Северной Америке и Европе:**\n",
    "\n",
    "1. Action  \n",
    "2. Sports   \n",
    "3. Shooter\n",
    "    \n",
    "**Топ-3 жанра в Японии:**\n",
    "1. Role-Playing   \n",
    "2. Action   \n",
    "3. Misc \n",
    "\n",
    "Таким образом, жанр **Role-Playing**, занимающий первое место в Японии, в Северной Америке и Европе находится лишь в середине рейтинга. А вот жанр **Shooter**, популярный на Западе, в Японии занимает последнее место."
   ]
  }
 ],
 "metadata": {
  "ExecuteTimeLog": [
   {
    "duration": 415,
    "start_time": "2025-01-12T10:54:14.348Z"
   },
   {
    "duration": 79,
    "start_time": "2025-01-12T10:56:39.392Z"
   },
   {
    "duration": 10,
    "start_time": "2025-01-12T10:56:48.791Z"
   },
   {
    "duration": 6,
    "start_time": "2025-01-12T10:57:49.702Z"
   },
   {
    "duration": 4,
    "start_time": "2025-01-12T10:58:19.433Z"
   },
   {
    "duration": 76,
    "start_time": "2025-01-12T11:00:29.653Z"
   },
   {
    "duration": 14,
    "start_time": "2025-01-12T11:00:33.183Z"
   },
   {
    "duration": 21,
    "start_time": "2025-01-12T11:02:19.413Z"
   },
   {
    "duration": 12,
    "start_time": "2025-01-12T11:02:39.547Z"
   },
   {
    "duration": 13,
    "start_time": "2025-01-12T11:03:07.873Z"
   },
   {
    "duration": 8,
    "start_time": "2025-01-12T11:07:09.181Z"
   },
   {
    "duration": 3,
    "start_time": "2025-01-12T11:07:21.154Z"
   },
   {
    "duration": 3,
    "start_time": "2025-01-12T11:58:48.308Z"
   },
   {
    "duration": 3,
    "start_time": "2025-01-12T12:01:59.004Z"
   },
   {
    "duration": 5,
    "start_time": "2025-01-12T12:09:58.566Z"
   },
   {
    "duration": 4,
    "start_time": "2025-01-12T12:39:57.014Z"
   },
   {
    "duration": 9,
    "start_time": "2025-01-12T12:42:09.215Z"
   },
   {
    "duration": 10,
    "start_time": "2025-01-12T12:43:59.723Z"
   },
   {
    "duration": 9,
    "start_time": "2025-01-12T12:54:42.348Z"
   },
   {
    "duration": 4,
    "start_time": "2025-01-12T13:03:15.922Z"
   },
   {
    "duration": 4,
    "start_time": "2025-01-12T13:04:10.485Z"
   },
   {
    "duration": 1522,
    "start_time": "2025-01-12T13:05:37.677Z"
   },
   {
    "duration": 8,
    "start_time": "2025-01-12T13:06:14.737Z"
   },
   {
    "duration": 15,
    "start_time": "2025-01-12T13:06:27.748Z"
   },
   {
    "duration": 13,
    "start_time": "2025-01-12T13:08:08.135Z"
   },
   {
    "duration": 48,
    "start_time": "2025-01-12T19:00:16.855Z"
   },
   {
    "duration": 384,
    "start_time": "2025-01-12T19:00:24.161Z"
   },
   {
    "duration": 129,
    "start_time": "2025-01-12T19:00:26.396Z"
   },
   {
    "duration": 14,
    "start_time": "2025-01-12T19:00:29.120Z"
   },
   {
    "duration": 8,
    "start_time": "2025-01-12T19:00:31.942Z"
   },
   {
    "duration": 3,
    "start_time": "2025-01-12T19:00:36.324Z"
   },
   {
    "duration": 4,
    "start_time": "2025-01-12T19:00:39.398Z"
   },
   {
    "duration": 41,
    "start_time": "2025-01-12T19:00:43.938Z"
   },
   {
    "duration": 4,
    "start_time": "2025-01-12T19:01:41.150Z"
   },
   {
    "duration": 4,
    "start_time": "2025-01-12T19:01:50.090Z"
   },
   {
    "duration": 430,
    "start_time": "2025-01-12T19:02:21.423Z"
   },
   {
    "duration": 10,
    "start_time": "2025-01-12T19:05:57.920Z"
   },
   {
    "duration": 619,
    "start_time": "2025-01-12T19:19:04.549Z"
   },
   {
    "duration": 8,
    "start_time": "2025-01-12T19:25:31.569Z"
   },
   {
    "duration": 14,
    "start_time": "2025-01-12T19:25:52.272Z"
   },
   {
    "duration": 10,
    "start_time": "2025-01-12T19:26:31.038Z"
   },
   {
    "duration": 21,
    "start_time": "2025-01-12T19:26:57.431Z"
   },
   {
    "duration": 28,
    "start_time": "2025-01-12T19:27:28.933Z"
   },
   {
    "duration": 3,
    "start_time": "2025-01-12T19:29:58.027Z"
   },
   {
    "duration": 3,
    "start_time": "2025-01-12T19:30:11.428Z"
   },
   {
    "duration": 19,
    "start_time": "2025-01-12T19:31:00.997Z"
   },
   {
    "duration": 4,
    "start_time": "2025-01-12T19:31:33.328Z"
   },
   {
    "duration": 5,
    "start_time": "2025-01-12T19:37:07.023Z"
   },
   {
    "duration": 100,
    "start_time": "2025-01-12T19:37:51.604Z"
   },
   {
    "duration": 7,
    "start_time": "2025-01-12T19:38:10.802Z"
   },
   {
    "duration": 54,
    "start_time": "2025-01-12T19:38:28.402Z"
   },
   {
    "duration": 5,
    "start_time": "2025-01-12T19:38:44.329Z"
   },
   {
    "duration": 13,
    "start_time": "2025-01-12T19:39:49.271Z"
   },
   {
    "duration": 12,
    "start_time": "2025-01-12T19:39:52.713Z"
   },
   {
    "duration": 7,
    "start_time": "2025-01-12T19:40:29.611Z"
   },
   {
    "duration": 9,
    "start_time": "2025-01-12T19:42:47.030Z"
   },
   {
    "duration": 0,
    "start_time": "2025-01-12T19:53:51.929Z"
   },
   {
    "duration": 1382,
    "start_time": "2025-01-12T19:54:04.306Z"
   },
   {
    "duration": 1570,
    "start_time": "2025-01-12T19:54:16.364Z"
   },
   {
    "duration": 8,
    "start_time": "2025-01-12T19:54:28.002Z"
   },
   {
    "duration": 11,
    "start_time": "2025-01-12T19:54:48.096Z"
   },
   {
    "duration": 4,
    "start_time": "2025-01-12T19:55:36.936Z"
   },
   {
    "duration": 8,
    "start_time": "2025-01-12T19:56:58.184Z"
   },
   {
    "duration": 9,
    "start_time": "2025-01-12T19:58:02.178Z"
   },
   {
    "duration": 11,
    "start_time": "2025-01-12T20:00:40.408Z"
   },
   {
    "duration": 11,
    "start_time": "2025-01-12T20:01:01.204Z"
   },
   {
    "duration": 9,
    "start_time": "2025-01-12T20:02:11.840Z"
   },
   {
    "duration": 11,
    "start_time": "2025-01-12T20:02:51.845Z"
   },
   {
    "duration": 11,
    "start_time": "2025-01-12T20:03:05.776Z"
   },
   {
    "duration": 11,
    "start_time": "2025-01-12T20:03:16.072Z"
   },
   {
    "duration": 11,
    "start_time": "2025-01-12T20:03:32.922Z"
   },
   {
    "duration": 12,
    "start_time": "2025-01-12T20:03:41.627Z"
   },
   {
    "duration": 11,
    "start_time": "2025-01-12T20:16:27.074Z"
   },
   {
    "duration": 11,
    "start_time": "2025-01-12T20:16:40.069Z"
   },
   {
    "duration": 10,
    "start_time": "2025-01-12T20:17:46.995Z"
   },
   {
    "duration": 9,
    "start_time": "2025-01-12T20:18:39.851Z"
   },
   {
    "duration": 9,
    "start_time": "2025-01-12T20:19:00.356Z"
   },
   {
    "duration": 8,
    "start_time": "2025-01-12T20:19:41.205Z"
   },
   {
    "duration": 47,
    "start_time": "2025-01-13T02:47:06.399Z"
   },
   {
    "duration": 373,
    "start_time": "2025-01-13T02:47:11.950Z"
   },
   {
    "duration": 134,
    "start_time": "2025-01-13T02:47:13.923Z"
   },
   {
    "duration": 18,
    "start_time": "2025-01-13T02:47:19.736Z"
   },
   {
    "duration": 10,
    "start_time": "2025-01-13T02:47:23.638Z"
   },
   {
    "duration": 3,
    "start_time": "2025-01-13T02:47:28.839Z"
   },
   {
    "duration": 4,
    "start_time": "2025-01-13T02:47:32.486Z"
   },
   {
    "duration": 21,
    "start_time": "2025-01-13T02:47:37.344Z"
   },
   {
    "duration": 14,
    "start_time": "2025-01-13T02:47:40.480Z"
   },
   {
    "duration": 10,
    "start_time": "2025-01-13T02:47:46.285Z"
   },
   {
    "duration": 12,
    "start_time": "2025-01-13T02:47:48.904Z"
   },
   {
    "duration": 4,
    "start_time": "2025-01-13T03:05:48.102Z"
   },
   {
    "duration": 5,
    "start_time": "2025-01-13T03:06:03.188Z"
   },
   {
    "duration": 6,
    "start_time": "2025-01-13T03:07:33.359Z"
   },
   {
    "duration": 6,
    "start_time": "2025-01-13T03:14:21.561Z"
   },
   {
    "duration": 5,
    "start_time": "2025-01-13T03:14:48.419Z"
   },
   {
    "duration": 4,
    "start_time": "2025-01-13T03:16:57.937Z"
   },
   {
    "duration": 4,
    "start_time": "2025-01-13T03:16:59.835Z"
   },
   {
    "duration": 6,
    "start_time": "2025-01-13T03:17:26.598Z"
   },
   {
    "duration": 7,
    "start_time": "2025-01-13T03:29:41.439Z"
   },
   {
    "duration": 204,
    "start_time": "2025-01-13T03:29:44.266Z"
   },
   {
    "duration": 464,
    "start_time": "2025-01-13T03:30:02.401Z"
   },
   {
    "duration": 6,
    "start_time": "2025-01-13T03:30:48.453Z"
   },
   {
    "duration": 9,
    "start_time": "2025-01-13T03:31:01.674Z"
   },
   {
    "duration": 3,
    "start_time": "2025-01-13T03:31:25.675Z"
   },
   {
    "duration": 148,
    "start_time": "2025-01-13T03:31:26.974Z"
   },
   {
    "duration": 15,
    "start_time": "2025-01-13T03:31:29.203Z"
   },
   {
    "duration": 8,
    "start_time": "2025-01-13T03:31:32.766Z"
   },
   {
    "duration": 4,
    "start_time": "2025-01-13T03:31:38.000Z"
   },
   {
    "duration": 5,
    "start_time": "2025-01-13T03:31:41.013Z"
   },
   {
    "duration": 21,
    "start_time": "2025-01-13T03:31:44.799Z"
   },
   {
    "duration": 8,
    "start_time": "2025-01-13T03:31:49.175Z"
   },
   {
    "duration": 10,
    "start_time": "2025-01-13T03:31:53.461Z"
   },
   {
    "duration": 10,
    "start_time": "2025-01-13T03:31:58.864Z"
   },
   {
    "duration": 7,
    "start_time": "2025-01-13T03:32:11.872Z"
   },
   {
    "duration": 9,
    "start_time": "2025-01-13T03:32:13.366Z"
   },
   {
    "duration": 212,
    "start_time": "2025-01-13T03:32:30.166Z"
   },
   {
    "duration": 209,
    "start_time": "2025-01-13T03:39:46.300Z"
   },
   {
    "duration": 6991,
    "start_time": "2025-01-13T03:50:50.632Z"
   },
   {
    "duration": 30,
    "start_time": "2025-01-13T03:51:36.398Z"
   },
   {
    "duration": 6852,
    "start_time": "2025-01-13T03:51:53.118Z"
   },
   {
    "duration": 6375,
    "start_time": "2025-01-13T03:52:11.153Z"
   },
   {
    "duration": 3,
    "start_time": "2025-01-13T18:22:17.362Z"
   },
   {
    "duration": 3,
    "start_time": "2025-01-13T18:22:17.783Z"
   },
   {
    "duration": 2,
    "start_time": "2025-01-13T18:22:18.276Z"
   },
   {
    "duration": 369,
    "start_time": "2025-01-13T18:22:19.272Z"
   },
   {
    "duration": 95,
    "start_time": "2025-01-13T18:22:20.027Z"
   },
   {
    "duration": 15,
    "start_time": "2025-01-13T18:22:21.815Z"
   },
   {
    "duration": 10,
    "start_time": "2025-01-13T18:22:22.741Z"
   },
   {
    "duration": 3,
    "start_time": "2025-01-13T18:22:27.663Z"
   },
   {
    "duration": 4,
    "start_time": "2025-01-13T18:22:28.502Z"
   },
   {
    "duration": 20,
    "start_time": "2025-01-13T18:22:30.833Z"
   },
   {
    "duration": 12,
    "start_time": "2025-01-13T18:22:31.582Z"
   },
   {
    "duration": 7,
    "start_time": "2025-01-13T18:22:34.073Z"
   },
   {
    "duration": 9,
    "start_time": "2025-01-13T18:22:34.753Z"
   },
   {
    "duration": 9,
    "start_time": "2025-01-13T18:22:37.340Z"
   },
   {
    "duration": 6,
    "start_time": "2025-01-13T18:22:38.783Z"
   },
   {
    "duration": 231,
    "start_time": "2025-01-13T18:22:39.467Z"
   },
   {
    "duration": 208,
    "start_time": "2025-01-13T18:22:39.994Z"
   },
   {
    "duration": 19069,
    "start_time": "2025-01-13T18:22:42.234Z"
   },
   {
    "duration": 2,
    "start_time": "2025-01-13T18:23:36.749Z"
   },
   {
    "duration": 80,
    "start_time": "2025-01-13T18:23:37.278Z"
   },
   {
    "duration": 13,
    "start_time": "2025-01-13T18:23:39.921Z"
   },
   {
    "duration": 11,
    "start_time": "2025-01-13T18:23:42.689Z"
   },
   {
    "duration": 3,
    "start_time": "2025-01-13T18:23:47.041Z"
   },
   {
    "duration": 4,
    "start_time": "2025-01-13T18:23:49.698Z"
   },
   {
    "duration": 20,
    "start_time": "2025-01-13T18:23:52.928Z"
   },
   {
    "duration": 14,
    "start_time": "2025-01-13T18:23:55.010Z"
   },
   {
    "duration": 7,
    "start_time": "2025-01-13T18:23:57.873Z"
   },
   {
    "duration": 8,
    "start_time": "2025-01-13T18:24:00.673Z"
   },
   {
    "duration": 11,
    "start_time": "2025-01-13T18:24:04.518Z"
   },
   {
    "duration": 7,
    "start_time": "2025-01-13T18:24:07.364Z"
   },
   {
    "duration": 208,
    "start_time": "2025-01-13T18:24:10.259Z"
   },
   {
    "duration": 207,
    "start_time": "2025-01-13T18:24:12.818Z"
   },
   {
    "duration": 64,
    "start_time": "2025-01-13T18:34:40.595Z"
   },
   {
    "duration": 6,
    "start_time": "2025-01-13T18:35:02.026Z"
   },
   {
    "duration": 5,
    "start_time": "2025-01-13T18:37:07.537Z"
   },
   {
    "duration": 5834,
    "start_time": "2025-01-13T18:42:47.183Z"
   },
   {
    "duration": 8,
    "start_time": "2025-01-13T18:43:24.892Z"
   },
   {
    "duration": 22243,
    "start_time": "2025-01-13T18:45:08.349Z"
   },
   {
    "duration": 6,
    "start_time": "2025-01-13T18:45:57.488Z"
   },
   {
    "duration": 7,
    "start_time": "2025-01-13T18:47:16.383Z"
   },
   {
    "duration": 7,
    "start_time": "2025-01-13T18:47:21.770Z"
   },
   {
    "duration": 8,
    "start_time": "2025-01-13T18:49:52.785Z"
   },
   {
    "duration": 8,
    "start_time": "2025-01-13T18:50:18.365Z"
   },
   {
    "duration": 9,
    "start_time": "2025-01-13T18:50:31.321Z"
   },
   {
    "duration": 9,
    "start_time": "2025-01-13T18:50:42.318Z"
   },
   {
    "duration": 9,
    "start_time": "2025-01-13T18:51:09.254Z"
   },
   {
    "duration": 3,
    "start_time": "2025-01-13T18:58:53.898Z"
   },
   {
    "duration": 7,
    "start_time": "2025-01-13T18:58:54.880Z"
   },
   {
    "duration": 4,
    "start_time": "2025-01-13T19:16:37.881Z"
   },
   {
    "duration": 7,
    "start_time": "2025-01-13T19:16:39.802Z"
   },
   {
    "duration": 13,
    "start_time": "2025-01-13T19:25:57.642Z"
   },
   {
    "duration": 12,
    "start_time": "2025-01-13T19:27:43.512Z"
   },
   {
    "duration": 110,
    "start_time": "2025-01-13T19:29:45.053Z"
   },
   {
    "duration": 12,
    "start_time": "2025-01-13T19:30:12.470Z"
   },
   {
    "duration": 13,
    "start_time": "2025-01-13T19:31:50.744Z"
   },
   {
    "duration": 25,
    "start_time": "2025-01-13T19:35:03.790Z"
   },
   {
    "duration": 17,
    "start_time": "2025-01-13T19:35:32.695Z"
   },
   {
    "duration": 5,
    "start_time": "2025-01-13T19:38:21.885Z"
   },
   {
    "duration": 5,
    "start_time": "2025-01-13T19:38:40.341Z"
   },
   {
    "duration": 4,
    "start_time": "2025-01-13T19:39:46.044Z"
   },
   {
    "duration": 4,
    "start_time": "2025-01-13T19:45:01.940Z"
   },
   {
    "duration": 4,
    "start_time": "2025-01-13T19:45:18.699Z"
   },
   {
    "duration": 5,
    "start_time": "2025-01-13T19:45:21.919Z"
   },
   {
    "duration": 7,
    "start_time": "2025-01-13T19:55:14.250Z"
   },
   {
    "duration": 5,
    "start_time": "2025-01-13T19:55:23.352Z"
   },
   {
    "duration": 7,
    "start_time": "2025-01-13T19:56:28.988Z"
   },
   {
    "duration": 4,
    "start_time": "2025-01-13T19:56:38.766Z"
   },
   {
    "duration": 14,
    "start_time": "2025-01-13T19:58:32.373Z"
   },
   {
    "duration": 4,
    "start_time": "2025-01-13T19:59:26.663Z"
   },
   {
    "duration": 3,
    "start_time": "2025-01-13T19:59:38.145Z"
   },
   {
    "duration": 3,
    "start_time": "2025-01-13T20:01:30.949Z"
   },
   {
    "duration": 8,
    "start_time": "2025-01-13T20:02:48.688Z"
   },
   {
    "duration": 14,
    "start_time": "2025-01-13T20:02:53.306Z"
   },
   {
    "duration": 5,
    "start_time": "2025-01-13T20:03:24.841Z"
   },
   {
    "duration": 3,
    "start_time": "2025-01-13T20:19:46.934Z"
   },
   {
    "duration": 10,
    "start_time": "2025-01-13T20:22:23.121Z"
   },
   {
    "duration": 14,
    "start_time": "2025-01-13T20:24:48.138Z"
   },
   {
    "duration": 63,
    "start_time": "2025-01-16T20:56:36.507Z"
   },
   {
    "duration": 398,
    "start_time": "2025-01-16T20:56:47.059Z"
   },
   {
    "duration": 136,
    "start_time": "2025-01-16T20:56:47.601Z"
   },
   {
    "duration": 23,
    "start_time": "2025-01-16T20:56:48.534Z"
   },
   {
    "duration": 10,
    "start_time": "2025-01-16T20:56:50.331Z"
   },
   {
    "duration": 4,
    "start_time": "2025-01-16T20:56:55.600Z"
   },
   {
    "duration": 5,
    "start_time": "2025-01-16T20:56:56.166Z"
   },
   {
    "duration": 22,
    "start_time": "2025-01-16T20:56:58.554Z"
   },
   {
    "duration": 14,
    "start_time": "2025-01-16T20:56:59.199Z"
   },
   {
    "duration": 19,
    "start_time": "2025-01-16T20:57:01.209Z"
   },
   {
    "duration": 13,
    "start_time": "2025-01-16T20:57:01.704Z"
   },
   {
    "duration": 9,
    "start_time": "2025-01-16T20:57:04.340Z"
   },
   {
    "duration": 250,
    "start_time": "2025-01-16T20:57:05.156Z"
   },
   {
    "duration": 209,
    "start_time": "2025-01-16T20:57:05.618Z"
   },
   {
    "duration": 27486,
    "start_time": "2025-01-16T20:57:06.706Z"
   },
   {
    "duration": 28822,
    "start_time": "2025-01-16T20:57:34.194Z"
   },
   {
    "duration": 6,
    "start_time": "2025-01-16T20:58:03.019Z"
   },
   {
    "duration": 36,
    "start_time": "2025-01-16T20:58:03.028Z"
   },
   {
    "duration": 8,
    "start_time": "2025-01-16T20:58:03.066Z"
   },
   {
    "duration": 5,
    "start_time": "2025-01-16T20:58:03.076Z"
   },
   {
    "duration": 16,
    "start_time": "2025-01-16T20:58:03.083Z"
   },
   {
    "duration": 4,
    "start_time": "2025-01-16T20:58:03.100Z"
   },
   {
    "duration": 24,
    "start_time": "2025-01-16T20:58:03.106Z"
   },
   {
    "duration": 4,
    "start_time": "2025-01-16T20:58:03.133Z"
   },
   {
    "duration": 33,
    "start_time": "2025-01-16T20:58:03.139Z"
   },
   {
    "duration": 5,
    "start_time": "2025-01-16T20:58:03.174Z"
   },
   {
    "duration": 18,
    "start_time": "2025-01-16T20:58:03.180Z"
   },
   {
    "duration": 37,
    "start_time": "2025-01-16T20:58:03.235Z"
   },
   {
    "duration": 82,
    "start_time": "2025-01-16T21:03:23.264Z"
   },
   {
    "duration": 84,
    "start_time": "2025-01-16T21:03:54.999Z"
   },
   {
    "duration": 3,
    "start_time": "2025-01-16T21:16:22.500Z"
   },
   {
    "duration": 4,
    "start_time": "2025-01-16T21:16:53.221Z"
   },
   {
    "duration": 19,
    "start_time": "2025-01-16T21:17:47.772Z"
   },
   {
    "duration": 84,
    "start_time": "2025-01-16T21:17:53.785Z"
   },
   {
    "duration": 4,
    "start_time": "2025-01-16T21:17:59.371Z"
   },
   {
    "duration": 4,
    "start_time": "2025-01-16T21:19:21.379Z"
   },
   {
    "duration": 4,
    "start_time": "2025-01-16T21:19:41.670Z"
   },
   {
    "duration": 4,
    "start_time": "2025-01-16T21:20:33.739Z"
   },
   {
    "duration": 4,
    "start_time": "2025-01-16T21:23:54.822Z"
   },
   {
    "duration": 4,
    "start_time": "2025-01-16T21:24:48.083Z"
   },
   {
    "duration": 17,
    "start_time": "2025-01-16T21:32:03.127Z"
   },
   {
    "duration": 3,
    "start_time": "2025-01-16T21:32:49.692Z"
   },
   {
    "duration": 22,
    "start_time": "2025-01-16T21:33:02.806Z"
   },
   {
    "duration": 6,
    "start_time": "2025-01-16T21:35:41.766Z"
   },
   {
    "duration": 20,
    "start_time": "2025-01-16T21:35:48.916Z"
   },
   {
    "duration": 6,
    "start_time": "2025-01-16T21:38:54.752Z"
   },
   {
    "duration": 16,
    "start_time": "2025-01-16T21:38:56.597Z"
   },
   {
    "duration": 15,
    "start_time": "2025-01-16T21:39:08.279Z"
   },
   {
    "duration": 15,
    "start_time": "2025-01-16T21:39:21.946Z"
   },
   {
    "duration": 6,
    "start_time": "2025-01-16T21:39:35.669Z"
   },
   {
    "duration": 14,
    "start_time": "2025-01-16T21:39:37.920Z"
   },
   {
    "duration": 14,
    "start_time": "2025-01-16T21:40:05.171Z"
   },
   {
    "duration": 13,
    "start_time": "2025-01-16T21:40:22.140Z"
   },
   {
    "duration": 8,
    "start_time": "2025-01-16T21:41:14.297Z"
   },
   {
    "duration": 15,
    "start_time": "2025-01-16T21:41:16.481Z"
   },
   {
    "duration": 5,
    "start_time": "2025-01-16T21:42:52.696Z"
   },
   {
    "duration": 441,
    "start_time": "2025-01-17T19:46:20.390Z"
   },
   {
    "duration": 113,
    "start_time": "2025-01-17T19:46:20.875Z"
   },
   {
    "duration": 19,
    "start_time": "2025-01-17T19:46:21.285Z"
   },
   {
    "duration": 11,
    "start_time": "2025-01-17T19:46:21.637Z"
   },
   {
    "duration": 4,
    "start_time": "2025-01-17T19:46:23.224Z"
   },
   {
    "duration": 4,
    "start_time": "2025-01-17T19:46:23.491Z"
   },
   {
    "duration": 25,
    "start_time": "2025-01-17T19:46:24.642Z"
   },
   {
    "duration": 16,
    "start_time": "2025-01-17T19:46:24.903Z"
   },
   {
    "duration": 9,
    "start_time": "2025-01-17T19:46:25.703Z"
   },
   {
    "duration": 12,
    "start_time": "2025-01-17T19:46:25.977Z"
   },
   {
    "duration": 9,
    "start_time": "2025-01-17T19:46:27.488Z"
   },
   {
    "duration": 309,
    "start_time": "2025-01-17T19:46:27.731Z"
   },
   {
    "duration": 233,
    "start_time": "2025-01-17T19:46:28.042Z"
   },
   {
    "duration": 27860,
    "start_time": "2025-01-17T19:46:28.423Z"
   },
   {
    "duration": 29677,
    "start_time": "2025-01-17T19:46:56.285Z"
   },
   {
    "duration": 4,
    "start_time": "2025-01-17T19:47:25.964Z"
   },
   {
    "duration": 14,
    "start_time": "2025-01-17T19:47:25.971Z"
   },
   {
    "duration": 8,
    "start_time": "2025-01-17T19:47:25.987Z"
   },
   {
    "duration": 6,
    "start_time": "2025-01-17T19:47:25.997Z"
   },
   {
    "duration": 21,
    "start_time": "2025-01-17T19:47:26.005Z"
   },
   {
    "duration": 6,
    "start_time": "2025-01-17T19:47:26.027Z"
   },
   {
    "duration": 8,
    "start_time": "2025-01-17T19:47:26.060Z"
   },
   {
    "duration": 11,
    "start_time": "2025-01-17T19:47:26.071Z"
   },
   {
    "duration": 10,
    "start_time": "2025-01-17T19:47:26.084Z"
   },
   {
    "duration": 10,
    "start_time": "2025-01-17T19:47:26.096Z"
   },
   {
    "duration": 18,
    "start_time": "2025-01-17T19:47:26.108Z"
   },
   {
    "duration": 41,
    "start_time": "2025-01-17T19:47:26.127Z"
   },
   {
    "duration": 50,
    "start_time": "2025-01-17T19:47:26.170Z"
   },
   {
    "duration": 4,
    "start_time": "2025-01-17T19:47:26.222Z"
   },
   {
    "duration": 6,
    "start_time": "2025-01-17T19:48:50.212Z"
   },
   {
    "duration": 6,
    "start_time": "2025-01-17T19:51:05.208Z"
   },
   {
    "duration": 16,
    "start_time": "2025-01-17T19:51:16.379Z"
   },
   {
    "duration": 8,
    "start_time": "2025-01-17T19:51:51.781Z"
   },
   {
    "duration": 16,
    "start_time": "2025-01-17T19:51:53.934Z"
   },
   {
    "duration": 73,
    "start_time": "2025-01-17T19:52:51.919Z"
   },
   {
    "duration": 4,
    "start_time": "2025-01-17T19:53:16.378Z"
   },
   {
    "duration": 4,
    "start_time": "2025-01-17T19:57:29.078Z"
   },
   {
    "duration": 6,
    "start_time": "2025-01-17T19:58:57.576Z"
   },
   {
    "duration": 16,
    "start_time": "2025-01-17T19:59:00.304Z"
   },
   {
    "duration": 5,
    "start_time": "2025-01-17T19:59:09.855Z"
   },
   {
    "duration": 4,
    "start_time": "2025-01-17T19:59:19.126Z"
   },
   {
    "duration": 7,
    "start_time": "2025-01-17T20:12:29.474Z"
   },
   {
    "duration": 10,
    "start_time": "2025-01-17T20:13:08.882Z"
   },
   {
    "duration": 7,
    "start_time": "2025-01-17T20:13:57.801Z"
   },
   {
    "duration": 9,
    "start_time": "2025-01-17T20:14:21.699Z"
   },
   {
    "duration": 14,
    "start_time": "2025-01-17T20:14:38.915Z"
   },
   {
    "duration": 10,
    "start_time": "2025-01-17T20:16:30.517Z"
   },
   {
    "duration": 3,
    "start_time": "2025-01-17T20:16:50.901Z"
   },
   {
    "duration": 104,
    "start_time": "2025-01-17T20:16:56.233Z"
   },
   {
    "duration": 18,
    "start_time": "2025-01-17T20:16:58.316Z"
   },
   {
    "duration": 11,
    "start_time": "2025-01-17T20:17:04.220Z"
   },
   {
    "duration": 13,
    "start_time": "2025-01-17T20:17:39.928Z"
   },
   {
    "duration": 1453,
    "start_time": "2025-01-17T20:21:49.074Z"
   },
   {
    "duration": 1386,
    "start_time": "2025-01-17T20:26:43.364Z"
   },
   {
    "duration": 2,
    "start_time": "2025-01-17T20:27:13.715Z"
   },
   {
    "duration": 91,
    "start_time": "2025-01-17T20:27:14.228Z"
   },
   {
    "duration": 22,
    "start_time": "2025-01-17T20:27:15.182Z"
   },
   {
    "duration": 10,
    "start_time": "2025-01-17T20:27:16.234Z"
   },
   {
    "duration": 4,
    "start_time": "2025-01-17T20:27:20.459Z"
   },
   {
    "duration": 5,
    "start_time": "2025-01-17T20:27:21.084Z"
   },
   {
    "duration": 25,
    "start_time": "2025-01-17T20:27:25.963Z"
   },
   {
    "duration": 16,
    "start_time": "2025-01-17T20:27:30.252Z"
   },
   {
    "duration": 18,
    "start_time": "2025-01-17T20:28:26.336Z"
   },
   {
    "duration": 18,
    "start_time": "2025-01-17T20:28:26.768Z"
   },
   {
    "duration": 14,
    "start_time": "2025-01-17T20:28:27.168Z"
   },
   {
    "duration": 9,
    "start_time": "2025-01-17T20:28:27.812Z"
   },
   {
    "duration": 13,
    "start_time": "2025-01-17T20:28:28.167Z"
   },
   {
    "duration": 9,
    "start_time": "2025-01-17T20:28:29.210Z"
   },
   {
    "duration": 236,
    "start_time": "2025-01-17T20:28:29.415Z"
   },
   {
    "duration": 280,
    "start_time": "2025-01-17T20:28:29.660Z"
   },
   {
    "duration": 29364,
    "start_time": "2025-01-17T20:28:30.276Z"
   },
   {
    "duration": 30888,
    "start_time": "2025-01-17T20:28:59.643Z"
   },
   {
    "duration": 5,
    "start_time": "2025-01-17T20:29:30.533Z"
   },
   {
    "duration": 19,
    "start_time": "2025-01-17T20:29:30.540Z"
   },
   {
    "duration": 16,
    "start_time": "2025-01-17T20:29:30.561Z"
   },
   {
    "duration": 7,
    "start_time": "2025-01-17T20:29:30.579Z"
   },
   {
    "duration": 33,
    "start_time": "2025-01-17T20:29:30.587Z"
   },
   {
    "duration": 8,
    "start_time": "2025-01-17T20:29:30.622Z"
   },
   {
    "duration": 40,
    "start_time": "2025-01-17T20:29:30.632Z"
   },
   {
    "duration": 22,
    "start_time": "2025-01-17T20:29:30.675Z"
   },
   {
    "duration": 19,
    "start_time": "2025-01-17T20:29:30.699Z"
   },
   {
    "duration": 25,
    "start_time": "2025-01-17T20:29:30.720Z"
   },
   {
    "duration": 23,
    "start_time": "2025-01-17T20:29:30.746Z"
   },
   {
    "duration": 14,
    "start_time": "2025-01-17T20:29:30.771Z"
   },
   {
    "duration": 49,
    "start_time": "2025-01-17T20:29:30.787Z"
   },
   {
    "duration": 24,
    "start_time": "2025-01-17T20:29:30.837Z"
   },
   {
    "duration": 20,
    "start_time": "2025-01-17T20:29:30.918Z"
   },
   {
    "duration": 16,
    "start_time": "2025-01-17T20:30:38.360Z"
   },
   {
    "duration": 17,
    "start_time": "2025-01-17T20:30:40.804Z"
   },
   {
    "duration": 14,
    "start_time": "2025-01-17T20:30:59.188Z"
   },
   {
    "duration": 5,
    "start_time": "2025-01-17T20:32:56.152Z"
   },
   {
    "duration": 15,
    "start_time": "2025-01-17T20:32:58.702Z"
   },
   {
    "duration": 14,
    "start_time": "2025-01-17T20:33:03.664Z"
   },
   {
    "duration": 16,
    "start_time": "2025-01-17T20:33:17.103Z"
   },
   {
    "duration": 3,
    "start_time": "2025-01-17T20:33:32.020Z"
   },
   {
    "duration": 100,
    "start_time": "2025-01-17T20:33:32.436Z"
   },
   {
    "duration": 18,
    "start_time": "2025-01-17T20:33:32.646Z"
   },
   {
    "duration": 8,
    "start_time": "2025-01-17T20:33:32.875Z"
   },
   {
    "duration": 4,
    "start_time": "2025-01-17T20:33:34.594Z"
   },
   {
    "duration": 4,
    "start_time": "2025-01-17T20:33:34.889Z"
   },
   {
    "duration": 23,
    "start_time": "2025-01-17T20:33:35.588Z"
   },
   {
    "duration": 5,
    "start_time": "2025-01-17T20:33:35.785Z"
   },
   {
    "duration": 15,
    "start_time": "2025-01-17T20:33:35.989Z"
   },
   {
    "duration": 14,
    "start_time": "2025-01-17T20:33:36.185Z"
   },
   {
    "duration": 10,
    "start_time": "2025-01-17T20:33:37.102Z"
   },
   {
    "duration": 10,
    "start_time": "2025-01-17T20:33:37.378Z"
   },
   {
    "duration": 9,
    "start_time": "2025-01-17T20:33:38.851Z"
   },
   {
    "duration": 192,
    "start_time": "2025-01-17T20:33:39.181Z"
   },
   {
    "duration": 187,
    "start_time": "2025-01-17T20:33:39.519Z"
   },
   {
    "duration": 27866,
    "start_time": "2025-01-17T20:33:40.258Z"
   },
   {
    "duration": 29691,
    "start_time": "2025-01-17T20:34:08.126Z"
   },
   {
    "duration": 7,
    "start_time": "2025-01-17T20:34:37.819Z"
   },
   {
    "duration": 6,
    "start_time": "2025-01-17T20:34:37.829Z"
   },
   {
    "duration": 30,
    "start_time": "2025-01-17T20:34:37.837Z"
   },
   {
    "duration": 8,
    "start_time": "2025-01-17T20:34:37.869Z"
   },
   {
    "duration": 18,
    "start_time": "2025-01-17T20:34:37.879Z"
   },
   {
    "duration": 22,
    "start_time": "2025-01-17T20:34:37.899Z"
   },
   {
    "duration": 44,
    "start_time": "2025-01-17T20:34:37.924Z"
   },
   {
    "duration": 10,
    "start_time": "2025-01-17T20:34:37.972Z"
   },
   {
    "duration": 23,
    "start_time": "2025-01-17T20:34:37.986Z"
   },
   {
    "duration": 12,
    "start_time": "2025-01-17T20:34:38.012Z"
   },
   {
    "duration": 34,
    "start_time": "2025-01-17T20:34:38.026Z"
   },
   {
    "duration": 17,
    "start_time": "2025-01-17T20:34:38.063Z"
   },
   {
    "duration": 78,
    "start_time": "2025-01-17T20:34:38.082Z"
   },
   {
    "duration": 5,
    "start_time": "2025-01-17T20:34:38.162Z"
   },
   {
    "duration": 27,
    "start_time": "2025-01-17T20:34:38.208Z"
   },
   {
    "duration": 5,
    "start_time": "2025-01-17T20:34:55.384Z"
   },
   {
    "duration": 16,
    "start_time": "2025-01-17T20:35:28.419Z"
   },
   {
    "duration": 4,
    "start_time": "2025-01-17T20:36:03.839Z"
   },
   {
    "duration": 11,
    "start_time": "2025-01-17T20:37:04.345Z"
   },
   {
    "duration": 11,
    "start_time": "2025-01-17T20:37:09.687Z"
   },
   {
    "duration": 9,
    "start_time": "2025-01-17T20:37:33.667Z"
   },
   {
    "duration": 2,
    "start_time": "2025-01-17T20:38:09.729Z"
   },
   {
    "duration": 594,
    "start_time": "2025-01-17T20:38:10.645Z"
   },
   {
    "duration": 24,
    "start_time": "2025-01-17T20:38:13.102Z"
   },
   {
    "duration": 9,
    "start_time": "2025-01-17T20:38:19.335Z"
   },
   {
    "duration": 3,
    "start_time": "2025-01-17T20:38:26.808Z"
   },
   {
    "duration": 5,
    "start_time": "2025-01-17T20:38:29.361Z"
   },
   {
    "duration": 24,
    "start_time": "2025-01-17T20:38:34.834Z"
   },
   {
    "duration": 4,
    "start_time": "2025-01-17T20:38:40.224Z"
   },
   {
    "duration": 14,
    "start_time": "2025-01-17T20:39:13.429Z"
   },
   {
    "duration": 5,
    "start_time": "2025-01-17T20:39:35.205Z"
   },
   {
    "duration": 15,
    "start_time": "2025-01-17T20:39:38.275Z"
   },
   {
    "duration": 16,
    "start_time": "2025-01-17T20:39:45.408Z"
   },
   {
    "duration": 8,
    "start_time": "2025-01-17T20:39:55.585Z"
   },
   {
    "duration": 5,
    "start_time": "2025-01-17T20:39:57.850Z"
   },
   {
    "duration": 16,
    "start_time": "2025-01-17T20:40:00.296Z"
   },
   {
    "duration": 14,
    "start_time": "2025-01-17T20:40:06.319Z"
   },
   {
    "duration": 97,
    "start_time": "2025-01-20T17:46:01.185Z"
   },
   {
    "duration": 422,
    "start_time": "2025-01-20T17:46:08.425Z"
   },
   {
    "duration": 124,
    "start_time": "2025-01-20T17:46:08.901Z"
   },
   {
    "duration": 16,
    "start_time": "2025-01-20T17:46:09.333Z"
   },
   {
    "duration": 12,
    "start_time": "2025-01-20T17:46:10.249Z"
   },
   {
    "duration": 4,
    "start_time": "2025-01-20T17:46:13.519Z"
   },
   {
    "duration": 5,
    "start_time": "2025-01-20T17:46:13.768Z"
   },
   {
    "duration": 23,
    "start_time": "2025-01-20T17:46:14.932Z"
   },
   {
    "duration": 5,
    "start_time": "2025-01-20T17:46:15.222Z"
   },
   {
    "duration": 91,
    "start_time": "2025-01-20T17:46:15.534Z"
   },
   {
    "duration": 14,
    "start_time": "2025-01-20T17:46:15.818Z"
   },
   {
    "duration": 11,
    "start_time": "2025-01-20T17:46:16.110Z"
   },
   {
    "duration": 10,
    "start_time": "2025-01-20T17:46:17.014Z"
   },
   {
    "duration": 10,
    "start_time": "2025-01-20T17:46:17.284Z"
   },
   {
    "duration": 12,
    "start_time": "2025-01-20T17:46:18.747Z"
   },
   {
    "duration": 211,
    "start_time": "2025-01-20T17:46:19.037Z"
   },
   {
    "duration": 182,
    "start_time": "2025-01-20T17:46:19.352Z"
   },
   {
    "duration": 22683,
    "start_time": "2025-01-20T17:46:19.884Z"
   },
   {
    "duration": 24144,
    "start_time": "2025-01-20T17:46:42.569Z"
   },
   {
    "duration": 6,
    "start_time": "2025-01-20T17:47:06.714Z"
   },
   {
    "duration": 28,
    "start_time": "2025-01-20T17:47:06.722Z"
   },
   {
    "duration": 20,
    "start_time": "2025-01-20T17:47:06.752Z"
   },
   {
    "duration": 16,
    "start_time": "2025-01-20T17:47:06.774Z"
   },
   {
    "duration": 55,
    "start_time": "2025-01-20T17:47:06.792Z"
   },
   {
    "duration": 31,
    "start_time": "2025-01-20T17:47:06.850Z"
   },
   {
    "duration": 8,
    "start_time": "2025-01-20T17:47:06.883Z"
   },
   {
    "duration": 4,
    "start_time": "2025-01-20T17:47:06.893Z"
   },
   {
    "duration": 20,
    "start_time": "2025-01-20T17:47:06.899Z"
   },
   {
    "duration": 6,
    "start_time": "2025-01-20T17:47:06.921Z"
   },
   {
    "duration": 22,
    "start_time": "2025-01-20T17:47:06.929Z"
   },
   {
    "duration": 17,
    "start_time": "2025-01-20T17:47:06.952Z"
   },
   {
    "duration": 79,
    "start_time": "2025-01-20T17:47:06.971Z"
   },
   {
    "duration": 7,
    "start_time": "2025-01-20T17:47:07.052Z"
   },
   {
    "duration": 17,
    "start_time": "2025-01-20T17:47:07.061Z"
   },
   {
    "duration": 19,
    "start_time": "2025-01-20T17:47:07.079Z"
   },
   {
    "duration": 5,
    "start_time": "2025-01-20T17:47:07.099Z"
   },
   {
    "duration": 11,
    "start_time": "2025-01-20T17:47:07.106Z"
   },
   {
    "duration": 30,
    "start_time": "2025-01-20T17:47:07.119Z"
   },
   {
    "duration": 248,
    "start_time": "2025-01-20T17:47:07.151Z"
   },
   {
    "duration": 4,
    "start_time": "2025-01-20T17:48:03.949Z"
   },
   {
    "duration": 6,
    "start_time": "2025-01-20T17:49:40.068Z"
   },
   {
    "duration": 3,
    "start_time": "2025-01-20T17:49:42.475Z"
   },
   {
    "duration": 17,
    "start_time": "2025-01-20T17:50:02.961Z"
   },
   {
    "duration": 10,
    "start_time": "2025-01-20T17:50:14.871Z"
   },
   {
    "duration": 6,
    "start_time": "2025-01-20T17:51:19.448Z"
   },
   {
    "duration": 5,
    "start_time": "2025-01-20T17:51:21.267Z"
   },
   {
    "duration": 5,
    "start_time": "2025-01-20T17:51:53.554Z"
   },
   {
    "duration": 8,
    "start_time": "2025-01-20T17:52:03.687Z"
   },
   {
    "duration": 2,
    "start_time": "2025-01-20T17:52:19.873Z"
   },
   {
    "duration": 84,
    "start_time": "2025-01-20T17:52:20.333Z"
   },
   {
    "duration": 15,
    "start_time": "2025-01-20T17:52:21.980Z"
   },
   {
    "duration": 12,
    "start_time": "2025-01-20T17:52:22.402Z"
   },
   {
    "duration": 4,
    "start_time": "2025-01-20T17:52:25.214Z"
   },
   {
    "duration": 4,
    "start_time": "2025-01-20T17:52:25.594Z"
   },
   {
    "duration": 25,
    "start_time": "2025-01-20T17:52:27.181Z"
   },
   {
    "duration": 73,
    "start_time": "2025-01-20T17:52:27.643Z"
   },
   {
    "duration": 14,
    "start_time": "2025-01-20T17:52:28.797Z"
   },
   {
    "duration": 14,
    "start_time": "2025-01-20T17:52:29.168Z"
   },
   {
    "duration": 12,
    "start_time": "2025-01-20T17:52:31.130Z"
   },
   {
    "duration": 267,
    "start_time": "2025-01-20T17:52:31.607Z"
   },
   {
    "duration": 220,
    "start_time": "2025-01-20T17:52:31.977Z"
   },
   {
    "duration": 25093,
    "start_time": "2025-01-20T17:52:32.747Z"
   },
   {
    "duration": 25032,
    "start_time": "2025-01-20T17:52:57.846Z"
   },
   {
    "duration": 4,
    "start_time": "2025-01-20T17:53:22.880Z"
   },
   {
    "duration": 16,
    "start_time": "2025-01-20T17:53:22.886Z"
   },
   {
    "duration": 7,
    "start_time": "2025-01-20T17:53:22.904Z"
   },
   {
    "duration": 5,
    "start_time": "2025-01-20T17:53:22.913Z"
   },
   {
    "duration": 32,
    "start_time": "2025-01-20T17:53:22.919Z"
   },
   {
    "duration": 6,
    "start_time": "2025-01-20T17:53:22.953Z"
   },
   {
    "duration": 18,
    "start_time": "2025-01-20T17:53:22.961Z"
   },
   {
    "duration": 5,
    "start_time": "2025-01-20T17:53:22.983Z"
   },
   {
    "duration": 25,
    "start_time": "2025-01-20T17:53:22.990Z"
   },
   {
    "duration": 6,
    "start_time": "2025-01-20T17:53:23.017Z"
   },
   {
    "duration": 37,
    "start_time": "2025-01-20T17:53:23.025Z"
   },
   {
    "duration": 14,
    "start_time": "2025-01-20T17:53:23.064Z"
   },
   {
    "duration": 73,
    "start_time": "2025-01-20T17:53:23.080Z"
   },
   {
    "duration": 5,
    "start_time": "2025-01-20T17:53:23.156Z"
   },
   {
    "duration": 10,
    "start_time": "2025-01-20T17:53:23.165Z"
   },
   {
    "duration": 14,
    "start_time": "2025-01-20T17:53:23.190Z"
   },
   {
    "duration": 0,
    "start_time": "2025-01-20T17:53:23.205Z"
   },
   {
    "duration": 0,
    "start_time": "2025-01-20T17:53:23.207Z"
   },
   {
    "duration": 4,
    "start_time": "2025-01-20T17:54:06.231Z"
   },
   {
    "duration": 110,
    "start_time": "2025-01-20T17:54:08.347Z"
   },
   {
    "duration": 16,
    "start_time": "2025-01-20T17:54:10.545Z"
   },
   {
    "duration": 7,
    "start_time": "2025-01-20T17:54:17.529Z"
   },
   {
    "duration": 5,
    "start_time": "2025-01-20T17:54:24.149Z"
   },
   {
    "duration": 4,
    "start_time": "2025-01-20T17:54:26.036Z"
   },
   {
    "duration": 33,
    "start_time": "2025-01-20T17:54:29.528Z"
   },
   {
    "duration": 20,
    "start_time": "2025-01-20T17:54:32.115Z"
   },
   {
    "duration": 15,
    "start_time": "2025-01-20T17:54:58.404Z"
   },
   {
    "duration": 25,
    "start_time": "2025-01-20T17:56:29.333Z"
   },
   {
    "duration": 24,
    "start_time": "2025-01-20T17:56:33.791Z"
   },
   {
    "duration": 9,
    "start_time": "2025-01-20T17:57:00.221Z"
   },
   {
    "duration": 90,
    "start_time": "2025-01-20T18:03:25.709Z"
   },
   {
    "duration": 21,
    "start_time": "2025-01-20T18:03:50.574Z"
   },
   {
    "duration": 11,
    "start_time": "2025-01-20T18:03:54.020Z"
   },
   {
    "duration": 21,
    "start_time": "2025-01-20T18:04:04.913Z"
   },
   {
    "duration": 23,
    "start_time": "2025-01-20T18:04:07.757Z"
   },
   {
    "duration": 62,
    "start_time": "2025-01-20T18:04:47.124Z"
   },
   {
    "duration": 21,
    "start_time": "2025-01-20T18:07:46.757Z"
   },
   {
    "duration": 6,
    "start_time": "2025-01-20T18:10:10.404Z"
   },
   {
    "duration": 8,
    "start_time": "2025-01-20T18:10:12.489Z"
   },
   {
    "duration": 6,
    "start_time": "2025-01-20T18:10:16.207Z"
   },
   {
    "duration": 12,
    "start_time": "2025-01-20T18:10:19.259Z"
   },
   {
    "duration": 5,
    "start_time": "2025-01-20T18:10:43.182Z"
   },
   {
    "duration": 11,
    "start_time": "2025-01-20T18:10:45.971Z"
   },
   {
    "duration": 4,
    "start_time": "2025-01-20T18:11:09.906Z"
   },
   {
    "duration": 112,
    "start_time": "2025-01-20T18:11:11.892Z"
   },
   {
    "duration": 33,
    "start_time": "2025-01-20T18:11:12.932Z"
   },
   {
    "duration": 8,
    "start_time": "2025-01-20T18:11:18.477Z"
   },
   {
    "duration": 4,
    "start_time": "2025-01-20T18:11:24.335Z"
   },
   {
    "duration": 3,
    "start_time": "2025-01-20T18:11:28.442Z"
   },
   {
    "duration": 23,
    "start_time": "2025-01-20T18:11:47.169Z"
   },
   {
    "duration": 10,
    "start_time": "2025-01-20T18:11:49.849Z"
   },
   {
    "duration": 214,
    "start_time": "2025-01-20T18:12:18.482Z"
   },
   {
    "duration": 235,
    "start_time": "2025-01-20T18:12:32.502Z"
   },
   {
    "duration": 24369,
    "start_time": "2025-01-20T18:12:41.415Z"
   },
   {
    "duration": 27165,
    "start_time": "2025-01-20T18:13:05.786Z"
   },
   {
    "duration": 5,
    "start_time": "2025-01-20T18:14:07.854Z"
   },
   {
    "duration": 11,
    "start_time": "2025-01-20T18:14:10.997Z"
   },
   {
    "duration": 5,
    "start_time": "2025-01-20T18:14:51.076Z"
   },
   {
    "duration": 4,
    "start_time": "2025-01-20T18:14:53.924Z"
   },
   {
    "duration": 3,
    "start_time": "2025-01-20T18:15:45.207Z"
   },
   {
    "duration": 8,
    "start_time": "2025-01-20T18:15:46.915Z"
   },
   {
    "duration": 735,
    "start_time": "2025-01-20T18:19:08.297Z"
   },
   {
    "duration": 10,
    "start_time": "2025-01-20T18:19:41.586Z"
   },
   {
    "duration": 12,
    "start_time": "2025-01-20T18:19:50.555Z"
   },
   {
    "duration": 14,
    "start_time": "2025-01-20T18:21:25.279Z"
   },
   {
    "duration": 8,
    "start_time": "2025-01-20T18:22:46.811Z"
   },
   {
    "duration": 6,
    "start_time": "2025-01-20T18:24:21.889Z"
   },
   {
    "duration": 8,
    "start_time": "2025-01-20T18:24:23.593Z"
   },
   {
    "duration": 11,
    "start_time": "2025-01-20T18:24:31.744Z"
   },
   {
    "duration": 32,
    "start_time": "2025-01-20T18:24:34.141Z"
   },
   {
    "duration": 3,
    "start_time": "2025-01-20T18:24:50.195Z"
   },
   {
    "duration": 115,
    "start_time": "2025-01-20T18:24:51.816Z"
   },
   {
    "duration": 27,
    "start_time": "2025-01-20T18:24:53.357Z"
   },
   {
    "duration": 11,
    "start_time": "2025-01-20T18:24:57.102Z"
   },
   {
    "duration": 4,
    "start_time": "2025-01-20T18:25:01.484Z"
   },
   {
    "duration": 6,
    "start_time": "2025-01-20T18:25:03.585Z"
   },
   {
    "duration": 22,
    "start_time": "2025-01-20T18:25:06.421Z"
   },
   {
    "duration": 16,
    "start_time": "2025-01-20T18:25:10.766Z"
   },
   {
    "duration": 18,
    "start_time": "2025-01-20T18:25:21.178Z"
   },
   {
    "duration": 9,
    "start_time": "2025-01-20T18:25:35.100Z"
   },
   {
    "duration": 12,
    "start_time": "2025-01-20T18:26:11.078Z"
   },
   {
    "duration": 9,
    "start_time": "2025-01-20T18:26:14.617Z"
   },
   {
    "duration": 26,
    "start_time": "2025-01-20T18:26:21.682Z"
   },
   {
    "duration": 18,
    "start_time": "2025-01-20T18:26:26.474Z"
   },
   {
    "duration": 20,
    "start_time": "2025-01-20T18:26:41.486Z"
   },
   {
    "duration": 27,
    "start_time": "2025-01-20T18:27:07.278Z"
   },
   {
    "duration": 32,
    "start_time": "2025-01-20T18:27:09.740Z"
   },
   {
    "duration": 4,
    "start_time": "2025-01-20T18:27:27.707Z"
   },
   {
    "duration": 119,
    "start_time": "2025-01-20T18:27:29.497Z"
   },
   {
    "duration": 53,
    "start_time": "2025-01-20T18:27:31.041Z"
   },
   {
    "duration": 21,
    "start_time": "2025-01-20T18:27:34.766Z"
   },
   {
    "duration": 5,
    "start_time": "2025-01-20T18:27:38.678Z"
   },
   {
    "duration": 5,
    "start_time": "2025-01-20T18:27:40.535Z"
   },
   {
    "duration": 40,
    "start_time": "2025-01-20T18:27:44.850Z"
   },
   {
    "duration": 15,
    "start_time": "2025-01-20T18:27:47.908Z"
   },
   {
    "duration": 29,
    "start_time": "2025-01-20T18:27:49.548Z"
   },
   {
    "duration": 12,
    "start_time": "2025-01-20T18:27:53.139Z"
   },
   {
    "duration": 23,
    "start_time": "2025-01-20T18:28:21.487Z"
   },
   {
    "duration": 5,
    "start_time": "2025-01-20T18:29:12.886Z"
   },
   {
    "duration": 33,
    "start_time": "2025-01-20T18:29:14.868Z"
   },
   {
    "duration": 15,
    "start_time": "2025-01-20T18:29:16.406Z"
   },
   {
    "duration": 4,
    "start_time": "2025-01-20T18:29:33.127Z"
   },
   {
    "duration": 157,
    "start_time": "2025-01-20T18:29:33.816Z"
   },
   {
    "duration": 67,
    "start_time": "2025-01-20T18:29:36.164Z"
   },
   {
    "duration": 13,
    "start_time": "2025-01-20T18:29:41.384Z"
   },
   {
    "duration": 4,
    "start_time": "2025-01-20T18:29:49.600Z"
   },
   {
    "duration": 4,
    "start_time": "2025-01-20T18:29:50.219Z"
   },
   {
    "duration": 4,
    "start_time": "2025-01-20T18:29:52.826Z"
   },
   {
    "duration": 32,
    "start_time": "2025-01-20T18:29:53.575Z"
   },
   {
    "duration": 14,
    "start_time": "2025-01-20T18:29:54.299Z"
   },
   {
    "duration": 9,
    "start_time": "2025-01-20T18:30:38.829Z"
   },
   {
    "duration": 28,
    "start_time": "2025-01-20T18:30:44.560Z"
   },
   {
    "duration": 18,
    "start_time": "2025-01-20T18:30:51.880Z"
   },
   {
    "duration": 21,
    "start_time": "2025-01-20T18:30:56.280Z"
   },
   {
    "duration": 15,
    "start_time": "2025-01-20T18:31:31.470Z"
   },
   {
    "duration": 306,
    "start_time": "2025-01-20T18:31:33.734Z"
   },
   {
    "duration": 354,
    "start_time": "2025-01-20T18:31:36.010Z"
   },
   {
    "duration": 28537,
    "start_time": "2025-01-20T18:31:42.592Z"
   },
   {
    "duration": 9,
    "start_time": "2025-01-20T18:32:45.375Z"
   },
   {
    "duration": 293,
    "start_time": "2025-01-20T18:32:45.385Z"
   },
   {
    "duration": 6,
    "start_time": "2025-01-20T18:32:58.283Z"
   },
   {
    "duration": 17,
    "start_time": "2025-01-20T18:33:03.272Z"
   },
   {
    "duration": 8,
    "start_time": "2025-01-20T18:33:05.673Z"
   },
   {
    "duration": 49,
    "start_time": "2025-01-20T18:33:07.052Z"
   },
   {
    "duration": 18,
    "start_time": "2025-01-20T18:33:15.257Z"
   },
   {
    "duration": 15,
    "start_time": "2025-01-20T18:33:16.099Z"
   },
   {
    "duration": 6,
    "start_time": "2025-01-20T18:33:17.313Z"
   },
   {
    "duration": 12,
    "start_time": "2025-01-20T18:33:18.899Z"
   },
   {
    "duration": 1357,
    "start_time": "2025-01-20T18:33:54.541Z"
   },
   {
    "duration": 6,
    "start_time": "2025-01-20T18:34:02.282Z"
   },
   {
    "duration": 9,
    "start_time": "2025-01-20T18:34:03.206Z"
   },
   {
    "duration": 8,
    "start_time": "2025-01-20T18:34:06.825Z"
   },
   {
    "duration": 13,
    "start_time": "2025-01-20T18:34:07.493Z"
   },
   {
    "duration": 4,
    "start_time": "2025-01-20T18:34:08.092Z"
   },
   {
    "duration": 12,
    "start_time": "2025-01-20T18:34:09.995Z"
   },
   {
    "duration": 4,
    "start_time": "2025-01-20T18:34:11.182Z"
   },
   {
    "duration": 15,
    "start_time": "2025-01-20T18:34:11.859Z"
   },
   {
    "duration": 5,
    "start_time": "2025-01-20T18:34:12.800Z"
   },
   {
    "duration": 32,
    "start_time": "2025-01-20T18:34:15.852Z"
   },
   {
    "duration": 15,
    "start_time": "2025-01-20T18:34:16.617Z"
   },
   {
    "duration": 61,
    "start_time": "2025-01-20T18:34:19.007Z"
   },
   {
    "duration": 4,
    "start_time": "2025-01-20T18:34:27.494Z"
   },
   {
    "duration": 22,
    "start_time": "2025-01-20T18:34:40.740Z"
   },
   {
    "duration": 18,
    "start_time": "2025-01-20T18:34:47.433Z"
   },
   {
    "duration": 9,
    "start_time": "2025-01-20T18:36:36.078Z"
   },
   {
    "duration": 9,
    "start_time": "2025-01-20T18:37:10.634Z"
   },
   {
    "duration": 18,
    "start_time": "2025-01-20T18:37:31.838Z"
   },
   {
    "duration": 15,
    "start_time": "2025-01-20T18:37:42.266Z"
   },
   {
    "duration": 187,
    "start_time": "2025-01-20T18:37:51.182Z"
   },
   {
    "duration": 2,
    "start_time": "2025-01-20T18:38:12.911Z"
   },
   {
    "duration": 115,
    "start_time": "2025-01-20T18:38:13.491Z"
   },
   {
    "duration": 27,
    "start_time": "2025-01-20T18:38:15.551Z"
   },
   {
    "duration": 7,
    "start_time": "2025-01-20T18:38:19.307Z"
   },
   {
    "duration": 4,
    "start_time": "2025-01-20T18:38:27.595Z"
   },
   {
    "duration": 8,
    "start_time": "2025-01-20T18:38:28.562Z"
   },
   {
    "duration": 3,
    "start_time": "2025-01-20T18:38:31.613Z"
   },
   {
    "duration": 24,
    "start_time": "2025-01-20T18:38:32.366Z"
   },
   {
    "duration": 8,
    "start_time": "2025-01-20T18:38:33.230Z"
   },
   {
    "duration": 15,
    "start_time": "2025-01-20T18:38:41.193Z"
   },
   {
    "duration": 9,
    "start_time": "2025-01-20T18:38:52.571Z"
   },
   {
    "duration": 13,
    "start_time": "2025-01-20T18:38:54.489Z"
   },
   {
    "duration": 10,
    "start_time": "2025-01-20T18:39:03.474Z"
   },
   {
    "duration": 43,
    "start_time": "2025-01-20T18:39:05.166Z"
   },
   {
    "duration": 9,
    "start_time": "2025-01-20T18:39:23.402Z"
   },
   {
    "duration": 31,
    "start_time": "2025-01-20T18:39:32.762Z"
   },
   {
    "duration": 303,
    "start_time": "2025-01-20T18:39:34.178Z"
   },
   {
    "duration": 228,
    "start_time": "2025-01-20T18:39:37.489Z"
   },
   {
    "duration": 7459,
    "start_time": "2025-01-20T18:40:07.465Z"
   },
   {
    "duration": 12,
    "start_time": "2025-01-20T18:40:31.202Z"
   },
   {
    "duration": 249,
    "start_time": "2025-01-20T18:40:37.670Z"
   },
   {
    "duration": 260,
    "start_time": "2025-01-20T18:40:50.082Z"
   },
   {
    "duration": 7761,
    "start_time": "2025-01-20T18:40:57.022Z"
   },
   {
    "duration": 27831,
    "start_time": "2025-01-20T18:41:17.042Z"
   },
   {
    "duration": 11,
    "start_time": "2025-01-20T18:41:57.201Z"
   },
   {
    "duration": 11,
    "start_time": "2025-01-20T18:42:04.007Z"
   },
   {
    "duration": 10,
    "start_time": "2025-01-20T18:42:10.312Z"
   },
   {
    "duration": 7,
    "start_time": "2025-01-20T18:42:15.717Z"
   },
   {
    "duration": 27,
    "start_time": "2025-01-20T18:42:23.250Z"
   },
   {
    "duration": 8,
    "start_time": "2025-01-20T18:42:32.374Z"
   },
   {
    "duration": 17,
    "start_time": "2025-01-20T18:42:35.771Z"
   },
   {
    "duration": 12,
    "start_time": "2025-01-20T18:42:37.765Z"
   },
   {
    "duration": 8,
    "start_time": "2025-01-20T18:42:41.583Z"
   },
   {
    "duration": 8,
    "start_time": "2025-01-20T18:42:44.253Z"
   },
   {
    "duration": 7,
    "start_time": "2025-01-20T18:42:53.513Z"
   },
   {
    "duration": 6,
    "start_time": "2025-01-20T18:42:55.635Z"
   },
   {
    "duration": 23,
    "start_time": "2025-01-20T18:43:02.070Z"
   },
   {
    "duration": 26,
    "start_time": "2025-01-20T18:43:10.686Z"
   },
   {
    "duration": 26,
    "start_time": "2025-01-20T18:43:15.854Z"
   },
   {
    "duration": 44,
    "start_time": "2025-01-20T18:43:21.588Z"
   },
   {
    "duration": 15,
    "start_time": "2025-01-20T18:43:51.158Z"
   },
   {
    "duration": 14,
    "start_time": "2025-01-20T18:44:42.872Z"
   },
   {
    "duration": 4,
    "start_time": "2025-01-20T18:45:15.099Z"
   },
   {
    "duration": 5,
    "start_time": "2025-01-20T18:45:30.632Z"
   },
   {
    "duration": 11,
    "start_time": "2025-01-20T18:45:40.187Z"
   },
   {
    "duration": 13,
    "start_time": "2025-01-20T18:45:53.315Z"
   },
   {
    "duration": 5,
    "start_time": "2025-01-20T18:46:52.233Z"
   },
   {
    "duration": 11,
    "start_time": "2025-01-20T18:46:55.114Z"
   },
   {
    "duration": 17,
    "start_time": "2025-01-20T18:47:13.850Z"
   },
   {
    "duration": 3,
    "start_time": "2025-01-20T18:47:55.227Z"
   },
   {
    "duration": 18,
    "start_time": "2025-01-20T18:48:09.574Z"
   },
   {
    "duration": 351,
    "start_time": "2025-01-20T18:56:57.686Z"
   },
   {
    "duration": 378,
    "start_time": "2025-01-20T19:04:21.529Z"
   },
   {
    "duration": 31,
    "start_time": "2025-01-20T19:18:25.141Z"
   },
   {
    "duration": 16,
    "start_time": "2025-01-20T19:19:37.666Z"
   },
   {
    "duration": 11,
    "start_time": "2025-01-20T19:19:48.277Z"
   },
   {
    "duration": 21,
    "start_time": "2025-01-20T19:20:01.454Z"
   },
   {
    "duration": 9,
    "start_time": "2025-01-20T19:20:28.782Z"
   },
   {
    "duration": 3,
    "start_time": "2025-01-20T19:20:52.539Z"
   },
   {
    "duration": 8,
    "start_time": "2025-01-20T19:20:55.235Z"
   },
   {
    "duration": 12,
    "start_time": "2025-01-20T19:20:57.558Z"
   },
   {
    "duration": 5,
    "start_time": "2025-01-20T19:21:01.202Z"
   },
   {
    "duration": 9,
    "start_time": "2025-01-20T19:21:02.414Z"
   },
   {
    "duration": 3,
    "start_time": "2025-01-20T19:21:03.092Z"
   },
   {
    "duration": 17,
    "start_time": "2025-01-20T19:21:04.967Z"
   },
   {
    "duration": 9,
    "start_time": "2025-01-20T19:22:32.274Z"
   },
   {
    "duration": 9,
    "start_time": "2025-01-20T19:24:23.583Z"
   },
   {
    "duration": 10,
    "start_time": "2025-01-20T19:25:27.999Z"
   },
   {
    "duration": 12,
    "start_time": "2025-01-20T19:25:57.311Z"
   },
   {
    "duration": 10,
    "start_time": "2025-01-20T19:26:27.581Z"
   },
   {
    "duration": 9,
    "start_time": "2025-01-20T19:28:04.488Z"
   },
   {
    "duration": 18,
    "start_time": "2025-01-20T19:28:21.474Z"
   },
   {
    "duration": 12,
    "start_time": "2025-01-20T19:28:52.702Z"
   },
   {
    "duration": 22,
    "start_time": "2025-01-20T19:30:12.239Z"
   },
   {
    "duration": 11,
    "start_time": "2025-01-20T19:30:55.774Z"
   },
   {
    "duration": 20,
    "start_time": "2025-01-20T19:31:10.362Z"
   },
   {
    "duration": 139,
    "start_time": "2025-01-20T19:31:10.858Z"
   },
   {
    "duration": 13,
    "start_time": "2025-01-20T19:31:11.420Z"
   },
   {
    "duration": 20,
    "start_time": "2025-01-20T19:31:11.949Z"
   },
   {
    "duration": 4,
    "start_time": "2025-01-20T19:31:15.683Z"
   },
   {
    "duration": 5,
    "start_time": "2025-01-20T19:31:16.583Z"
   },
   {
    "duration": 9,
    "start_time": "2025-01-20T19:31:18.966Z"
   },
   {
    "duration": 20,
    "start_time": "2025-01-20T19:31:19.600Z"
   },
   {
    "duration": 8,
    "start_time": "2025-01-20T19:31:20.382Z"
   },
   {
    "duration": 28,
    "start_time": "2025-01-20T19:31:21.145Z"
   },
   {
    "duration": 7,
    "start_time": "2025-01-20T19:31:25.814Z"
   },
   {
    "duration": 8,
    "start_time": "2025-01-20T19:31:26.317Z"
   },
   {
    "duration": 12,
    "start_time": "2025-01-20T19:31:28.711Z"
   },
   {
    "duration": 281,
    "start_time": "2025-01-20T19:31:29.420Z"
   },
   {
    "duration": 232,
    "start_time": "2025-01-20T19:31:29.984Z"
   },
   {
    "duration": 27348,
    "start_time": "2025-01-20T19:31:57.114Z"
   },
   {
    "duration": 11,
    "start_time": "2025-01-20T19:32:24.466Z"
   },
   {
    "duration": 15,
    "start_time": "2025-01-20T19:32:24.479Z"
   },
   {
    "duration": 9,
    "start_time": "2025-01-20T19:32:24.495Z"
   },
   {
    "duration": 6,
    "start_time": "2025-01-20T19:32:24.506Z"
   },
   {
    "duration": 10,
    "start_time": "2025-01-20T19:32:24.513Z"
   },
   {
    "duration": 252,
    "start_time": "2025-01-20T19:32:24.783Z"
   },
   {
    "duration": 46,
    "start_time": "2025-01-21T18:18:59.791Z"
   },
   {
    "duration": 352,
    "start_time": "2025-01-21T18:19:19.806Z"
   },
   {
    "duration": 161,
    "start_time": "2025-01-21T18:19:21.000Z"
   },
   {
    "duration": 16,
    "start_time": "2025-01-21T18:19:23.893Z"
   },
   {
    "duration": 9,
    "start_time": "2025-01-21T18:19:25.773Z"
   },
   {
    "duration": 3,
    "start_time": "2025-01-21T18:19:32.177Z"
   },
   {
    "duration": 4,
    "start_time": "2025-01-21T18:19:33.269Z"
   },
   {
    "duration": 3,
    "start_time": "2025-01-21T18:19:36.193Z"
   },
   {
    "duration": 21,
    "start_time": "2025-01-21T18:19:36.946Z"
   },
   {
    "duration": 8,
    "start_time": "2025-01-21T18:19:37.816Z"
   },
   {
    "duration": 14,
    "start_time": "2025-01-21T18:19:38.791Z"
   },
   {
    "duration": 8,
    "start_time": "2025-01-21T18:19:41.676Z"
   },
   {
    "duration": 9,
    "start_time": "2025-01-21T18:19:42.666Z"
   },
   {
    "duration": 13,
    "start_time": "2025-01-21T18:19:47.243Z"
   },
   {
    "duration": 243,
    "start_time": "2025-01-21T18:19:48.223Z"
   },
   {
    "duration": 202,
    "start_time": "2025-01-21T18:19:50.590Z"
   },
   {
    "duration": 198,
    "start_time": "2025-01-21T18:20:47.398Z"
   },
   {
    "duration": 235,
    "start_time": "2025-01-21T18:20:47.597Z"
   },
   {
    "duration": 21,
    "start_time": "2025-01-21T18:20:47.834Z"
   },
   {
    "duration": 12,
    "start_time": "2025-01-21T18:20:47.856Z"
   },
   {
    "duration": 10,
    "start_time": "2025-01-21T18:20:47.871Z"
   },
   {
    "duration": 8,
    "start_time": "2025-01-21T18:20:47.882Z"
   },
   {
    "duration": 9,
    "start_time": "2025-01-21T18:21:00.348Z"
   },
   {
    "duration": 5,
    "start_time": "2025-01-21T18:21:05.308Z"
   },
   {
    "duration": 13,
    "start_time": "2025-01-21T18:21:06.415Z"
   },
   {
    "duration": 5,
    "start_time": "2025-01-21T18:21:07.421Z"
   },
   {
    "duration": 7,
    "start_time": "2025-01-21T18:21:12.295Z"
   },
   {
    "duration": 4,
    "start_time": "2025-01-21T18:21:13.072Z"
   },
   {
    "duration": 8,
    "start_time": "2025-01-21T18:21:14.086Z"
   },
   {
    "duration": 5,
    "start_time": "2025-01-21T18:21:15.522Z"
   },
   {
    "duration": 8,
    "start_time": "2025-01-21T18:21:17.382Z"
   },
   {
    "duration": 15,
    "start_time": "2025-01-21T18:21:21.265Z"
   },
   {
    "duration": 14,
    "start_time": "2025-01-21T18:21:22.278Z"
   },
   {
    "duration": 42,
    "start_time": "2025-01-21T18:21:23.098Z"
   },
   {
    "duration": 8,
    "start_time": "2025-01-21T18:21:24.124Z"
   },
   {
    "duration": 8,
    "start_time": "2025-01-21T18:21:25.034Z"
   },
   {
    "duration": 3,
    "start_time": "2025-01-21T18:21:26.561Z"
   },
   {
    "duration": 4,
    "start_time": "2025-01-21T18:21:30.797Z"
   },
   {
    "duration": 6,
    "start_time": "2025-01-21T18:21:34.498Z"
   },
   {
    "duration": 9,
    "start_time": "2025-01-21T18:21:36.565Z"
   },
   {
    "duration": 3,
    "start_time": "2025-01-21T18:21:39.197Z"
   },
   {
    "duration": 30,
    "start_time": "2025-01-21T18:21:41.731Z"
   },
   {
    "duration": 15,
    "start_time": "2025-01-21T18:22:51.691Z"
   },
   {
    "duration": 11,
    "start_time": "2025-01-21T18:25:25.379Z"
   },
   {
    "duration": 11,
    "start_time": "2025-01-21T18:25:41.392Z"
   },
   {
    "duration": 10,
    "start_time": "2025-01-21T18:27:07.253Z"
   },
   {
    "duration": 10,
    "start_time": "2025-01-21T18:28:47.303Z"
   },
   {
    "duration": 10,
    "start_time": "2025-01-21T18:31:45.726Z"
   },
   {
    "duration": 11,
    "start_time": "2025-01-21T18:32:06.734Z"
   },
   {
    "duration": 11,
    "start_time": "2025-01-21T18:36:18.902Z"
   },
   {
    "duration": 10,
    "start_time": "2025-01-21T18:37:32.759Z"
   },
   {
    "duration": 10,
    "start_time": "2025-01-21T18:42:15.196Z"
   },
   {
    "duration": 10,
    "start_time": "2025-01-21T18:47:48.059Z"
   },
   {
    "duration": 11,
    "start_time": "2025-01-21T18:48:35.513Z"
   },
   {
    "duration": 446,
    "start_time": "2025-01-22T09:08:48.154Z"
   },
   {
    "duration": 103,
    "start_time": "2025-01-22T09:08:49.164Z"
   },
   {
    "duration": 17,
    "start_time": "2025-01-22T09:08:51.657Z"
   },
   {
    "duration": 10,
    "start_time": "2025-01-22T09:08:52.412Z"
   },
   {
    "duration": 4,
    "start_time": "2025-01-22T09:08:56.895Z"
   },
   {
    "duration": 4,
    "start_time": "2025-01-22T09:08:58.006Z"
   },
   {
    "duration": 3,
    "start_time": "2025-01-22T09:09:00.644Z"
   },
   {
    "duration": 22,
    "start_time": "2025-01-22T09:09:01.462Z"
   },
   {
    "duration": 9,
    "start_time": "2025-01-22T09:09:02.296Z"
   },
   {
    "duration": 16,
    "start_time": "2025-01-22T09:09:02.941Z"
   },
   {
    "duration": 10,
    "start_time": "2025-01-22T09:09:04.912Z"
   },
   {
    "duration": 11,
    "start_time": "2025-01-22T09:09:05.937Z"
   },
   {
    "duration": 16,
    "start_time": "2025-01-22T09:09:09.022Z"
   },
   {
    "duration": 276,
    "start_time": "2025-01-22T09:09:09.873Z"
   },
   {
    "duration": 228,
    "start_time": "2025-01-22T09:09:10.548Z"
   },
   {
    "duration": 27981,
    "start_time": "2025-01-22T09:09:12.436Z"
   },
   {
    "duration": 12,
    "start_time": "2025-01-22T09:10:10.466Z"
   },
   {
    "duration": 11,
    "start_time": "2025-01-22T09:10:10.480Z"
   },
   {
    "duration": 37,
    "start_time": "2025-01-22T09:10:10.493Z"
   },
   {
    "duration": 225,
    "start_time": "2025-01-22T09:10:10.532Z"
   },
   {
    "duration": 223,
    "start_time": "2025-01-22T09:10:20.651Z"
   },
   {
    "duration": 11,
    "start_time": "2025-01-22T09:10:22.943Z"
   },
   {
    "duration": 12,
    "start_time": "2025-01-22T09:10:24.577Z"
   },
   {
    "duration": 11,
    "start_time": "2025-01-22T09:10:25.831Z"
   },
   {
    "duration": 9,
    "start_time": "2025-01-22T09:10:26.883Z"
   },
   {
    "duration": 10,
    "start_time": "2025-01-22T09:10:27.946Z"
   },
   {
    "duration": 6,
    "start_time": "2025-01-22T09:10:30.092Z"
   },
   {
    "duration": 16,
    "start_time": "2025-01-22T09:10:31.719Z"
   },
   {
    "duration": 4,
    "start_time": "2025-01-22T09:10:32.719Z"
   },
   {
    "duration": 8,
    "start_time": "2025-01-22T09:10:33.526Z"
   },
   {
    "duration": 5,
    "start_time": "2025-01-22T09:10:34.631Z"
   },
   {
    "duration": 10,
    "start_time": "2025-01-22T09:10:35.344Z"
   },
   {
    "duration": 5,
    "start_time": "2025-01-22T09:10:35.988Z"
   },
   {
    "duration": 9,
    "start_time": "2025-01-22T09:10:36.960Z"
   },
   {
    "duration": 17,
    "start_time": "2025-01-22T09:10:39.386Z"
   },
   {
    "duration": 15,
    "start_time": "2025-01-22T09:10:40.815Z"
   },
   {
    "duration": 52,
    "start_time": "2025-01-22T09:10:42.192Z"
   },
   {
    "duration": 9,
    "start_time": "2025-01-22T09:10:44.356Z"
   },
   {
    "duration": 10,
    "start_time": "2025-01-22T09:10:45.174Z"
   },
   {
    "duration": 4,
    "start_time": "2025-01-22T09:10:47.280Z"
   },
   {
    "duration": 4,
    "start_time": "2025-01-22T09:10:52.114Z"
   },
   {
    "duration": 5,
    "start_time": "2025-01-22T09:11:48.584Z"
   },
   {
    "duration": 10,
    "start_time": "2025-01-22T09:11:49.904Z"
   },
   {
    "duration": 3,
    "start_time": "2025-01-22T09:11:53.532Z"
   },
   {
    "duration": 16,
    "start_time": "2025-01-22T09:12:53.596Z"
   },
   {
    "duration": 49,
    "start_time": "2025-01-22T09:23:10.845Z"
   },
   {
    "duration": 15,
    "start_time": "2025-01-22T09:26:42.461Z"
   },
   {
    "duration": 16,
    "start_time": "2025-01-22T09:27:02.960Z"
   },
   {
    "duration": 14,
    "start_time": "2025-01-22T09:27:32.234Z"
   },
   {
    "duration": 15,
    "start_time": "2025-01-22T09:28:17.671Z"
   },
   {
    "duration": 19,
    "start_time": "2025-01-22T09:29:52.849Z"
   },
   {
    "duration": 18,
    "start_time": "2025-01-22T09:30:45.088Z"
   },
   {
    "duration": 13,
    "start_time": "2025-01-22T09:31:47.315Z"
   },
   {
    "duration": 13,
    "start_time": "2025-01-22T09:33:33.276Z"
   },
   {
    "duration": 15,
    "start_time": "2025-01-22T09:33:57.078Z"
   },
   {
    "duration": 13,
    "start_time": "2025-01-22T09:37:40.121Z"
   },
   {
    "duration": 72,
    "start_time": "2025-01-22T10:00:57.757Z"
   },
   {
    "duration": 63,
    "start_time": "2025-01-22T10:04:23.364Z"
   },
   {
    "duration": 101,
    "start_time": "2025-01-22T10:05:49.406Z"
   },
   {
    "duration": 10,
    "start_time": "2025-01-22T10:06:00.898Z"
   },
   {
    "duration": 7,
    "start_time": "2025-01-22T10:16:04.462Z"
   },
   {
    "duration": 7,
    "start_time": "2025-01-22T10:16:09.307Z"
   },
   {
    "duration": 7,
    "start_time": "2025-01-22T10:16:27.612Z"
   },
   {
    "duration": 8,
    "start_time": "2025-01-22T10:24:44.884Z"
   },
   {
    "duration": 8,
    "start_time": "2025-01-22T10:25:22.640Z"
   },
   {
    "duration": 8,
    "start_time": "2025-01-22T10:25:52.319Z"
   },
   {
    "duration": 14,
    "start_time": "2025-01-22T11:27:18.318Z"
   },
   {
    "duration": 11,
    "start_time": "2025-01-22T11:27:36.838Z"
   },
   {
    "duration": 12,
    "start_time": "2025-01-22T11:31:35.043Z"
   },
   {
    "duration": 7,
    "start_time": "2025-01-22T11:32:32.173Z"
   },
   {
    "duration": 7,
    "start_time": "2025-01-22T11:36:32.527Z"
   },
   {
    "duration": 8,
    "start_time": "2025-01-22T11:38:04.611Z"
   },
   {
    "duration": 3,
    "start_time": "2025-01-23T06:21:30.242Z"
   },
   {
    "duration": 85,
    "start_time": "2025-01-23T06:21:30.247Z"
   },
   {
    "duration": 64,
    "start_time": "2025-01-23T06:21:30.334Z"
   },
   {
    "duration": 463,
    "start_time": "2025-01-23T06:21:30.400Z"
   },
   {
    "duration": 156,
    "start_time": "2025-01-23T06:21:30.865Z"
   },
   {
    "duration": 22,
    "start_time": "2025-01-23T06:21:31.028Z"
   },
   {
    "duration": 30,
    "start_time": "2025-01-23T06:21:31.053Z"
   },
   {
    "duration": 26,
    "start_time": "2025-01-23T06:21:31.085Z"
   },
   {
    "duration": 14,
    "start_time": "2025-01-23T06:21:31.117Z"
   },
   {
    "duration": 32,
    "start_time": "2025-01-23T06:21:31.133Z"
   },
   {
    "duration": 71,
    "start_time": "2025-01-23T06:21:31.167Z"
   },
   {
    "duration": 61,
    "start_time": "2025-01-23T06:21:31.240Z"
   },
   {
    "duration": 31,
    "start_time": "2025-01-23T06:21:31.303Z"
   },
   {
    "duration": 37,
    "start_time": "2025-01-23T06:21:31.338Z"
   },
   {
    "duration": 56,
    "start_time": "2025-01-23T06:21:31.377Z"
   },
   {
    "duration": 43,
    "start_time": "2025-01-23T06:21:31.434Z"
   },
   {
    "duration": 372,
    "start_time": "2025-01-23T06:21:31.478Z"
   },
   {
    "duration": 304,
    "start_time": "2025-01-23T06:21:31.852Z"
   },
   {
    "duration": 34291,
    "start_time": "2025-01-23T06:21:32.157Z"
   },
   {
    "duration": 36471,
    "start_time": "2025-01-23T06:22:06.450Z"
   },
   {
    "duration": 11,
    "start_time": "2025-01-23T06:22:42.929Z"
   },
   {
    "duration": 22,
    "start_time": "2025-01-23T06:22:42.941Z"
   },
   {
    "duration": 52,
    "start_time": "2025-01-23T06:22:42.965Z"
   },
   {
    "duration": 11,
    "start_time": "2025-01-23T06:22:43.018Z"
   },
   {
    "duration": 6,
    "start_time": "2025-01-23T06:22:43.030Z"
   },
   {
    "duration": 19,
    "start_time": "2025-01-23T06:22:43.037Z"
   },
   {
    "duration": 52,
    "start_time": "2025-01-23T06:22:43.058Z"
   },
   {
    "duration": 15,
    "start_time": "2025-01-23T06:22:43.120Z"
   },
   {
    "duration": 10,
    "start_time": "2025-01-23T06:22:43.136Z"
   },
   {
    "duration": 24,
    "start_time": "2025-01-23T06:22:43.150Z"
   },
   {
    "duration": 31,
    "start_time": "2025-01-23T06:22:43.175Z"
   },
   {
    "duration": 26,
    "start_time": "2025-01-23T06:22:43.208Z"
   },
   {
    "duration": 57,
    "start_time": "2025-01-23T06:22:43.236Z"
   },
   {
    "duration": 32,
    "start_time": "2025-01-23T06:22:43.295Z"
   },
   {
    "duration": 15,
    "start_time": "2025-01-23T06:22:43.329Z"
   },
   {
    "duration": 75,
    "start_time": "2025-01-23T06:22:43.346Z"
   },
   {
    "duration": 8,
    "start_time": "2025-01-23T06:22:43.423Z"
   },
   {
    "duration": 18,
    "start_time": "2025-01-23T06:22:43.433Z"
   },
   {
    "duration": 8,
    "start_time": "2025-01-23T06:22:43.452Z"
   },
   {
    "duration": 8,
    "start_time": "2025-01-23T06:22:43.462Z"
   },
   {
    "duration": 6,
    "start_time": "2025-01-23T06:22:43.474Z"
   },
   {
    "duration": 32,
    "start_time": "2025-01-23T06:22:43.493Z"
   },
   {
    "duration": 14,
    "start_time": "2025-01-23T06:22:43.528Z"
   },
   {
    "duration": 13,
    "start_time": "2025-01-23T06:22:43.544Z"
   },
   {
    "duration": 9,
    "start_time": "2025-01-23T06:22:43.558Z"
   },
   {
    "duration": 25,
    "start_time": "2025-01-23T06:22:43.586Z"
   },
   {
    "duration": 19,
    "start_time": "2025-01-23T06:22:43.613Z"
   },
   {
    "duration": 12,
    "start_time": "2025-01-23T06:22:43.634Z"
   },
   {
    "duration": 8,
    "start_time": "2025-01-23T06:22:43.648Z"
   },
   {
    "duration": 55,
    "start_time": "2025-01-23T16:25:20.338Z"
   },
   {
    "duration": 445,
    "start_time": "2025-01-23T16:25:32.662Z"
   },
   {
    "duration": 130,
    "start_time": "2025-01-23T16:25:34.790Z"
   },
   {
    "duration": 105,
    "start_time": "2025-01-23T16:25:39.402Z"
   },
   {
    "duration": 19,
    "start_time": "2025-01-23T16:25:40.441Z"
   },
   {
    "duration": 22,
    "start_time": "2025-01-23T16:25:41.870Z"
   },
   {
    "duration": 16,
    "start_time": "2025-01-23T16:26:06.001Z"
   },
   {
    "duration": 15,
    "start_time": "2025-01-23T16:28:31.992Z"
   },
   {
    "duration": 3,
    "start_time": "2025-01-23T16:28:47.307Z"
   },
   {
    "duration": 4,
    "start_time": "2025-01-23T16:28:47.842Z"
   },
   {
    "duration": 4,
    "start_time": "2025-01-23T16:38:55.562Z"
   },
   {
    "duration": 96,
    "start_time": "2025-01-23T16:38:56.197Z"
   },
   {
    "duration": 4,
    "start_time": "2025-01-23T16:41:21.550Z"
   },
   {
    "duration": 5,
    "start_time": "2025-01-23T16:41:22.307Z"
   },
   {
    "duration": 4,
    "start_time": "2025-01-23T16:41:28.972Z"
   },
   {
    "duration": 4,
    "start_time": "2025-01-23T16:41:30.258Z"
   },
   {
    "duration": 3,
    "start_time": "2025-01-23T16:41:52.878Z"
   },
   {
    "duration": 88,
    "start_time": "2025-01-23T16:41:54.013Z"
   },
   {
    "duration": 5,
    "start_time": "2025-01-23T16:41:54.566Z"
   },
   {
    "duration": 3,
    "start_time": "2025-01-23T16:42:18.539Z"
   },
   {
    "duration": 89,
    "start_time": "2025-01-23T16:42:19.615Z"
   },
   {
    "duration": 17,
    "start_time": "2025-01-23T16:42:21.610Z"
   },
   {
    "duration": 16,
    "start_time": "2025-01-23T16:42:22.303Z"
   },
   {
    "duration": 3,
    "start_time": "2025-01-23T16:42:35.909Z"
   },
   {
    "duration": 87,
    "start_time": "2025-01-23T16:42:36.914Z"
   },
   {
    "duration": 4,
    "start_time": "2025-01-23T16:43:00.208Z"
   },
   {
    "duration": 5,
    "start_time": "2025-01-23T16:43:20.572Z"
   },
   {
    "duration": 4,
    "start_time": "2025-01-23T16:43:21.519Z"
   },
   {
    "duration": 5,
    "start_time": "2025-01-23T16:53:47.223Z"
   },
   {
    "duration": 18,
    "start_time": "2025-01-23T16:55:37.303Z"
   },
   {
    "duration": 6,
    "start_time": "2025-01-23T16:57:00.891Z"
   },
   {
    "duration": 6,
    "start_time": "2025-01-23T16:57:24.937Z"
   },
   {
    "duration": 1445,
    "start_time": "2025-01-23T17:56:20.137Z"
   },
   {
    "duration": 5,
    "start_time": "2025-01-23T17:56:30.925Z"
   },
   {
    "duration": 5,
    "start_time": "2025-01-23T17:57:00.413Z"
   },
   {
    "duration": 1456,
    "start_time": "2025-01-23T17:57:51.124Z"
   },
   {
    "duration": 6,
    "start_time": "2025-01-23T17:57:58.389Z"
   },
   {
    "duration": 6,
    "start_time": "2025-01-23T17:58:57.472Z"
   },
   {
    "duration": 17,
    "start_time": "2025-01-23T18:01:08.398Z"
   },
   {
    "duration": 93,
    "start_time": "2025-01-23T18:07:17.215Z"
   },
   {
    "duration": 10,
    "start_time": "2025-01-23T18:21:34.188Z"
   },
   {
    "duration": 6,
    "start_time": "2025-01-23T18:21:41.150Z"
   },
   {
    "duration": 1474,
    "start_time": "2025-01-23T18:22:02.967Z"
   },
   {
    "duration": 6,
    "start_time": "2025-01-23T18:22:10.333Z"
   },
   {
    "duration": 4,
    "start_time": "2025-01-23T18:31:41.481Z"
   },
   {
    "duration": 6,
    "start_time": "2025-01-23T18:31:42.737Z"
   },
   {
    "duration": 20,
    "start_time": "2025-01-23T18:31:45.261Z"
   },
   {
    "duration": 16,
    "start_time": "2025-01-23T18:31:46.850Z"
   },
   {
    "duration": 18,
    "start_time": "2025-01-23T18:32:42.701Z"
   },
   {
    "duration": 14,
    "start_time": "2025-01-23T18:32:56.489Z"
   },
   {
    "duration": 15,
    "start_time": "2025-01-23T18:33:18.323Z"
   },
   {
    "duration": 85,
    "start_time": "2025-01-23T18:38:14.004Z"
   },
   {
    "duration": 85,
    "start_time": "2025-01-23T18:38:27.933Z"
   },
   {
    "duration": 11,
    "start_time": "2025-01-23T18:39:45.492Z"
   },
   {
    "duration": 10,
    "start_time": "2025-01-23T18:40:11.251Z"
   },
   {
    "duration": 15,
    "start_time": "2025-01-23T18:41:40.604Z"
   },
   {
    "duration": 12,
    "start_time": "2025-01-23T18:43:04.821Z"
   },
   {
    "duration": 10,
    "start_time": "2025-01-23T18:46:36.756Z"
   },
   {
    "duration": 16,
    "start_time": "2025-01-23T18:46:37.563Z"
   },
   {
    "duration": 7,
    "start_time": "2025-01-23T18:55:23.190Z"
   },
   {
    "duration": 10,
    "start_time": "2025-01-23T19:01:46.134Z"
   },
   {
    "duration": 9,
    "start_time": "2025-01-23T19:01:46.847Z"
   },
   {
    "duration": 5,
    "start_time": "2025-01-23T19:02:16.018Z"
   },
   {
    "duration": 16,
    "start_time": "2025-01-23T19:02:18.835Z"
   },
   {
    "duration": 435,
    "start_time": "2025-01-24T18:47:52.232Z"
   },
   {
    "duration": 145,
    "start_time": "2025-01-24T18:47:53.594Z"
   },
   {
    "duration": 14,
    "start_time": "2025-01-24T18:47:54.286Z"
   },
   {
    "duration": 26,
    "start_time": "2025-01-24T18:47:55.137Z"
   },
   {
    "duration": 10,
    "start_time": "2025-01-24T18:48:01.653Z"
   },
   {
    "duration": 8,
    "start_time": "2025-01-24T18:48:02.265Z"
   },
   {
    "duration": 4,
    "start_time": "2025-01-24T18:48:02.886Z"
   },
   {
    "duration": 13,
    "start_time": "2025-01-24T18:48:06.139Z"
   },
   {
    "duration": 5,
    "start_time": "2025-01-24T18:48:06.733Z"
   },
   {
    "duration": 5,
    "start_time": "2025-01-24T18:48:07.384Z"
   },
   {
    "duration": 5,
    "start_time": "2025-01-24T18:48:07.997Z"
   },
   {
    "duration": 7,
    "start_time": "2025-01-24T18:48:08.531Z"
   },
   {
    "duration": 5,
    "start_time": "2025-01-24T18:48:09.033Z"
   },
   {
    "duration": 5,
    "start_time": "2025-01-24T18:48:09.574Z"
   },
   {
    "duration": 5,
    "start_time": "2025-01-24T18:48:10.171Z"
   },
   {
    "duration": 5,
    "start_time": "2025-01-24T18:48:10.641Z"
   },
   {
    "duration": 5,
    "start_time": "2025-01-24T18:48:11.174Z"
   },
   {
    "duration": 3,
    "start_time": "2025-01-24T18:48:12.728Z"
   },
   {
    "duration": 6,
    "start_time": "2025-01-24T18:48:13.317Z"
   },
   {
    "duration": 16,
    "start_time": "2025-01-24T18:48:14.625Z"
   },
   {
    "duration": 18,
    "start_time": "2025-01-24T18:48:16.954Z"
   },
   {
    "duration": 19,
    "start_time": "2025-01-24T18:48:17.745Z"
   },
   {
    "duration": 12,
    "start_time": "2025-01-24T18:48:29.322Z"
   },
   {
    "duration": 15,
    "start_time": "2025-01-24T18:48:30.553Z"
   },
   {
    "duration": 8,
    "start_time": "2025-01-24T18:48:40.879Z"
   },
   {
    "duration": 7,
    "start_time": "2025-01-24T18:48:41.398Z"
   },
   {
    "duration": 6,
    "start_time": "2025-01-24T18:48:42.402Z"
   },
   {
    "duration": 19,
    "start_time": "2025-01-24T18:48:43.156Z"
   },
   {
    "duration": 104,
    "start_time": "2025-01-24T18:51:01.178Z"
   },
   {
    "duration": 90,
    "start_time": "2025-01-24T18:51:24.836Z"
   },
   {
    "duration": 64,
    "start_time": "2025-01-24T18:59:11.412Z"
   },
   {
    "duration": 8,
    "start_time": "2025-01-24T19:05:44.911Z"
   },
   {
    "duration": 11,
    "start_time": "2025-01-24T19:06:15.432Z"
   },
   {
    "duration": 351,
    "start_time": "2025-01-24T19:06:24.135Z"
   },
   {
    "duration": 62,
    "start_time": "2025-01-24T19:07:23.746Z"
   },
   {
    "duration": 7,
    "start_time": "2025-01-24T19:14:33.106Z"
   },
   {
    "duration": 7,
    "start_time": "2025-01-24T19:15:55.628Z"
   },
   {
    "duration": 218,
    "start_time": "2025-01-24T19:16:06.509Z"
   },
   {
    "duration": 7,
    "start_time": "2025-01-24T19:16:51.206Z"
   },
   {
    "duration": 9,
    "start_time": "2025-01-24T19:17:16.435Z"
   },
   {
    "duration": 9,
    "start_time": "2025-01-24T19:19:06.940Z"
   },
   {
    "duration": 7,
    "start_time": "2025-01-24T19:19:25.813Z"
   },
   {
    "duration": 209,
    "start_time": "2025-01-24T19:21:31.163Z"
   },
   {
    "duration": 263,
    "start_time": "2025-01-24T19:21:35.832Z"
   },
   {
    "duration": 13,
    "start_time": "2025-01-24T19:39:05.400Z"
   },
   {
    "duration": 4,
    "start_time": "2025-01-24T19:39:44.331Z"
   },
   {
    "duration": 12,
    "start_time": "2025-01-24T19:39:46.109Z"
   },
   {
    "duration": 10,
    "start_time": "2025-01-24T19:41:33.977Z"
   },
   {
    "duration": 9,
    "start_time": "2025-01-24T19:41:36.838Z"
   },
   {
    "duration": 7,
    "start_time": "2025-01-24T19:41:40.437Z"
   },
   {
    "duration": 18,
    "start_time": "2025-01-24T19:47:26.753Z"
   },
   {
    "duration": 5,
    "start_time": "2025-01-24T19:47:38.240Z"
   },
   {
    "duration": 8,
    "start_time": "2025-01-24T19:48:05.113Z"
   },
   {
    "duration": 12,
    "start_time": "2025-01-24T19:48:13.072Z"
   },
   {
    "duration": 7,
    "start_time": "2025-01-24T19:51:15.362Z"
   },
   {
    "duration": 16,
    "start_time": "2025-01-24T19:51:26.564Z"
   },
   {
    "duration": 12,
    "start_time": "2025-01-24T19:51:28.218Z"
   },
   {
    "duration": 12,
    "start_time": "2025-01-24T19:51:28.786Z"
   },
   {
    "duration": 48,
    "start_time": "2025-01-24T19:51:29.430Z"
   },
   {
    "duration": 3,
    "start_time": "2025-01-24T19:51:33.424Z"
   },
   {
    "duration": 3,
    "start_time": "2025-01-24T19:51:36.994Z"
   },
   {
    "duration": 4,
    "start_time": "2025-01-24T20:46:09.987Z"
   },
   {
    "duration": 2,
    "start_time": "2025-01-24T20:46:14.012Z"
   },
   {
    "duration": 3,
    "start_time": "2025-01-24T20:46:23.322Z"
   },
   {
    "duration": 6,
    "start_time": "2025-01-24T20:46:55.656Z"
   },
   {
    "duration": 18,
    "start_time": "2025-01-24T20:48:22.198Z"
   },
   {
    "duration": 3,
    "start_time": "2025-01-24T20:49:31.184Z"
   },
   {
    "duration": 17,
    "start_time": "2025-01-24T20:50:37.922Z"
   },
   {
    "duration": 4,
    "start_time": "2025-01-24T20:50:59.735Z"
   },
   {
    "duration": 17,
    "start_time": "2025-01-24T20:51:06.063Z"
   },
   {
    "duration": 3,
    "start_time": "2025-01-24T20:51:35.497Z"
   },
   {
    "duration": 2,
    "start_time": "2025-01-24T20:57:58.938Z"
   },
   {
    "duration": 2,
    "start_time": "2025-01-24T21:14:07.690Z"
   },
   {
    "duration": 26,
    "start_time": "2025-01-24T21:14:07.694Z"
   },
   {
    "duration": 10,
    "start_time": "2025-01-24T21:14:07.721Z"
   },
   {
    "duration": 422,
    "start_time": "2025-01-24T21:14:07.732Z"
   },
   {
    "duration": 109,
    "start_time": "2025-01-24T21:14:08.155Z"
   },
   {
    "duration": 14,
    "start_time": "2025-01-24T21:14:08.266Z"
   },
   {
    "duration": 25,
    "start_time": "2025-01-24T21:14:08.282Z"
   },
   {
    "duration": 7,
    "start_time": "2025-01-24T21:14:08.308Z"
   },
   {
    "duration": 12,
    "start_time": "2025-01-24T21:14:08.317Z"
   },
   {
    "duration": 13,
    "start_time": "2025-01-24T21:14:08.330Z"
   },
   {
    "duration": 22,
    "start_time": "2025-01-24T21:14:08.345Z"
   },
   {
    "duration": 39,
    "start_time": "2025-01-24T21:14:08.368Z"
   },
   {
    "duration": 15,
    "start_time": "2025-01-24T21:14:08.408Z"
   },
   {
    "duration": 12,
    "start_time": "2025-01-24T21:14:08.425Z"
   },
   {
    "duration": 22,
    "start_time": "2025-01-24T21:14:08.438Z"
   },
   {
    "duration": 14,
    "start_time": "2025-01-24T21:14:08.462Z"
   },
   {
    "duration": 30,
    "start_time": "2025-01-24T21:14:08.478Z"
   },
   {
    "duration": 39,
    "start_time": "2025-01-24T21:14:08.509Z"
   },
   {
    "duration": 11,
    "start_time": "2025-01-24T21:14:08.550Z"
   },
   {
    "duration": 15,
    "start_time": "2025-01-24T21:14:08.563Z"
   },
   {
    "duration": 17,
    "start_time": "2025-01-24T21:14:08.579Z"
   },
   {
    "duration": 19,
    "start_time": "2025-01-24T21:14:08.597Z"
   },
   {
    "duration": 10,
    "start_time": "2025-01-24T21:14:08.617Z"
   },
   {
    "duration": 20,
    "start_time": "2025-01-24T21:14:08.631Z"
   },
   {
    "duration": 23,
    "start_time": "2025-01-24T21:14:08.653Z"
   },
   {
    "duration": 22,
    "start_time": "2025-01-24T21:14:08.678Z"
   },
   {
    "duration": 14,
    "start_time": "2025-01-24T21:14:08.701Z"
   },
   {
    "duration": 17,
    "start_time": "2025-01-24T21:14:08.716Z"
   },
   {
    "duration": 26,
    "start_time": "2025-01-24T21:14:08.734Z"
   },
   {
    "duration": 12,
    "start_time": "2025-01-24T21:14:08.762Z"
   },
   {
    "duration": 17,
    "start_time": "2025-01-24T21:14:08.776Z"
   },
   {
    "duration": 23,
    "start_time": "2025-01-24T21:14:08.794Z"
   },
   {
    "duration": 30,
    "start_time": "2025-01-24T21:14:08.818Z"
   },
   {
    "duration": 266,
    "start_time": "2025-01-24T21:14:08.850Z"
   },
   {
    "duration": 226,
    "start_time": "2025-01-24T21:14:09.117Z"
   },
   {
    "duration": 6,
    "start_time": "2025-01-24T21:14:09.345Z"
   },
   {
    "duration": 40,
    "start_time": "2025-01-24T21:14:09.353Z"
   },
   {
    "duration": 17,
    "start_time": "2025-01-24T21:14:09.394Z"
   },
   {
    "duration": 9,
    "start_time": "2025-01-24T21:14:09.413Z"
   },
   {
    "duration": 3,
    "start_time": "2025-01-24T21:14:09.424Z"
   },
   {
    "duration": 47,
    "start_time": "2025-01-24T21:14:09.429Z"
   },
   {
    "duration": 88,
    "start_time": "2025-01-24T21:14:09.477Z"
   },
   {
    "duration": 9,
    "start_time": "2025-01-24T21:14:09.567Z"
   },
   {
    "duration": 10,
    "start_time": "2025-01-24T21:14:09.577Z"
   },
   {
    "duration": 19,
    "start_time": "2025-01-24T21:14:09.588Z"
   },
   {
    "duration": 8,
    "start_time": "2025-01-24T21:14:09.609Z"
   },
   {
    "duration": 6,
    "start_time": "2025-01-24T21:14:09.619Z"
   },
   {
    "duration": 10,
    "start_time": "2025-01-24T21:14:09.627Z"
   },
   {
    "duration": 11,
    "start_time": "2025-01-24T21:14:09.639Z"
   },
   {
    "duration": 13,
    "start_time": "2025-01-24T21:14:09.652Z"
   },
   {
    "duration": 16,
    "start_time": "2025-01-24T21:14:09.667Z"
   },
   {
    "duration": 14,
    "start_time": "2025-01-24T21:14:09.684Z"
   },
   {
    "duration": 22,
    "start_time": "2025-01-24T21:14:09.699Z"
   },
   {
    "duration": 60,
    "start_time": "2025-01-24T21:14:09.723Z"
   },
   {
    "duration": 77,
    "start_time": "2025-01-24T21:14:09.785Z"
   },
   {
    "duration": 0,
    "start_time": "2025-01-24T21:14:09.863Z"
   },
   {
    "duration": 0,
    "start_time": "2025-01-24T21:14:09.864Z"
   },
   {
    "duration": 0,
    "start_time": "2025-01-24T21:14:09.865Z"
   },
   {
    "duration": 0,
    "start_time": "2025-01-24T21:14:09.866Z"
   },
   {
    "duration": 0,
    "start_time": "2025-01-24T21:14:09.867Z"
   },
   {
    "duration": 0,
    "start_time": "2025-01-24T21:14:09.868Z"
   },
   {
    "duration": 0,
    "start_time": "2025-01-24T21:14:09.869Z"
   },
   {
    "duration": 0,
    "start_time": "2025-01-24T21:14:09.870Z"
   },
   {
    "duration": 0,
    "start_time": "2025-01-24T21:14:09.870Z"
   },
   {
    "duration": 0,
    "start_time": "2025-01-24T21:14:09.871Z"
   },
   {
    "duration": 0,
    "start_time": "2025-01-24T21:14:09.872Z"
   },
   {
    "duration": 7,
    "start_time": "2025-01-24T21:18:43.138Z"
   },
   {
    "duration": 3,
    "start_time": "2025-01-24T21:19:14.303Z"
   },
   {
    "duration": 39,
    "start_time": "2025-01-24T21:22:06.196Z"
   },
   {
    "duration": 14,
    "start_time": "2025-01-24T21:22:08.429Z"
   },
   {
    "duration": 3,
    "start_time": "2025-01-24T21:22:10.239Z"
   },
   {
    "duration": 4,
    "start_time": "2025-01-24T21:26:22.570Z"
   },
   {
    "duration": 7,
    "start_time": "2025-01-24T21:35:06.714Z"
   },
   {
    "duration": 5,
    "start_time": "2025-01-24T21:35:27.588Z"
   },
   {
    "duration": 8,
    "start_time": "2025-01-24T21:35:28.498Z"
   },
   {
    "duration": 3,
    "start_time": "2025-01-24T21:35:28.994Z"
   },
   {
    "duration": 21,
    "start_time": "2025-01-24T21:35:30.646Z"
   },
   {
    "duration": 13,
    "start_time": "2025-01-24T21:35:32.108Z"
   },
   {
    "duration": 13,
    "start_time": "2025-01-24T21:35:36.693Z"
   },
   {
    "duration": 9,
    "start_time": "2025-01-24T21:35:38.816Z"
   },
   {
    "duration": 5,
    "start_time": "2025-01-24T21:37:12.370Z"
   },
   {
    "duration": 5,
    "start_time": "2025-01-24T21:38:27.468Z"
   },
   {
    "duration": 9,
    "start_time": "2025-01-24T21:40:22.756Z"
   },
   {
    "duration": 7,
    "start_time": "2025-01-24T21:40:25.675Z"
   },
   {
    "duration": 4,
    "start_time": "2025-01-24T21:42:38.489Z"
   },
   {
    "duration": 4,
    "start_time": "2025-01-24T21:42:38.495Z"
   },
   {
    "duration": 10,
    "start_time": "2025-01-24T21:42:38.500Z"
   },
   {
    "duration": 429,
    "start_time": "2025-01-24T21:42:38.512Z"
   },
   {
    "duration": 98,
    "start_time": "2025-01-24T21:42:38.942Z"
   },
   {
    "duration": 23,
    "start_time": "2025-01-24T21:42:39.041Z"
   },
   {
    "duration": 18,
    "start_time": "2025-01-24T21:42:39.065Z"
   },
   {
    "duration": 3,
    "start_time": "2025-01-24T21:42:39.085Z"
   },
   {
    "duration": 4,
    "start_time": "2025-01-24T21:42:39.090Z"
   },
   {
    "duration": 9,
    "start_time": "2025-01-24T21:42:39.095Z"
   },
   {
    "duration": 4,
    "start_time": "2025-01-24T21:42:39.105Z"
   },
   {
    "duration": 12,
    "start_time": "2025-01-24T21:42:39.110Z"
   },
   {
    "duration": 26,
    "start_time": "2025-01-24T21:42:39.123Z"
   },
   {
    "duration": 14,
    "start_time": "2025-01-24T21:42:39.151Z"
   },
   {
    "duration": 17,
    "start_time": "2025-01-24T21:42:39.166Z"
   },
   {
    "duration": 8,
    "start_time": "2025-01-24T21:42:39.185Z"
   },
   {
    "duration": 6,
    "start_time": "2025-01-24T21:42:39.194Z"
   },
   {
    "duration": 7,
    "start_time": "2025-01-24T21:42:39.201Z"
   },
   {
    "duration": 4,
    "start_time": "2025-01-24T21:42:39.210Z"
   },
   {
    "duration": 11,
    "start_time": "2025-01-24T21:42:39.216Z"
   },
   {
    "duration": 7,
    "start_time": "2025-01-24T21:42:39.247Z"
   },
   {
    "duration": 7,
    "start_time": "2025-01-24T21:42:39.256Z"
   },
   {
    "duration": 21,
    "start_time": "2025-01-24T21:42:39.264Z"
   },
   {
    "duration": 18,
    "start_time": "2025-01-24T21:42:39.289Z"
   },
   {
    "duration": 19,
    "start_time": "2025-01-24T21:42:39.309Z"
   },
   {
    "duration": 26,
    "start_time": "2025-01-24T21:42:39.330Z"
   },
   {
    "duration": 9,
    "start_time": "2025-01-24T21:42:39.359Z"
   },
   {
    "duration": 10,
    "start_time": "2025-01-24T21:42:39.369Z"
   },
   {
    "duration": 8,
    "start_time": "2025-01-24T21:42:39.381Z"
   },
   {
    "duration": 7,
    "start_time": "2025-01-24T21:42:39.391Z"
   },
   {
    "duration": 6,
    "start_time": "2025-01-24T21:42:39.399Z"
   },
   {
    "duration": 4,
    "start_time": "2025-01-24T21:42:39.406Z"
   },
   {
    "duration": 45,
    "start_time": "2025-01-24T21:42:39.411Z"
   },
   {
    "duration": 276,
    "start_time": "2025-01-24T21:42:39.457Z"
   },
   {
    "duration": 244,
    "start_time": "2025-01-24T21:42:39.735Z"
   },
   {
    "duration": 5,
    "start_time": "2025-01-24T21:42:39.980Z"
   },
   {
    "duration": 11,
    "start_time": "2025-01-24T21:42:39.986Z"
   },
   {
    "duration": 9,
    "start_time": "2025-01-24T21:42:39.999Z"
   },
   {
    "duration": 8,
    "start_time": "2025-01-24T21:42:40.010Z"
   },
   {
    "duration": 4,
    "start_time": "2025-01-24T21:42:40.047Z"
   },
   {
    "duration": 30,
    "start_time": "2025-01-24T21:42:40.055Z"
   },
   {
    "duration": 17,
    "start_time": "2025-01-24T21:42:40.086Z"
   },
   {
    "duration": 3,
    "start_time": "2025-01-24T21:42:40.105Z"
   },
   {
    "duration": 7,
    "start_time": "2025-01-24T21:42:40.110Z"
   },
   {
    "duration": 9,
    "start_time": "2025-01-24T21:42:40.118Z"
   },
   {
    "duration": 12,
    "start_time": "2025-01-24T21:42:40.129Z"
   },
   {
    "duration": 32,
    "start_time": "2025-01-24T21:42:40.142Z"
   },
   {
    "duration": 16,
    "start_time": "2025-01-24T21:42:40.175Z"
   },
   {
    "duration": 6,
    "start_time": "2025-01-24T21:42:40.192Z"
   },
   {
    "duration": 9,
    "start_time": "2025-01-24T21:42:40.200Z"
   },
   {
    "duration": 16,
    "start_time": "2025-01-24T21:42:40.211Z"
   },
   {
    "duration": 30,
    "start_time": "2025-01-24T21:42:40.229Z"
   },
   {
    "duration": 16,
    "start_time": "2025-01-24T21:42:40.261Z"
   },
   {
    "duration": 30,
    "start_time": "2025-01-24T21:42:40.278Z"
   },
   {
    "duration": 14,
    "start_time": "2025-01-24T21:42:40.309Z"
   },
   {
    "duration": 78,
    "start_time": "2025-01-24T21:42:40.325Z"
   },
   {
    "duration": 13,
    "start_time": "2025-01-24T21:42:40.404Z"
   },
   {
    "duration": 7,
    "start_time": "2025-01-24T21:42:40.418Z"
   },
   {
    "duration": 9,
    "start_time": "2025-01-24T21:42:40.426Z"
   },
   {
    "duration": 25,
    "start_time": "2025-01-24T21:42:40.436Z"
   },
   {
    "duration": 14,
    "start_time": "2025-01-24T21:42:40.465Z"
   },
   {
    "duration": 11,
    "start_time": "2025-01-24T21:42:40.481Z"
   },
   {
    "duration": 11,
    "start_time": "2025-01-24T21:42:40.494Z"
   },
   {
    "duration": 5,
    "start_time": "2025-01-24T21:42:40.506Z"
   },
   {
    "duration": 11,
    "start_time": "2025-01-24T21:42:40.513Z"
   },
   {
    "duration": 21,
    "start_time": "2025-01-24T21:42:40.525Z"
   },
   {
    "duration": 12,
    "start_time": "2025-01-24T21:42:40.549Z"
   },
   {
    "duration": 30,
    "start_time": "2025-01-24T21:42:40.563Z"
   },
   {
    "duration": 47,
    "start_time": "2025-01-24T21:42:40.598Z"
   },
   {
    "duration": 209,
    "start_time": "2025-01-24T21:46:11.438Z"
   },
   {
    "duration": 413,
    "start_time": "2025-01-24T21:47:00.313Z"
   },
   {
    "duration": 489,
    "start_time": "2025-01-24T21:48:02.646Z"
   },
   {
    "duration": 428,
    "start_time": "2025-01-24T21:48:26.636Z"
   },
   {
    "duration": 13,
    "start_time": "2025-01-24T21:48:28.311Z"
   },
   {
    "duration": 12,
    "start_time": "2025-01-24T21:50:46.520Z"
   },
   {
    "duration": 425,
    "start_time": "2025-01-24T21:50:55.495Z"
   },
   {
    "duration": 440,
    "start_time": "2025-01-24T21:50:58.192Z"
   },
   {
    "duration": 4,
    "start_time": "2025-01-24T21:51:04.040Z"
   },
   {
    "duration": 11,
    "start_time": "2025-01-24T21:51:04.045Z"
   },
   {
    "duration": 5,
    "start_time": "2025-01-24T21:51:04.058Z"
   },
   {
    "duration": 403,
    "start_time": "2025-01-24T21:51:04.066Z"
   },
   {
    "duration": 99,
    "start_time": "2025-01-24T21:51:04.470Z"
   },
   {
    "duration": 14,
    "start_time": "2025-01-24T21:51:04.571Z"
   },
   {
    "duration": 30,
    "start_time": "2025-01-24T21:51:04.587Z"
   },
   {
    "duration": 85,
    "start_time": "2025-01-24T21:51:04.619Z"
   },
   {
    "duration": 9,
    "start_time": "2025-01-24T21:51:04.705Z"
   },
   {
    "duration": 30,
    "start_time": "2025-01-24T21:51:04.717Z"
   },
   {
    "duration": 15,
    "start_time": "2025-01-24T21:51:04.749Z"
   },
   {
    "duration": 13,
    "start_time": "2025-01-24T21:51:04.765Z"
   },
   {
    "duration": 19,
    "start_time": "2025-01-24T21:51:04.779Z"
   },
   {
    "duration": 4,
    "start_time": "2025-01-24T21:51:04.800Z"
   },
   {
    "duration": 5,
    "start_time": "2025-01-24T21:51:04.805Z"
   },
   {
    "duration": 8,
    "start_time": "2025-01-24T21:51:04.811Z"
   },
   {
    "duration": 7,
    "start_time": "2025-01-24T21:51:04.821Z"
   },
   {
    "duration": 14,
    "start_time": "2025-01-24T21:51:04.829Z"
   },
   {
    "duration": 26,
    "start_time": "2025-01-24T21:51:04.846Z"
   },
   {
    "duration": 34,
    "start_time": "2025-01-24T21:51:04.873Z"
   },
   {
    "duration": 6,
    "start_time": "2025-01-24T21:51:04.910Z"
   },
   {
    "duration": 9,
    "start_time": "2025-01-24T21:51:04.918Z"
   },
   {
    "duration": 28,
    "start_time": "2025-01-24T21:51:04.928Z"
   },
   {
    "duration": 22,
    "start_time": "2025-01-24T21:51:04.961Z"
   },
   {
    "duration": 19,
    "start_time": "2025-01-24T21:51:04.985Z"
   },
   {
    "duration": 13,
    "start_time": "2025-01-24T21:51:05.006Z"
   },
   {
    "duration": 10,
    "start_time": "2025-01-24T21:51:05.020Z"
   },
   {
    "duration": 20,
    "start_time": "2025-01-24T21:51:05.034Z"
   },
   {
    "duration": 13,
    "start_time": "2025-01-24T21:51:05.057Z"
   },
   {
    "duration": 8,
    "start_time": "2025-01-24T21:51:05.071Z"
   },
   {
    "duration": 17,
    "start_time": "2025-01-24T21:51:05.081Z"
   },
   {
    "duration": 5,
    "start_time": "2025-01-24T21:51:05.099Z"
   },
   {
    "duration": 18,
    "start_time": "2025-01-24T21:51:05.105Z"
   },
   {
    "duration": 91,
    "start_time": "2025-01-24T21:51:05.124Z"
   },
   {
    "duration": 0,
    "start_time": "2025-01-24T21:51:05.216Z"
   },
   {
    "duration": 0,
    "start_time": "2025-01-24T21:51:05.217Z"
   },
   {
    "duration": 0,
    "start_time": "2025-01-24T21:51:05.219Z"
   },
   {
    "duration": 0,
    "start_time": "2025-01-24T21:51:05.220Z"
   },
   {
    "duration": 0,
    "start_time": "2025-01-24T21:51:05.222Z"
   },
   {
    "duration": 0,
    "start_time": "2025-01-24T21:51:05.223Z"
   },
   {
    "duration": 0,
    "start_time": "2025-01-24T21:51:05.224Z"
   },
   {
    "duration": 0,
    "start_time": "2025-01-24T21:51:05.226Z"
   },
   {
    "duration": 0,
    "start_time": "2025-01-24T21:51:05.227Z"
   },
   {
    "duration": 0,
    "start_time": "2025-01-24T21:51:05.229Z"
   },
   {
    "duration": 0,
    "start_time": "2025-01-24T21:51:05.246Z"
   },
   {
    "duration": 0,
    "start_time": "2025-01-24T21:51:05.249Z"
   },
   {
    "duration": 0,
    "start_time": "2025-01-24T21:51:05.250Z"
   },
   {
    "duration": 0,
    "start_time": "2025-01-24T21:51:05.251Z"
   },
   {
    "duration": 0,
    "start_time": "2025-01-24T21:51:05.253Z"
   },
   {
    "duration": 0,
    "start_time": "2025-01-24T21:51:05.255Z"
   },
   {
    "duration": 0,
    "start_time": "2025-01-24T21:51:05.256Z"
   },
   {
    "duration": 0,
    "start_time": "2025-01-24T21:51:05.258Z"
   },
   {
    "duration": 0,
    "start_time": "2025-01-24T21:51:05.259Z"
   },
   {
    "duration": 0,
    "start_time": "2025-01-24T21:51:05.260Z"
   },
   {
    "duration": 0,
    "start_time": "2025-01-24T21:51:05.261Z"
   },
   {
    "duration": 0,
    "start_time": "2025-01-24T21:51:05.262Z"
   },
   {
    "duration": 0,
    "start_time": "2025-01-24T21:51:05.263Z"
   },
   {
    "duration": 0,
    "start_time": "2025-01-24T21:51:05.264Z"
   },
   {
    "duration": 0,
    "start_time": "2025-01-24T21:51:05.265Z"
   },
   {
    "duration": 0,
    "start_time": "2025-01-24T21:51:05.266Z"
   },
   {
    "duration": 0,
    "start_time": "2025-01-24T21:51:05.267Z"
   },
   {
    "duration": 0,
    "start_time": "2025-01-24T21:51:05.268Z"
   },
   {
    "duration": 0,
    "start_time": "2025-01-24T21:51:05.269Z"
   },
   {
    "duration": 0,
    "start_time": "2025-01-24T21:51:05.271Z"
   },
   {
    "duration": 0,
    "start_time": "2025-01-24T21:51:05.272Z"
   },
   {
    "duration": 0,
    "start_time": "2025-01-24T21:51:05.273Z"
   },
   {
    "duration": 0,
    "start_time": "2025-01-24T21:51:05.274Z"
   },
   {
    "duration": 0,
    "start_time": "2025-01-24T21:51:05.275Z"
   },
   {
    "duration": 0,
    "start_time": "2025-01-24T21:51:05.277Z"
   },
   {
    "duration": 92,
    "start_time": "2025-01-24T21:52:59.140Z"
   },
   {
    "duration": 3,
    "start_time": "2025-01-24T21:53:18.516Z"
   },
   {
    "duration": 5,
    "start_time": "2025-01-24T21:53:18.521Z"
   },
   {
    "duration": 2,
    "start_time": "2025-01-24T21:53:18.528Z"
   },
   {
    "duration": 425,
    "start_time": "2025-01-24T21:53:18.531Z"
   },
   {
    "duration": 107,
    "start_time": "2025-01-24T21:53:18.959Z"
   },
   {
    "duration": 13,
    "start_time": "2025-01-24T21:53:19.068Z"
   },
   {
    "duration": 18,
    "start_time": "2025-01-24T21:53:19.082Z"
   },
   {
    "duration": 3,
    "start_time": "2025-01-24T21:53:19.101Z"
   },
   {
    "duration": 3,
    "start_time": "2025-01-24T21:53:19.105Z"
   },
   {
    "duration": 3,
    "start_time": "2025-01-24T21:53:19.110Z"
   },
   {
    "duration": 4,
    "start_time": "2025-01-24T21:53:19.115Z"
   },
   {
    "duration": 9,
    "start_time": "2025-01-24T21:53:19.146Z"
   },
   {
    "duration": 16,
    "start_time": "2025-01-24T21:53:19.158Z"
   },
   {
    "duration": 5,
    "start_time": "2025-01-24T21:53:19.177Z"
   },
   {
    "duration": 4,
    "start_time": "2025-01-24T21:53:19.183Z"
   },
   {
    "duration": 6,
    "start_time": "2025-01-24T21:53:19.189Z"
   },
   {
    "duration": 5,
    "start_time": "2025-01-24T21:53:19.197Z"
   },
   {
    "duration": 4,
    "start_time": "2025-01-24T21:53:19.203Z"
   },
   {
    "duration": 4,
    "start_time": "2025-01-24T21:53:19.209Z"
   },
   {
    "duration": 10,
    "start_time": "2025-01-24T21:53:19.246Z"
   },
   {
    "duration": 7,
    "start_time": "2025-01-24T21:53:19.258Z"
   },
   {
    "duration": 4,
    "start_time": "2025-01-24T21:53:19.267Z"
   },
   {
    "duration": 6,
    "start_time": "2025-01-24T21:53:19.273Z"
   },
   {
    "duration": 19,
    "start_time": "2025-01-24T21:53:19.280Z"
   },
   {
    "duration": 53,
    "start_time": "2025-01-24T21:53:19.301Z"
   },
   {
    "duration": 19,
    "start_time": "2025-01-24T21:53:19.357Z"
   },
   {
    "duration": 3,
    "start_time": "2025-01-24T21:53:19.377Z"
   },
   {
    "duration": 12,
    "start_time": "2025-01-24T21:53:19.381Z"
   },
   {
    "duration": 13,
    "start_time": "2025-01-24T21:53:19.394Z"
   },
   {
    "duration": 8,
    "start_time": "2025-01-24T21:53:19.408Z"
   },
   {
    "duration": 40,
    "start_time": "2025-01-24T21:53:19.417Z"
   },
   {
    "duration": 6,
    "start_time": "2025-01-24T21:53:19.459Z"
   },
   {
    "duration": 40,
    "start_time": "2025-01-24T21:53:19.466Z"
   },
   {
    "duration": 157,
    "start_time": "2025-01-24T21:53:19.508Z"
   },
   {
    "duration": 0,
    "start_time": "2025-01-24T21:53:19.667Z"
   },
   {
    "duration": 0,
    "start_time": "2025-01-24T21:53:19.668Z"
   },
   {
    "duration": 0,
    "start_time": "2025-01-24T21:53:19.670Z"
   },
   {
    "duration": 0,
    "start_time": "2025-01-24T21:53:19.670Z"
   },
   {
    "duration": 0,
    "start_time": "2025-01-24T21:53:19.671Z"
   },
   {
    "duration": 0,
    "start_time": "2025-01-24T21:53:19.672Z"
   },
   {
    "duration": 0,
    "start_time": "2025-01-24T21:53:19.673Z"
   },
   {
    "duration": 0,
    "start_time": "2025-01-24T21:53:19.674Z"
   },
   {
    "duration": 0,
    "start_time": "2025-01-24T21:53:19.675Z"
   },
   {
    "duration": 0,
    "start_time": "2025-01-24T21:53:19.676Z"
   },
   {
    "duration": 0,
    "start_time": "2025-01-24T21:53:19.677Z"
   },
   {
    "duration": 0,
    "start_time": "2025-01-24T21:53:19.677Z"
   },
   {
    "duration": 0,
    "start_time": "2025-01-24T21:53:19.678Z"
   },
   {
    "duration": 0,
    "start_time": "2025-01-24T21:53:19.679Z"
   },
   {
    "duration": 0,
    "start_time": "2025-01-24T21:53:19.680Z"
   },
   {
    "duration": 0,
    "start_time": "2025-01-24T21:53:19.681Z"
   },
   {
    "duration": 0,
    "start_time": "2025-01-24T21:53:19.682Z"
   },
   {
    "duration": 0,
    "start_time": "2025-01-24T21:53:19.683Z"
   },
   {
    "duration": 0,
    "start_time": "2025-01-24T21:53:19.684Z"
   },
   {
    "duration": 0,
    "start_time": "2025-01-24T21:53:19.685Z"
   },
   {
    "duration": 0,
    "start_time": "2025-01-24T21:53:19.686Z"
   },
   {
    "duration": 0,
    "start_time": "2025-01-24T21:53:19.687Z"
   },
   {
    "duration": 0,
    "start_time": "2025-01-24T21:53:19.688Z"
   },
   {
    "duration": 0,
    "start_time": "2025-01-24T21:53:19.689Z"
   },
   {
    "duration": 0,
    "start_time": "2025-01-24T21:53:19.690Z"
   },
   {
    "duration": 0,
    "start_time": "2025-01-24T21:53:19.691Z"
   },
   {
    "duration": 0,
    "start_time": "2025-01-24T21:53:19.692Z"
   },
   {
    "duration": 0,
    "start_time": "2025-01-24T21:53:19.693Z"
   },
   {
    "duration": 0,
    "start_time": "2025-01-24T21:53:19.694Z"
   },
   {
    "duration": 0,
    "start_time": "2025-01-24T21:53:19.695Z"
   },
   {
    "duration": 0,
    "start_time": "2025-01-24T21:53:19.697Z"
   },
   {
    "duration": 0,
    "start_time": "2025-01-24T21:53:19.698Z"
   },
   {
    "duration": 0,
    "start_time": "2025-01-24T21:53:19.746Z"
   },
   {
    "duration": 0,
    "start_time": "2025-01-24T21:53:19.747Z"
   },
   {
    "duration": 0,
    "start_time": "2025-01-24T21:53:19.748Z"
   },
   {
    "duration": 3,
    "start_time": "2025-01-24T21:55:59.170Z"
   },
   {
    "duration": 13,
    "start_time": "2025-01-24T21:55:59.175Z"
   },
   {
    "duration": 14,
    "start_time": "2025-01-24T21:55:59.189Z"
   },
   {
    "duration": 388,
    "start_time": "2025-01-24T21:55:59.205Z"
   },
   {
    "duration": 95,
    "start_time": "2025-01-24T21:55:59.594Z"
   },
   {
    "duration": 14,
    "start_time": "2025-01-24T21:55:59.690Z"
   },
   {
    "duration": 17,
    "start_time": "2025-01-24T21:55:59.706Z"
   },
   {
    "duration": 3,
    "start_time": "2025-01-24T21:55:59.724Z"
   },
   {
    "duration": 21,
    "start_time": "2025-01-24T21:55:59.729Z"
   },
   {
    "duration": 5,
    "start_time": "2025-01-24T21:55:59.754Z"
   },
   {
    "duration": 9,
    "start_time": "2025-01-24T21:55:59.762Z"
   },
   {
    "duration": 16,
    "start_time": "2025-01-24T21:55:59.773Z"
   },
   {
    "duration": 14,
    "start_time": "2025-01-24T21:55:59.791Z"
   },
   {
    "duration": 25,
    "start_time": "2025-01-24T21:55:59.806Z"
   },
   {
    "duration": 8,
    "start_time": "2025-01-24T21:55:59.833Z"
   },
   {
    "duration": 25,
    "start_time": "2025-01-24T21:55:59.842Z"
   },
   {
    "duration": 6,
    "start_time": "2025-01-24T21:55:59.868Z"
   },
   {
    "duration": 6,
    "start_time": "2025-01-24T21:55:59.875Z"
   },
   {
    "duration": 10,
    "start_time": "2025-01-24T21:55:59.882Z"
   },
   {
    "duration": 12,
    "start_time": "2025-01-24T21:55:59.893Z"
   },
   {
    "duration": 7,
    "start_time": "2025-01-24T21:55:59.906Z"
   },
   {
    "duration": 8,
    "start_time": "2025-01-24T21:55:59.914Z"
   },
   {
    "duration": 7,
    "start_time": "2025-01-24T21:55:59.924Z"
   },
   {
    "duration": 24,
    "start_time": "2025-01-24T21:55:59.932Z"
   },
   {
    "duration": 19,
    "start_time": "2025-01-24T21:55:59.958Z"
   },
   {
    "duration": 21,
    "start_time": "2025-01-24T21:55:59.978Z"
   },
   {
    "duration": 3,
    "start_time": "2025-01-24T21:56:00.000Z"
   },
   {
    "duration": 56,
    "start_time": "2025-01-24T21:56:00.006Z"
   },
   {
    "duration": 30,
    "start_time": "2025-01-24T21:56:00.066Z"
   },
   {
    "duration": 24,
    "start_time": "2025-01-24T21:56:00.097Z"
   },
   {
    "duration": 37,
    "start_time": "2025-01-24T21:56:00.123Z"
   },
   {
    "duration": 29,
    "start_time": "2025-01-24T21:56:00.163Z"
   },
   {
    "duration": 38,
    "start_time": "2025-01-24T21:56:00.194Z"
   },
   {
    "duration": 285,
    "start_time": "2025-01-24T21:56:00.234Z"
   },
   {
    "duration": 214,
    "start_time": "2025-01-24T21:56:00.521Z"
   },
   {
    "duration": 28,
    "start_time": "2025-01-24T21:56:00.737Z"
   },
   {
    "duration": 40,
    "start_time": "2025-01-24T21:56:00.767Z"
   },
   {
    "duration": 13,
    "start_time": "2025-01-24T21:56:00.808Z"
   },
   {
    "duration": 17,
    "start_time": "2025-01-24T21:56:00.823Z"
   },
   {
    "duration": 21,
    "start_time": "2025-01-24T21:56:00.841Z"
   },
   {
    "duration": 16,
    "start_time": "2025-01-24T21:56:00.864Z"
   },
   {
    "duration": 10,
    "start_time": "2025-01-24T21:56:00.881Z"
   },
   {
    "duration": 23,
    "start_time": "2025-01-24T21:56:00.892Z"
   },
   {
    "duration": 4,
    "start_time": "2025-01-24T21:56:00.916Z"
   },
   {
    "duration": 26,
    "start_time": "2025-01-24T21:56:00.921Z"
   },
   {
    "duration": 8,
    "start_time": "2025-01-24T21:56:00.950Z"
   },
   {
    "duration": 23,
    "start_time": "2025-01-24T21:56:00.961Z"
   },
   {
    "duration": 12,
    "start_time": "2025-01-24T21:56:00.986Z"
   },
   {
    "duration": 38,
    "start_time": "2025-01-24T21:56:01.000Z"
   },
   {
    "duration": 25,
    "start_time": "2025-01-24T21:56:01.040Z"
   },
   {
    "duration": 18,
    "start_time": "2025-01-24T21:56:01.067Z"
   },
   {
    "duration": 22,
    "start_time": "2025-01-24T21:56:01.086Z"
   },
   {
    "duration": 14,
    "start_time": "2025-01-24T21:56:01.110Z"
   },
   {
    "duration": 40,
    "start_time": "2025-01-24T21:56:01.125Z"
   },
   {
    "duration": 60,
    "start_time": "2025-01-24T21:56:01.167Z"
   },
   {
    "duration": 14,
    "start_time": "2025-01-24T21:56:01.228Z"
   },
   {
    "duration": 4,
    "start_time": "2025-01-24T21:56:01.244Z"
   },
   {
    "duration": 20,
    "start_time": "2025-01-24T21:56:01.251Z"
   },
   {
    "duration": 13,
    "start_time": "2025-01-24T21:56:01.272Z"
   },
   {
    "duration": 8,
    "start_time": "2025-01-24T21:56:01.286Z"
   },
   {
    "duration": 4,
    "start_time": "2025-01-24T21:56:01.295Z"
   },
   {
    "duration": 12,
    "start_time": "2025-01-24T21:56:01.300Z"
   },
   {
    "duration": 11,
    "start_time": "2025-01-24T21:56:01.313Z"
   },
   {
    "duration": 37,
    "start_time": "2025-01-24T21:56:01.326Z"
   },
   {
    "duration": 16,
    "start_time": "2025-01-24T21:56:01.365Z"
   },
   {
    "duration": 20,
    "start_time": "2025-01-24T21:56:01.383Z"
   },
   {
    "duration": 6,
    "start_time": "2025-01-24T21:56:01.405Z"
   },
   {
    "duration": 99,
    "start_time": "2025-01-24T21:56:01.412Z"
   },
   {
    "duration": 7,
    "start_time": "2025-01-24T21:56:01.512Z"
   },
   {
    "duration": 5,
    "start_time": "2025-01-24T21:56:01.520Z"
   },
   {
    "duration": 17,
    "start_time": "2025-01-24T21:58:00.254Z"
   },
   {
    "duration": 9,
    "start_time": "2025-01-24T22:01:09.054Z"
   },
   {
    "duration": 6,
    "start_time": "2025-01-24T22:01:23.838Z"
   },
   {
    "duration": 6,
    "start_time": "2025-01-24T22:02:15.818Z"
   },
   {
    "duration": 7,
    "start_time": "2025-01-24T22:02:52.589Z"
   },
   {
    "duration": 14,
    "start_time": "2025-01-24T22:02:55.222Z"
   },
   {
    "duration": 1426,
    "start_time": "2025-01-24T22:03:57.555Z"
   },
   {
    "duration": 7,
    "start_time": "2025-01-24T22:04:33.784Z"
   },
   {
    "duration": 14,
    "start_time": "2025-01-24T22:04:37.203Z"
   },
   {
    "duration": 6,
    "start_time": "2025-01-24T22:05:09.426Z"
   },
   {
    "duration": 13,
    "start_time": "2025-01-24T22:05:17.071Z"
   },
   {
    "duration": 16,
    "start_time": "2025-01-24T22:06:01.980Z"
   },
   {
    "duration": 6,
    "start_time": "2025-01-24T22:06:06.665Z"
   },
   {
    "duration": 3,
    "start_time": "2025-01-24T22:06:51.091Z"
   },
   {
    "duration": 6,
    "start_time": "2025-01-24T22:06:51.096Z"
   },
   {
    "duration": 4,
    "start_time": "2025-01-24T22:06:51.104Z"
   },
   {
    "duration": 405,
    "start_time": "2025-01-24T22:06:51.110Z"
   },
   {
    "duration": 96,
    "start_time": "2025-01-24T22:06:51.517Z"
   },
   {
    "duration": 14,
    "start_time": "2025-01-24T22:06:51.614Z"
   },
   {
    "duration": 23,
    "start_time": "2025-01-24T22:06:51.630Z"
   },
   {
    "duration": 6,
    "start_time": "2025-01-24T22:06:51.655Z"
   },
   {
    "duration": 3,
    "start_time": "2025-01-24T22:06:51.664Z"
   },
   {
    "duration": 14,
    "start_time": "2025-01-24T22:06:51.668Z"
   },
   {
    "duration": 57,
    "start_time": "2025-01-24T22:06:51.683Z"
   },
   {
    "duration": 45,
    "start_time": "2025-01-24T22:06:51.742Z"
   },
   {
    "duration": 11,
    "start_time": "2025-01-24T22:06:51.790Z"
   },
   {
    "duration": 11,
    "start_time": "2025-01-24T22:06:51.803Z"
   },
   {
    "duration": 7,
    "start_time": "2025-01-24T22:06:51.815Z"
   },
   {
    "duration": 17,
    "start_time": "2025-01-24T22:06:51.824Z"
   },
   {
    "duration": 22,
    "start_time": "2025-01-24T22:06:51.842Z"
   },
   {
    "duration": 7,
    "start_time": "2025-01-24T22:06:51.866Z"
   },
   {
    "duration": 18,
    "start_time": "2025-01-24T22:06:51.875Z"
   },
   {
    "duration": 25,
    "start_time": "2025-01-24T22:06:51.894Z"
   },
   {
    "duration": 11,
    "start_time": "2025-01-24T22:06:51.920Z"
   },
   {
    "duration": 5,
    "start_time": "2025-01-24T22:06:51.932Z"
   },
   {
    "duration": 6,
    "start_time": "2025-01-24T22:06:51.938Z"
   },
   {
    "duration": 32,
    "start_time": "2025-01-24T22:06:51.945Z"
   },
   {
    "duration": 13,
    "start_time": "2025-01-24T22:06:51.979Z"
   },
   {
    "duration": 28,
    "start_time": "2025-01-24T22:06:51.993Z"
   },
   {
    "duration": 3,
    "start_time": "2025-01-24T22:06:52.022Z"
   },
   {
    "duration": 7,
    "start_time": "2025-01-24T22:06:52.027Z"
   },
   {
    "duration": 17,
    "start_time": "2025-01-24T22:06:52.036Z"
   },
   {
    "duration": 12,
    "start_time": "2025-01-24T22:06:52.055Z"
   },
   {
    "duration": 19,
    "start_time": "2025-01-24T22:06:52.068Z"
   },
   {
    "duration": 8,
    "start_time": "2025-01-24T22:06:52.089Z"
   },
   {
    "duration": 28,
    "start_time": "2025-01-24T22:06:52.098Z"
   },
   {
    "duration": 272,
    "start_time": "2025-01-24T22:06:52.128Z"
   },
   {
    "duration": 221,
    "start_time": "2025-01-24T22:06:52.401Z"
   },
   {
    "duration": 14,
    "start_time": "2025-01-24T22:06:52.623Z"
   },
   {
    "duration": 10,
    "start_time": "2025-01-24T22:06:52.647Z"
   },
   {
    "duration": 91,
    "start_time": "2025-01-24T22:06:52.661Z"
   },
   {
    "duration": 13,
    "start_time": "2025-01-24T22:06:52.757Z"
   },
   {
    "duration": 12,
    "start_time": "2025-01-24T22:06:52.771Z"
   },
   {
    "duration": 3,
    "start_time": "2025-01-24T22:06:52.785Z"
   },
   {
    "duration": 6,
    "start_time": "2025-01-24T22:06:52.790Z"
   },
   {
    "duration": 13,
    "start_time": "2025-01-24T22:06:52.797Z"
   },
   {
    "duration": 4,
    "start_time": "2025-01-24T22:06:52.811Z"
   },
   {
    "duration": 36,
    "start_time": "2025-01-24T22:06:52.816Z"
   },
   {
    "duration": 8,
    "start_time": "2025-01-24T22:06:52.855Z"
   },
   {
    "duration": 9,
    "start_time": "2025-01-24T22:06:52.864Z"
   },
   {
    "duration": 6,
    "start_time": "2025-01-24T22:06:52.874Z"
   },
   {
    "duration": 10,
    "start_time": "2025-01-24T22:06:52.882Z"
   },
   {
    "duration": 5,
    "start_time": "2025-01-24T22:06:52.893Z"
   },
   {
    "duration": 14,
    "start_time": "2025-01-24T22:06:52.899Z"
   },
   {
    "duration": 33,
    "start_time": "2025-01-24T22:06:52.914Z"
   },
   {
    "duration": 21,
    "start_time": "2025-01-24T22:06:52.950Z"
   },
   {
    "duration": 14,
    "start_time": "2025-01-24T22:06:52.972Z"
   },
   {
    "duration": 30,
    "start_time": "2025-01-24T22:06:52.987Z"
   },
   {
    "duration": 42,
    "start_time": "2025-01-24T22:06:53.019Z"
   },
   {
    "duration": 4,
    "start_time": "2025-01-24T22:06:53.063Z"
   },
   {
    "duration": 7,
    "start_time": "2025-01-24T22:06:53.068Z"
   },
   {
    "duration": 8,
    "start_time": "2025-01-24T22:06:53.076Z"
   },
   {
    "duration": 13,
    "start_time": "2025-01-24T22:06:53.086Z"
   },
   {
    "duration": 6,
    "start_time": "2025-01-24T22:06:53.100Z"
   },
   {
    "duration": 6,
    "start_time": "2025-01-24T22:06:53.108Z"
   },
   {
    "duration": 41,
    "start_time": "2025-01-24T22:06:53.115Z"
   },
   {
    "duration": 10,
    "start_time": "2025-01-24T22:06:53.158Z"
   },
   {
    "duration": 13,
    "start_time": "2025-01-24T22:06:53.170Z"
   },
   {
    "duration": 8,
    "start_time": "2025-01-24T22:06:53.185Z"
   },
   {
    "duration": 13,
    "start_time": "2025-01-24T22:06:53.194Z"
   },
   {
    "duration": 6,
    "start_time": "2025-01-24T22:06:53.208Z"
   },
   {
    "duration": 8,
    "start_time": "2025-01-24T22:06:53.248Z"
   },
   {
    "duration": 11,
    "start_time": "2025-01-24T22:06:53.259Z"
   },
   {
    "duration": 7,
    "start_time": "2025-01-24T22:06:53.272Z"
   },
   {
    "duration": 13,
    "start_time": "2025-01-24T22:06:53.281Z"
   },
   {
    "duration": 8,
    "start_time": "2025-01-24T22:06:53.296Z"
   },
   {
    "duration": 3,
    "start_time": "2025-01-24T22:09:25.586Z"
   },
   {
    "duration": 7,
    "start_time": "2025-01-24T22:10:07.945Z"
   },
   {
    "duration": 4,
    "start_time": "2025-01-24T22:13:05.959Z"
   },
   {
    "duration": 26,
    "start_time": "2025-01-24T22:13:05.965Z"
   },
   {
    "duration": 23,
    "start_time": "2025-01-24T22:13:05.992Z"
   },
   {
    "duration": 435,
    "start_time": "2025-01-24T22:13:06.017Z"
   },
   {
    "duration": 102,
    "start_time": "2025-01-24T22:13:06.455Z"
   },
   {
    "duration": 15,
    "start_time": "2025-01-24T22:13:06.560Z"
   },
   {
    "duration": 19,
    "start_time": "2025-01-24T22:13:06.577Z"
   },
   {
    "duration": 3,
    "start_time": "2025-01-24T22:13:06.597Z"
   },
   {
    "duration": 6,
    "start_time": "2025-01-24T22:13:06.601Z"
   },
   {
    "duration": 4,
    "start_time": "2025-01-24T22:13:06.610Z"
   },
   {
    "duration": 5,
    "start_time": "2025-01-24T22:13:06.615Z"
   },
   {
    "duration": 12,
    "start_time": "2025-01-24T22:13:06.646Z"
   },
   {
    "duration": 5,
    "start_time": "2025-01-24T22:13:06.660Z"
   },
   {
    "duration": 11,
    "start_time": "2025-01-24T22:13:06.666Z"
   },
   {
    "duration": 27,
    "start_time": "2025-01-24T22:13:06.678Z"
   },
   {
    "duration": 53,
    "start_time": "2025-01-24T22:13:06.707Z"
   },
   {
    "duration": 5,
    "start_time": "2025-01-24T22:13:06.762Z"
   },
   {
    "duration": 16,
    "start_time": "2025-01-24T22:13:06.769Z"
   },
   {
    "duration": 13,
    "start_time": "2025-01-24T22:13:06.786Z"
   },
   {
    "duration": 26,
    "start_time": "2025-01-24T22:13:06.801Z"
   },
   {
    "duration": 38,
    "start_time": "2025-01-24T22:13:06.829Z"
   },
   {
    "duration": 9,
    "start_time": "2025-01-24T22:13:06.868Z"
   },
   {
    "duration": 6,
    "start_time": "2025-01-24T22:13:06.879Z"
   },
   {
    "duration": 25,
    "start_time": "2025-01-24T22:13:06.887Z"
   },
   {
    "duration": 13,
    "start_time": "2025-01-24T22:13:06.914Z"
   },
   {
    "duration": 30,
    "start_time": "2025-01-24T22:13:06.928Z"
   },
   {
    "duration": 4,
    "start_time": "2025-01-24T22:13:06.961Z"
   },
   {
    "duration": 8,
    "start_time": "2025-01-24T22:13:06.968Z"
   },
   {
    "duration": 34,
    "start_time": "2025-01-24T22:13:06.978Z"
   },
   {
    "duration": 8,
    "start_time": "2025-01-24T22:13:07.013Z"
   },
   {
    "duration": 17,
    "start_time": "2025-01-24T22:13:07.023Z"
   },
   {
    "duration": 10,
    "start_time": "2025-01-24T22:13:07.041Z"
   },
   {
    "duration": 21,
    "start_time": "2025-01-24T22:13:07.053Z"
   },
   {
    "duration": 265,
    "start_time": "2025-01-24T22:13:07.075Z"
   },
   {
    "duration": 234,
    "start_time": "2025-01-24T22:13:07.342Z"
   },
   {
    "duration": 14,
    "start_time": "2025-01-24T22:13:07.577Z"
   },
   {
    "duration": 17,
    "start_time": "2025-01-24T22:13:07.592Z"
   },
   {
    "duration": 10,
    "start_time": "2025-01-24T22:13:07.610Z"
   },
   {
    "duration": 8,
    "start_time": "2025-01-24T22:13:07.621Z"
   },
   {
    "duration": 31,
    "start_time": "2025-01-24T22:13:07.631Z"
   },
   {
    "duration": 3,
    "start_time": "2025-01-24T22:13:07.664Z"
   },
   {
    "duration": 5,
    "start_time": "2025-01-24T22:13:07.669Z"
   },
   {
    "duration": 12,
    "start_time": "2025-01-24T22:13:07.676Z"
   },
   {
    "duration": 47,
    "start_time": "2025-01-24T22:13:07.689Z"
   },
   {
    "duration": 61,
    "start_time": "2025-01-24T22:13:07.738Z"
   },
   {
    "duration": 5,
    "start_time": "2025-01-24T22:13:07.800Z"
   },
   {
    "duration": 11,
    "start_time": "2025-01-24T22:13:07.806Z"
   },
   {
    "duration": 5,
    "start_time": "2025-01-24T22:13:07.819Z"
   },
   {
    "duration": 11,
    "start_time": "2025-01-24T22:13:07.826Z"
   },
   {
    "duration": 6,
    "start_time": "2025-01-24T22:13:07.839Z"
   },
   {
    "duration": 15,
    "start_time": "2025-01-24T22:13:07.847Z"
   },
   {
    "duration": 15,
    "start_time": "2025-01-24T22:13:07.864Z"
   },
   {
    "duration": 14,
    "start_time": "2025-01-24T22:13:07.881Z"
   },
   {
    "duration": 13,
    "start_time": "2025-01-24T22:13:07.897Z"
   },
   {
    "duration": 67,
    "start_time": "2025-01-24T22:13:07.911Z"
   },
   {
    "duration": 14,
    "start_time": "2025-01-24T22:13:07.980Z"
   },
   {
    "duration": 3,
    "start_time": "2025-01-24T22:13:07.995Z"
   },
   {
    "duration": 13,
    "start_time": "2025-01-24T22:13:07.999Z"
   },
   {
    "duration": 17,
    "start_time": "2025-01-24T22:13:08.013Z"
   },
   {
    "duration": 12,
    "start_time": "2025-01-24T22:13:08.032Z"
   },
   {
    "duration": 4,
    "start_time": "2025-01-24T22:13:08.047Z"
   },
   {
    "duration": 12,
    "start_time": "2025-01-24T22:13:08.054Z"
   },
   {
    "duration": 13,
    "start_time": "2025-01-24T22:13:08.067Z"
   },
   {
    "duration": 3,
    "start_time": "2025-01-24T22:13:08.082Z"
   },
   {
    "duration": 6,
    "start_time": "2025-01-24T22:13:08.087Z"
   },
   {
    "duration": 14,
    "start_time": "2025-01-24T22:13:08.094Z"
   },
   {
    "duration": 47,
    "start_time": "2025-01-24T22:13:08.109Z"
   },
   {
    "duration": 22,
    "start_time": "2025-01-24T22:13:08.158Z"
   },
   {
    "duration": 17,
    "start_time": "2025-01-24T22:13:08.181Z"
   },
   {
    "duration": 31,
    "start_time": "2025-01-24T22:13:08.200Z"
   },
   {
    "duration": 12,
    "start_time": "2025-01-24T22:13:08.232Z"
   },
   {
    "duration": 11,
    "start_time": "2025-01-24T22:13:08.245Z"
   },
   {
    "duration": 13,
    "start_time": "2025-01-24T22:13:08.258Z"
   },
   {
    "duration": 6,
    "start_time": "2025-01-24T22:13:08.273Z"
   },
   {
    "duration": 5,
    "start_time": "2025-01-24T22:14:05.393Z"
   },
   {
    "duration": 6,
    "start_time": "2025-01-24T22:14:07.367Z"
   },
   {
    "duration": 16,
    "start_time": "2025-01-24T22:14:13.862Z"
   },
   {
    "duration": 6,
    "start_time": "2025-01-24T22:16:52.520Z"
   },
   {
    "duration": 6,
    "start_time": "2025-01-24T22:17:17.345Z"
   },
   {
    "duration": 15,
    "start_time": "2025-01-24T22:17:17.355Z"
   },
   {
    "duration": 33,
    "start_time": "2025-01-24T22:17:17.371Z"
   },
   {
    "duration": 449,
    "start_time": "2025-01-24T22:17:17.405Z"
   },
   {
    "duration": 119,
    "start_time": "2025-01-24T22:17:17.861Z"
   },
   {
    "duration": 13,
    "start_time": "2025-01-24T22:17:17.982Z"
   },
   {
    "duration": 17,
    "start_time": "2025-01-24T22:17:17.996Z"
   },
   {
    "duration": 3,
    "start_time": "2025-01-24T22:17:18.014Z"
   },
   {
    "duration": 7,
    "start_time": "2025-01-24T22:17:18.018Z"
   },
   {
    "duration": 20,
    "start_time": "2025-01-24T22:17:18.026Z"
   },
   {
    "duration": 10,
    "start_time": "2025-01-24T22:17:18.049Z"
   },
   {
    "duration": 7,
    "start_time": "2025-01-24T22:17:18.063Z"
   },
   {
    "duration": 9,
    "start_time": "2025-01-24T22:17:18.074Z"
   },
   {
    "duration": 15,
    "start_time": "2025-01-24T22:17:18.085Z"
   },
   {
    "duration": 8,
    "start_time": "2025-01-24T22:17:18.101Z"
   },
   {
    "duration": 16,
    "start_time": "2025-01-24T22:17:18.110Z"
   },
   {
    "duration": 5,
    "start_time": "2025-01-24T22:17:18.127Z"
   },
   {
    "duration": 18,
    "start_time": "2025-01-24T22:17:18.134Z"
   },
   {
    "duration": 8,
    "start_time": "2025-01-24T22:17:18.156Z"
   },
   {
    "duration": 7,
    "start_time": "2025-01-24T22:17:18.165Z"
   },
   {
    "duration": 5,
    "start_time": "2025-01-24T22:17:18.173Z"
   },
   {
    "duration": 3,
    "start_time": "2025-01-24T22:17:18.179Z"
   },
   {
    "duration": 5,
    "start_time": "2025-01-24T22:17:18.183Z"
   },
   {
    "duration": 21,
    "start_time": "2025-01-24T22:17:18.189Z"
   },
   {
    "duration": 50,
    "start_time": "2025-01-24T22:17:18.211Z"
   },
   {
    "duration": 12,
    "start_time": "2025-01-24T22:17:18.264Z"
   },
   {
    "duration": 2,
    "start_time": "2025-01-24T22:17:18.278Z"
   },
   {
    "duration": 7,
    "start_time": "2025-01-24T22:17:18.282Z"
   },
   {
    "duration": 12,
    "start_time": "2025-01-24T22:17:18.290Z"
   },
   {
    "duration": 7,
    "start_time": "2025-01-24T22:17:18.303Z"
   },
   {
    "duration": 35,
    "start_time": "2025-01-24T22:17:18.311Z"
   },
   {
    "duration": 9,
    "start_time": "2025-01-24T22:17:18.349Z"
   },
   {
    "duration": 15,
    "start_time": "2025-01-24T22:17:18.362Z"
   },
   {
    "duration": 241,
    "start_time": "2025-01-24T22:17:18.378Z"
   },
   {
    "duration": 217,
    "start_time": "2025-01-24T22:17:18.621Z"
   },
   {
    "duration": 17,
    "start_time": "2025-01-24T22:17:18.839Z"
   },
   {
    "duration": 5,
    "start_time": "2025-01-24T22:17:18.863Z"
   },
   {
    "duration": 24,
    "start_time": "2025-01-24T22:17:18.869Z"
   },
   {
    "duration": 8,
    "start_time": "2025-01-24T22:17:18.894Z"
   },
   {
    "duration": 6,
    "start_time": "2025-01-24T22:17:18.904Z"
   },
   {
    "duration": 3,
    "start_time": "2025-01-24T22:17:18.912Z"
   },
   {
    "duration": 32,
    "start_time": "2025-01-24T22:17:18.917Z"
   },
   {
    "duration": 21,
    "start_time": "2025-01-24T22:17:18.950Z"
   },
   {
    "duration": 4,
    "start_time": "2025-01-24T22:17:18.973Z"
   },
   {
    "duration": 19,
    "start_time": "2025-01-24T22:17:18.978Z"
   },
   {
    "duration": 5,
    "start_time": "2025-01-24T22:17:18.998Z"
   },
   {
    "duration": 7,
    "start_time": "2025-01-24T22:17:19.004Z"
   },
   {
    "duration": 4,
    "start_time": "2025-01-24T22:17:19.013Z"
   },
   {
    "duration": 38,
    "start_time": "2025-01-24T22:17:19.018Z"
   },
   {
    "duration": 5,
    "start_time": "2025-01-24T22:17:19.059Z"
   },
   {
    "duration": 8,
    "start_time": "2025-01-24T22:17:19.065Z"
   },
   {
    "duration": 13,
    "start_time": "2025-01-24T22:17:19.075Z"
   },
   {
    "duration": 15,
    "start_time": "2025-01-24T22:17:19.089Z"
   },
   {
    "duration": 41,
    "start_time": "2025-01-24T22:17:19.105Z"
   },
   {
    "duration": 36,
    "start_time": "2025-01-24T22:17:19.148Z"
   },
   {
    "duration": 13,
    "start_time": "2025-01-24T22:17:19.186Z"
   },
   {
    "duration": 3,
    "start_time": "2025-01-24T22:17:19.200Z"
   },
   {
    "duration": 5,
    "start_time": "2025-01-24T22:17:19.204Z"
   },
   {
    "duration": 9,
    "start_time": "2025-01-24T22:17:19.210Z"
   },
   {
    "duration": 42,
    "start_time": "2025-01-24T22:17:19.220Z"
   },
   {
    "duration": 4,
    "start_time": "2025-01-24T22:17:19.264Z"
   },
   {
    "duration": 8,
    "start_time": "2025-01-24T22:17:19.270Z"
   },
   {
    "duration": 12,
    "start_time": "2025-01-24T22:17:19.280Z"
   },
   {
    "duration": 3,
    "start_time": "2025-01-24T22:17:19.293Z"
   },
   {
    "duration": 6,
    "start_time": "2025-01-24T22:17:19.297Z"
   },
   {
    "duration": 12,
    "start_time": "2025-01-24T22:17:19.304Z"
   },
   {
    "duration": 39,
    "start_time": "2025-01-24T22:17:19.317Z"
   },
   {
    "duration": 22,
    "start_time": "2025-01-24T22:17:19.363Z"
   },
   {
    "duration": 22,
    "start_time": "2025-01-24T22:17:19.386Z"
   },
   {
    "duration": 79,
    "start_time": "2025-01-24T22:17:19.410Z"
   },
   {
    "duration": 0,
    "start_time": "2025-01-24T22:17:19.490Z"
   },
   {
    "duration": 0,
    "start_time": "2025-01-24T22:17:19.491Z"
   },
   {
    "duration": 0,
    "start_time": "2025-01-24T22:17:19.492Z"
   },
   {
    "duration": 0,
    "start_time": "2025-01-24T22:17:19.494Z"
   },
   {
    "duration": 14,
    "start_time": "2025-01-24T22:17:49.497Z"
   },
   {
    "duration": 4,
    "start_time": "2025-01-24T22:19:48.939Z"
   },
   {
    "duration": 6,
    "start_time": "2025-01-24T22:19:49.890Z"
   },
   {
    "duration": 14,
    "start_time": "2025-01-24T22:20:00.618Z"
   },
   {
    "duration": 11,
    "start_time": "2025-01-24T22:20:17.646Z"
   },
   {
    "duration": 4,
    "start_time": "2025-01-24T22:21:10.999Z"
   },
   {
    "duration": 6,
    "start_time": "2025-01-24T22:21:12.764Z"
   },
   {
    "duration": 15,
    "start_time": "2025-01-24T22:21:23.372Z"
   },
   {
    "duration": 4,
    "start_time": "2025-01-24T22:22:14.032Z"
   },
   {
    "duration": 7,
    "start_time": "2025-01-24T22:22:16.060Z"
   },
   {
    "duration": 14,
    "start_time": "2025-01-24T22:22:26.473Z"
   },
   {
    "duration": 7,
    "start_time": "2025-01-24T22:22:31.418Z"
   },
   {
    "duration": 6,
    "start_time": "2025-01-24T22:22:46.613Z"
   },
   {
    "duration": 6,
    "start_time": "2025-01-24T22:23:14.769Z"
   },
   {
    "duration": 7,
    "start_time": "2025-01-24T22:23:31.513Z"
   },
   {
    "duration": 7,
    "start_time": "2025-01-24T22:23:37.507Z"
   },
   {
    "duration": 9,
    "start_time": "2025-01-24T22:23:42.844Z"
   },
   {
    "duration": 5,
    "start_time": "2025-01-24T22:23:51.549Z"
   },
   {
    "duration": 17,
    "start_time": "2025-01-24T22:23:51.557Z"
   },
   {
    "duration": 6,
    "start_time": "2025-01-24T22:23:51.576Z"
   },
   {
    "duration": 381,
    "start_time": "2025-01-24T22:23:51.583Z"
   },
   {
    "duration": 98,
    "start_time": "2025-01-24T22:23:51.966Z"
   },
   {
    "duration": 13,
    "start_time": "2025-01-24T22:23:52.066Z"
   },
   {
    "duration": 18,
    "start_time": "2025-01-24T22:23:52.080Z"
   },
   {
    "duration": 2,
    "start_time": "2025-01-24T22:23:52.099Z"
   },
   {
    "duration": 20,
    "start_time": "2025-01-24T22:23:52.103Z"
   },
   {
    "duration": 4,
    "start_time": "2025-01-24T22:23:52.124Z"
   },
   {
    "duration": 3,
    "start_time": "2025-01-24T22:23:52.130Z"
   },
   {
    "duration": 11,
    "start_time": "2025-01-24T22:23:52.145Z"
   },
   {
    "duration": 8,
    "start_time": "2025-01-24T22:23:52.158Z"
   },
   {
    "duration": 7,
    "start_time": "2025-01-24T22:23:52.171Z"
   },
   {
    "duration": 6,
    "start_time": "2025-01-24T22:23:52.179Z"
   },
   {
    "duration": 9,
    "start_time": "2025-01-24T22:23:52.186Z"
   },
   {
    "duration": 4,
    "start_time": "2025-01-24T22:23:52.196Z"
   },
   {
    "duration": 6,
    "start_time": "2025-01-24T22:23:52.202Z"
   },
   {
    "duration": 41,
    "start_time": "2025-01-24T22:23:52.210Z"
   },
   {
    "duration": 10,
    "start_time": "2025-01-24T22:23:52.253Z"
   },
   {
    "duration": 5,
    "start_time": "2025-01-24T22:23:52.265Z"
   },
   {
    "duration": 4,
    "start_time": "2025-01-24T22:23:52.271Z"
   },
   {
    "duration": 6,
    "start_time": "2025-01-24T22:23:52.277Z"
   },
   {
    "duration": 21,
    "start_time": "2025-01-24T22:23:52.284Z"
   },
   {
    "duration": 12,
    "start_time": "2025-01-24T22:23:52.307Z"
   },
   {
    "duration": 38,
    "start_time": "2025-01-24T22:23:52.320Z"
   },
   {
    "duration": 4,
    "start_time": "2025-01-24T22:23:52.360Z"
   },
   {
    "duration": 21,
    "start_time": "2025-01-24T22:23:52.365Z"
   },
   {
    "duration": 9,
    "start_time": "2025-01-24T22:23:52.387Z"
   },
   {
    "duration": 8,
    "start_time": "2025-01-24T22:23:52.397Z"
   },
   {
    "duration": 6,
    "start_time": "2025-01-24T22:23:52.406Z"
   },
   {
    "duration": 73,
    "start_time": "2025-01-24T22:23:52.413Z"
   },
   {
    "duration": 52,
    "start_time": "2025-01-24T22:23:52.487Z"
   },
   {
    "duration": 267,
    "start_time": "2025-01-24T22:23:52.540Z"
   },
   {
    "duration": 215,
    "start_time": "2025-01-24T22:23:52.808Z"
   },
   {
    "duration": 12,
    "start_time": "2025-01-24T22:23:53.025Z"
   },
   {
    "duration": 10,
    "start_time": "2025-01-24T22:23:53.046Z"
   },
   {
    "duration": 11,
    "start_time": "2025-01-24T22:23:53.062Z"
   },
   {
    "duration": 10,
    "start_time": "2025-01-24T22:23:53.075Z"
   },
   {
    "duration": 6,
    "start_time": "2025-01-24T22:23:53.086Z"
   },
   {
    "duration": 3,
    "start_time": "2025-01-24T22:23:53.096Z"
   },
   {
    "duration": 5,
    "start_time": "2025-01-24T22:23:53.100Z"
   },
   {
    "duration": 12,
    "start_time": "2025-01-24T22:23:53.106Z"
   },
   {
    "duration": 11,
    "start_time": "2025-01-24T22:23:53.147Z"
   },
   {
    "duration": 10,
    "start_time": "2025-01-24T22:23:53.161Z"
   },
   {
    "duration": 5,
    "start_time": "2025-01-24T22:23:53.172Z"
   },
   {
    "duration": 8,
    "start_time": "2025-01-24T22:23:53.179Z"
   },
   {
    "duration": 12,
    "start_time": "2025-01-24T22:23:53.189Z"
   },
   {
    "duration": 10,
    "start_time": "2025-01-24T22:23:53.203Z"
   },
   {
    "duration": 17,
    "start_time": "2025-01-24T22:23:53.215Z"
   },
   {
    "duration": 15,
    "start_time": "2025-01-24T22:23:53.246Z"
   },
   {
    "duration": 14,
    "start_time": "2025-01-24T22:23:53.263Z"
   },
   {
    "duration": 13,
    "start_time": "2025-01-24T22:23:53.279Z"
   },
   {
    "duration": 12,
    "start_time": "2025-01-24T22:23:53.294Z"
   },
   {
    "duration": 61,
    "start_time": "2025-01-24T22:23:53.308Z"
   },
   {
    "duration": 13,
    "start_time": "2025-01-24T22:23:53.371Z"
   },
   {
    "duration": 3,
    "start_time": "2025-01-24T22:23:53.385Z"
   },
   {
    "duration": 4,
    "start_time": "2025-01-24T22:23:53.390Z"
   },
   {
    "duration": 6,
    "start_time": "2025-01-24T22:23:53.395Z"
   },
   {
    "duration": 12,
    "start_time": "2025-01-24T22:23:53.402Z"
   },
   {
    "duration": 3,
    "start_time": "2025-01-24T22:23:53.415Z"
   },
   {
    "duration": 14,
    "start_time": "2025-01-24T22:23:53.450Z"
   },
   {
    "duration": 21,
    "start_time": "2025-01-24T22:23:53.466Z"
   },
   {
    "duration": 11,
    "start_time": "2025-01-24T22:23:53.489Z"
   },
   {
    "duration": 7,
    "start_time": "2025-01-24T22:23:53.502Z"
   },
   {
    "duration": 13,
    "start_time": "2025-01-24T22:23:53.511Z"
   },
   {
    "duration": 106,
    "start_time": "2025-01-24T22:23:53.526Z"
   },
   {
    "duration": 18,
    "start_time": "2025-01-24T22:23:53.634Z"
   },
   {
    "duration": 20,
    "start_time": "2025-01-24T22:23:53.655Z"
   },
   {
    "duration": 34,
    "start_time": "2025-01-24T22:23:53.677Z"
   },
   {
    "duration": 5,
    "start_time": "2025-01-24T22:23:53.713Z"
   },
   {
    "duration": 15,
    "start_time": "2025-01-24T22:23:53.720Z"
   },
   {
    "duration": 8,
    "start_time": "2025-01-24T22:23:53.737Z"
   },
   {
    "duration": 83,
    "start_time": "2025-01-24T22:23:53.748Z"
   },
   {
    "duration": 24,
    "start_time": "2025-01-24T22:23:53.832Z"
   },
   {
    "duration": 3,
    "start_time": "2025-01-24T22:41:04.933Z"
   },
   {
    "duration": 23,
    "start_time": "2025-01-24T22:41:04.938Z"
   },
   {
    "duration": 4,
    "start_time": "2025-01-24T22:41:04.963Z"
   },
   {
    "duration": 395,
    "start_time": "2025-01-24T22:41:04.969Z"
   },
   {
    "duration": 276,
    "start_time": "2025-01-24T22:41:05.365Z"
   },
   {
    "duration": 20,
    "start_time": "2025-01-24T22:41:05.642Z"
   },
   {
    "duration": 33,
    "start_time": "2025-01-24T22:41:05.663Z"
   },
   {
    "duration": 31,
    "start_time": "2025-01-24T22:41:05.697Z"
   },
   {
    "duration": 32,
    "start_time": "2025-01-24T22:41:05.729Z"
   },
   {
    "duration": 12,
    "start_time": "2025-01-24T22:41:05.764Z"
   },
   {
    "duration": 17,
    "start_time": "2025-01-24T22:41:05.778Z"
   },
   {
    "duration": 13,
    "start_time": "2025-01-24T22:41:05.796Z"
   },
   {
    "duration": 89,
    "start_time": "2025-01-24T22:41:05.811Z"
   },
   {
    "duration": 9,
    "start_time": "2025-01-24T22:41:05.901Z"
   },
   {
    "duration": 15,
    "start_time": "2025-01-24T22:41:05.912Z"
   },
   {
    "duration": 29,
    "start_time": "2025-01-24T22:41:05.929Z"
   },
   {
    "duration": 9,
    "start_time": "2025-01-24T22:41:05.960Z"
   },
   {
    "duration": 22,
    "start_time": "2025-01-24T22:41:05.971Z"
   },
   {
    "duration": 25,
    "start_time": "2025-01-24T22:41:05.994Z"
   },
   {
    "duration": 6,
    "start_time": "2025-01-24T22:41:06.020Z"
   },
   {
    "duration": 4,
    "start_time": "2025-01-24T22:41:06.027Z"
   },
   {
    "duration": 7,
    "start_time": "2025-01-24T22:41:06.032Z"
   },
   {
    "duration": 24,
    "start_time": "2025-01-24T22:41:06.040Z"
   },
   {
    "duration": 22,
    "start_time": "2025-01-24T22:41:06.065Z"
   },
   {
    "duration": 41,
    "start_time": "2025-01-24T22:41:06.089Z"
   },
   {
    "duration": 43,
    "start_time": "2025-01-24T22:41:06.132Z"
   },
   {
    "duration": 4,
    "start_time": "2025-01-24T22:41:06.177Z"
   },
   {
    "duration": 26,
    "start_time": "2025-01-24T22:41:06.185Z"
   },
   {
    "duration": 10,
    "start_time": "2025-01-24T22:41:06.212Z"
   },
   {
    "duration": 10,
    "start_time": "2025-01-24T22:41:06.224Z"
   },
   {
    "duration": 12,
    "start_time": "2025-01-24T22:41:06.236Z"
   },
   {
    "duration": 21,
    "start_time": "2025-01-24T22:41:06.252Z"
   },
   {
    "duration": 20,
    "start_time": "2025-01-24T22:41:06.274Z"
   },
   {
    "duration": 254,
    "start_time": "2025-01-24T22:41:06.296Z"
   },
   {
    "duration": 223,
    "start_time": "2025-01-24T22:41:06.556Z"
   },
   {
    "duration": 13,
    "start_time": "2025-01-24T22:41:06.782Z"
   },
   {
    "duration": 33,
    "start_time": "2025-01-24T22:41:06.796Z"
   },
   {
    "duration": 12,
    "start_time": "2025-01-24T22:41:06.830Z"
   },
   {
    "duration": 20,
    "start_time": "2025-01-24T22:41:06.843Z"
   },
   {
    "duration": 10,
    "start_time": "2025-01-24T22:41:06.866Z"
   },
   {
    "duration": 3,
    "start_time": "2025-01-24T22:41:06.878Z"
   },
   {
    "duration": 7,
    "start_time": "2025-01-24T22:41:06.882Z"
   },
   {
    "duration": 27,
    "start_time": "2025-01-24T22:41:06.890Z"
   },
   {
    "duration": 15,
    "start_time": "2025-01-24T22:41:06.919Z"
   },
   {
    "duration": 24,
    "start_time": "2025-01-24T22:41:06.936Z"
   },
   {
    "duration": 10,
    "start_time": "2025-01-24T22:41:06.963Z"
   },
   {
    "duration": 13,
    "start_time": "2025-01-24T22:41:06.974Z"
   },
   {
    "duration": 10,
    "start_time": "2025-01-24T22:41:06.988Z"
   },
   {
    "duration": 26,
    "start_time": "2025-01-24T22:41:07.000Z"
   },
   {
    "duration": 4,
    "start_time": "2025-01-24T22:41:07.028Z"
   },
   {
    "duration": 27,
    "start_time": "2025-01-24T22:41:07.033Z"
   },
   {
    "duration": 13,
    "start_time": "2025-01-24T22:41:07.062Z"
   },
   {
    "duration": 14,
    "start_time": "2025-01-24T22:41:07.077Z"
   },
   {
    "duration": 13,
    "start_time": "2025-01-24T22:41:07.092Z"
   },
   {
    "duration": 52,
    "start_time": "2025-01-24T22:41:07.106Z"
   },
   {
    "duration": 15,
    "start_time": "2025-01-24T22:41:07.160Z"
   },
   {
    "duration": 3,
    "start_time": "2025-01-24T22:41:07.177Z"
   },
   {
    "duration": 5,
    "start_time": "2025-01-24T22:41:07.182Z"
   },
   {
    "duration": 5,
    "start_time": "2025-01-24T22:41:07.188Z"
   },
   {
    "duration": 15,
    "start_time": "2025-01-24T22:41:07.194Z"
   },
   {
    "duration": 4,
    "start_time": "2025-01-24T22:41:07.210Z"
   },
   {
    "duration": 39,
    "start_time": "2025-01-24T22:41:07.215Z"
   },
   {
    "duration": 17,
    "start_time": "2025-01-24T22:41:07.257Z"
   },
   {
    "duration": 4,
    "start_time": "2025-01-24T22:41:07.275Z"
   },
   {
    "duration": 11,
    "start_time": "2025-01-24T22:41:07.281Z"
   },
   {
    "duration": 15,
    "start_time": "2025-01-24T22:41:07.293Z"
   },
   {
    "duration": 5,
    "start_time": "2025-01-24T22:41:07.309Z"
   },
   {
    "duration": 31,
    "start_time": "2025-01-24T22:41:07.315Z"
   },
   {
    "duration": 22,
    "start_time": "2025-01-24T22:41:07.348Z"
   },
   {
    "duration": 9,
    "start_time": "2025-01-24T22:41:07.371Z"
   },
   {
    "duration": 8,
    "start_time": "2025-01-24T22:41:07.381Z"
   },
   {
    "duration": 7,
    "start_time": "2025-01-24T22:41:07.391Z"
   },
   {
    "duration": 6,
    "start_time": "2025-01-24T22:41:07.399Z"
   },
   {
    "duration": 5,
    "start_time": "2025-01-24T22:41:07.407Z"
   },
   {
    "duration": 34,
    "start_time": "2025-01-24T22:41:07.413Z"
   },
   {
    "duration": 69,
    "start_time": "2025-01-24T22:42:02.800Z"
   },
   {
    "duration": 201,
    "start_time": "2025-01-24T22:52:03.535Z"
   },
   {
    "duration": 206,
    "start_time": "2025-01-24T22:52:05.531Z"
   },
   {
    "duration": 21,
    "start_time": "2025-01-24T22:52:06.645Z"
   },
   {
    "duration": 7,
    "start_time": "2025-01-24T22:52:57.679Z"
   },
   {
    "duration": 8,
    "start_time": "2025-01-24T22:53:10.208Z"
   },
   {
    "duration": 7,
    "start_time": "2025-01-24T22:53:26.264Z"
   },
   {
    "duration": 8,
    "start_time": "2025-01-24T22:54:07.813Z"
   },
   {
    "duration": 86,
    "start_time": "2025-01-24T22:55:03.455Z"
   },
   {
    "duration": 15,
    "start_time": "2025-01-24T22:55:11.749Z"
   },
   {
    "duration": 1085,
    "start_time": "2025-01-24T22:56:02.987Z"
   },
   {
    "duration": 3,
    "start_time": "2025-01-24T22:56:56.616Z"
   },
   {
    "duration": 40,
    "start_time": "2025-01-24T22:56:56.620Z"
   },
   {
    "duration": 6,
    "start_time": "2025-01-24T22:56:56.661Z"
   },
   {
    "duration": 379,
    "start_time": "2025-01-24T22:56:56.669Z"
   },
   {
    "duration": 137,
    "start_time": "2025-01-24T22:56:57.050Z"
   },
   {
    "duration": 15,
    "start_time": "2025-01-24T22:56:57.188Z"
   },
   {
    "duration": 19,
    "start_time": "2025-01-24T22:56:57.204Z"
   },
   {
    "duration": 5,
    "start_time": "2025-01-24T22:56:57.225Z"
   },
   {
    "duration": 5,
    "start_time": "2025-01-24T22:56:57.232Z"
   },
   {
    "duration": 4,
    "start_time": "2025-01-24T22:56:57.248Z"
   },
   {
    "duration": 16,
    "start_time": "2025-01-24T22:56:57.254Z"
   },
   {
    "duration": 8,
    "start_time": "2025-01-24T22:56:57.272Z"
   },
   {
    "duration": 5,
    "start_time": "2025-01-24T22:56:57.282Z"
   },
   {
    "duration": 6,
    "start_time": "2025-01-24T22:56:57.288Z"
   },
   {
    "duration": 5,
    "start_time": "2025-01-24T22:56:57.295Z"
   },
   {
    "duration": 8,
    "start_time": "2025-01-24T22:56:57.301Z"
   },
   {
    "duration": 6,
    "start_time": "2025-01-24T22:56:57.311Z"
   },
   {
    "duration": 37,
    "start_time": "2025-01-24T22:56:57.318Z"
   },
   {
    "duration": 7,
    "start_time": "2025-01-24T22:56:57.358Z"
   },
   {
    "duration": 5,
    "start_time": "2025-01-24T22:56:57.366Z"
   },
   {
    "duration": 5,
    "start_time": "2025-01-24T22:56:57.372Z"
   },
   {
    "duration": 5,
    "start_time": "2025-01-24T22:56:57.378Z"
   },
   {
    "duration": 6,
    "start_time": "2025-01-24T22:56:57.384Z"
   },
   {
    "duration": 18,
    "start_time": "2025-01-24T22:56:57.391Z"
   },
   {
    "duration": 40,
    "start_time": "2025-01-24T22:56:57.410Z"
   },
   {
    "duration": 15,
    "start_time": "2025-01-24T22:56:57.455Z"
   },
   {
    "duration": 2,
    "start_time": "2025-01-24T22:56:57.472Z"
   },
   {
    "duration": 13,
    "start_time": "2025-01-24T22:56:57.478Z"
   },
   {
    "duration": 10,
    "start_time": "2025-01-24T22:56:57.492Z"
   },
   {
    "duration": 8,
    "start_time": "2025-01-24T22:56:57.503Z"
   },
   {
    "duration": 6,
    "start_time": "2025-01-24T22:56:57.512Z"
   },
   {
    "duration": 9,
    "start_time": "2025-01-24T22:56:57.547Z"
   },
   {
    "duration": 15,
    "start_time": "2025-01-24T22:56:57.559Z"
   },
   {
    "duration": 82,
    "start_time": "2025-01-24T22:56:57.576Z"
   },
   {
    "duration": 0,
    "start_time": "2025-01-24T22:56:57.661Z"
   },
   {
    "duration": 0,
    "start_time": "2025-01-24T22:56:57.663Z"
   },
   {
    "duration": 0,
    "start_time": "2025-01-24T22:56:57.663Z"
   },
   {
    "duration": 0,
    "start_time": "2025-01-24T22:56:57.664Z"
   },
   {
    "duration": 0,
    "start_time": "2025-01-24T22:56:57.665Z"
   },
   {
    "duration": 0,
    "start_time": "2025-01-24T22:56:57.666Z"
   },
   {
    "duration": 0,
    "start_time": "2025-01-24T22:56:57.667Z"
   },
   {
    "duration": 0,
    "start_time": "2025-01-24T22:56:57.668Z"
   },
   {
    "duration": 0,
    "start_time": "2025-01-24T22:56:57.669Z"
   },
   {
    "duration": 0,
    "start_time": "2025-01-24T22:56:57.670Z"
   },
   {
    "duration": 0,
    "start_time": "2025-01-24T22:56:57.671Z"
   },
   {
    "duration": 0,
    "start_time": "2025-01-24T22:56:57.672Z"
   },
   {
    "duration": 0,
    "start_time": "2025-01-24T22:56:57.673Z"
   },
   {
    "duration": 0,
    "start_time": "2025-01-24T22:56:57.674Z"
   },
   {
    "duration": 0,
    "start_time": "2025-01-24T22:56:57.675Z"
   },
   {
    "duration": 0,
    "start_time": "2025-01-24T22:56:57.676Z"
   },
   {
    "duration": 0,
    "start_time": "2025-01-24T22:56:57.677Z"
   },
   {
    "duration": 0,
    "start_time": "2025-01-24T22:56:57.678Z"
   },
   {
    "duration": 0,
    "start_time": "2025-01-24T22:56:57.679Z"
   },
   {
    "duration": 0,
    "start_time": "2025-01-24T22:56:57.680Z"
   },
   {
    "duration": 0,
    "start_time": "2025-01-24T22:56:57.681Z"
   },
   {
    "duration": 0,
    "start_time": "2025-01-24T22:56:57.682Z"
   },
   {
    "duration": 0,
    "start_time": "2025-01-24T22:56:57.682Z"
   },
   {
    "duration": 0,
    "start_time": "2025-01-24T22:56:57.683Z"
   },
   {
    "duration": 0,
    "start_time": "2025-01-24T22:56:57.685Z"
   },
   {
    "duration": 0,
    "start_time": "2025-01-24T22:56:57.685Z"
   },
   {
    "duration": 0,
    "start_time": "2025-01-24T22:56:57.686Z"
   },
   {
    "duration": 0,
    "start_time": "2025-01-24T22:56:57.687Z"
   },
   {
    "duration": 0,
    "start_time": "2025-01-24T22:56:57.688Z"
   },
   {
    "duration": 0,
    "start_time": "2025-01-24T22:56:57.689Z"
   },
   {
    "duration": 0,
    "start_time": "2025-01-24T22:56:57.690Z"
   },
   {
    "duration": 0,
    "start_time": "2025-01-24T22:56:57.691Z"
   },
   {
    "duration": 0,
    "start_time": "2025-01-24T22:56:57.692Z"
   },
   {
    "duration": 0,
    "start_time": "2025-01-24T22:56:57.747Z"
   },
   {
    "duration": 0,
    "start_time": "2025-01-24T22:56:57.748Z"
   },
   {
    "duration": 0,
    "start_time": "2025-01-24T22:56:57.750Z"
   },
   {
    "duration": 0,
    "start_time": "2025-01-24T22:56:57.751Z"
   },
   {
    "duration": 0,
    "start_time": "2025-01-24T22:56:57.752Z"
   },
   {
    "duration": 0,
    "start_time": "2025-01-24T22:56:57.752Z"
   },
   {
    "duration": 0,
    "start_time": "2025-01-24T22:56:57.758Z"
   },
   {
    "duration": 0,
    "start_time": "2025-01-24T22:56:57.759Z"
   },
   {
    "duration": 0,
    "start_time": "2025-01-24T22:56:57.761Z"
   },
   {
    "duration": 8,
    "start_time": "2025-01-24T22:57:33.411Z"
   },
   {
    "duration": 91,
    "start_time": "2025-01-24T22:57:45.349Z"
   },
   {
    "duration": 8,
    "start_time": "2025-01-24T22:58:07.371Z"
   },
   {
    "duration": 8,
    "start_time": "2025-01-24T22:58:51.681Z"
   },
   {
    "duration": 4,
    "start_time": "2025-01-24T23:04:31.872Z"
   },
   {
    "duration": 25,
    "start_time": "2025-01-24T23:04:31.878Z"
   },
   {
    "duration": 84,
    "start_time": "2025-01-24T23:04:31.904Z"
   },
   {
    "duration": 374,
    "start_time": "2025-01-24T23:04:31.989Z"
   },
   {
    "duration": 102,
    "start_time": "2025-01-24T23:04:32.364Z"
   },
   {
    "duration": 15,
    "start_time": "2025-01-24T23:04:32.468Z"
   },
   {
    "duration": 17,
    "start_time": "2025-01-24T23:04:32.485Z"
   },
   {
    "duration": 4,
    "start_time": "2025-01-24T23:04:32.503Z"
   },
   {
    "duration": 12,
    "start_time": "2025-01-24T23:04:32.508Z"
   },
   {
    "duration": 83,
    "start_time": "2025-01-24T23:04:32.521Z"
   },
   {
    "duration": 131,
    "start_time": "2025-01-24T23:04:32.606Z"
   },
   {
    "duration": 23,
    "start_time": "2025-01-24T23:04:32.739Z"
   },
   {
    "duration": 6,
    "start_time": "2025-01-24T23:04:32.764Z"
   },
   {
    "duration": 5,
    "start_time": "2025-01-24T23:04:32.774Z"
   },
   {
    "duration": 5,
    "start_time": "2025-01-24T23:04:32.780Z"
   },
   {
    "duration": 19,
    "start_time": "2025-01-24T23:04:32.786Z"
   },
   {
    "duration": 9,
    "start_time": "2025-01-24T23:04:32.806Z"
   },
   {
    "duration": 5,
    "start_time": "2025-01-24T23:04:32.816Z"
   },
   {
    "duration": 22,
    "start_time": "2025-01-24T23:04:32.822Z"
   },
   {
    "duration": 66,
    "start_time": "2025-01-24T23:04:32.845Z"
   },
   {
    "duration": 10,
    "start_time": "2025-01-24T23:04:32.912Z"
   },
   {
    "duration": 12,
    "start_time": "2025-01-24T23:04:32.923Z"
   },
   {
    "duration": 23,
    "start_time": "2025-01-24T23:04:32.937Z"
   },
   {
    "duration": 19,
    "start_time": "2025-01-24T23:04:32.963Z"
   },
   {
    "duration": 13,
    "start_time": "2025-01-24T23:04:32.983Z"
   },
   {
    "duration": 16,
    "start_time": "2025-01-24T23:04:32.998Z"
   },
   {
    "duration": 3,
    "start_time": "2025-01-24T23:04:33.015Z"
   },
   {
    "duration": 21,
    "start_time": "2025-01-24T23:04:33.020Z"
   },
   {
    "duration": 27,
    "start_time": "2025-01-24T23:04:33.042Z"
   },
   {
    "duration": 17,
    "start_time": "2025-01-24T23:04:33.071Z"
   },
   {
    "duration": 6,
    "start_time": "2025-01-24T23:04:33.090Z"
   },
   {
    "duration": 4,
    "start_time": "2025-01-24T23:04:33.098Z"
   },
   {
    "duration": 13,
    "start_time": "2025-01-24T23:04:33.104Z"
   },
   {
    "duration": 264,
    "start_time": "2025-01-24T23:04:33.119Z"
   },
   {
    "duration": 211,
    "start_time": "2025-01-24T23:04:33.384Z"
   },
   {
    "duration": 13,
    "start_time": "2025-01-24T23:04:33.596Z"
   },
   {
    "duration": 5,
    "start_time": "2025-01-24T23:04:33.610Z"
   },
   {
    "duration": 25,
    "start_time": "2025-01-24T23:04:33.617Z"
   },
   {
    "duration": 121,
    "start_time": "2025-01-24T23:04:33.644Z"
   },
   {
    "duration": 17,
    "start_time": "2025-01-24T23:04:33.767Z"
   },
   {
    "duration": 7,
    "start_time": "2025-01-24T23:04:33.788Z"
   },
   {
    "duration": 11,
    "start_time": "2025-01-24T23:04:33.796Z"
   },
   {
    "duration": 11,
    "start_time": "2025-01-24T23:04:33.809Z"
   },
   {
    "duration": 27,
    "start_time": "2025-01-24T23:04:33.822Z"
   },
   {
    "duration": 12,
    "start_time": "2025-01-24T23:04:33.853Z"
   },
   {
    "duration": 7,
    "start_time": "2025-01-24T23:04:33.866Z"
   },
   {
    "duration": 14,
    "start_time": "2025-01-24T23:04:33.875Z"
   },
   {
    "duration": 7,
    "start_time": "2025-01-24T23:04:33.890Z"
   },
   {
    "duration": 12,
    "start_time": "2025-01-24T23:04:33.899Z"
   },
   {
    "duration": 81,
    "start_time": "2025-01-24T23:04:33.912Z"
   },
   {
    "duration": 10,
    "start_time": "2025-01-24T23:04:33.994Z"
   },
   {
    "duration": 53,
    "start_time": "2025-01-24T23:04:34.005Z"
   },
   {
    "duration": 23,
    "start_time": "2025-01-24T23:04:34.060Z"
   },
   {
    "duration": 18,
    "start_time": "2025-01-24T23:04:34.085Z"
   },
   {
    "duration": 41,
    "start_time": "2025-01-24T23:04:34.105Z"
   },
   {
    "duration": 21,
    "start_time": "2025-01-24T23:04:34.148Z"
   },
   {
    "duration": 3,
    "start_time": "2025-01-24T23:04:34.171Z"
   },
   {
    "duration": 6,
    "start_time": "2025-01-24T23:04:34.175Z"
   },
   {
    "duration": 23,
    "start_time": "2025-01-24T23:04:34.182Z"
   },
   {
    "duration": 26,
    "start_time": "2025-01-24T23:04:34.207Z"
   },
   {
    "duration": 34,
    "start_time": "2025-01-24T23:04:34.235Z"
   },
   {
    "duration": 21,
    "start_time": "2025-01-24T23:04:34.271Z"
   },
   {
    "duration": 37,
    "start_time": "2025-01-24T23:04:34.294Z"
   },
   {
    "duration": 34,
    "start_time": "2025-01-24T23:04:34.333Z"
   },
   {
    "duration": 7,
    "start_time": "2025-01-24T23:04:34.369Z"
   },
   {
    "duration": 17,
    "start_time": "2025-01-24T23:04:34.377Z"
   },
   {
    "duration": 26,
    "start_time": "2025-01-24T23:04:34.395Z"
   },
   {
    "duration": 43,
    "start_time": "2025-01-24T23:04:34.423Z"
   },
   {
    "duration": 30,
    "start_time": "2025-01-24T23:04:34.467Z"
   },
   {
    "duration": 26,
    "start_time": "2025-01-24T23:04:34.499Z"
   },
   {
    "duration": 84,
    "start_time": "2025-01-24T23:04:34.527Z"
   },
   {
    "duration": 116,
    "start_time": "2025-01-24T23:04:34.612Z"
   },
   {
    "duration": 12,
    "start_time": "2025-01-24T23:04:34.729Z"
   },
   {
    "duration": 20,
    "start_time": "2025-01-24T23:04:34.743Z"
   },
   {
    "duration": 15,
    "start_time": "2025-01-24T23:04:34.765Z"
   },
   {
    "duration": 13,
    "start_time": "2025-01-24T23:06:35.482Z"
   },
   {
    "duration": 25,
    "start_time": "2025-01-24T23:14:07.862Z"
   },
   {
    "duration": 3,
    "start_time": "2025-01-24T23:15:28.142Z"
   },
   {
    "duration": 3,
    "start_time": "2025-01-24T23:15:42.283Z"
   },
   {
    "duration": 3,
    "start_time": "2025-01-24T23:15:51.527Z"
   },
   {
    "duration": 9,
    "start_time": "2025-01-24T23:15:51.531Z"
   },
   {
    "duration": 14,
    "start_time": "2025-01-24T23:15:51.541Z"
   },
   {
    "duration": 411,
    "start_time": "2025-01-24T23:15:51.557Z"
   },
   {
    "duration": 101,
    "start_time": "2025-01-24T23:15:51.970Z"
   },
   {
    "duration": 14,
    "start_time": "2025-01-24T23:15:52.073Z"
   },
   {
    "duration": 23,
    "start_time": "2025-01-24T23:15:52.088Z"
   },
   {
    "duration": 3,
    "start_time": "2025-01-24T23:15:52.112Z"
   },
   {
    "duration": 5,
    "start_time": "2025-01-24T23:15:52.116Z"
   },
   {
    "duration": 25,
    "start_time": "2025-01-24T23:15:52.123Z"
   },
   {
    "duration": 6,
    "start_time": "2025-01-24T23:15:52.151Z"
   },
   {
    "duration": 24,
    "start_time": "2025-01-24T23:15:52.159Z"
   },
   {
    "duration": 6,
    "start_time": "2025-01-24T23:15:52.186Z"
   },
   {
    "duration": 7,
    "start_time": "2025-01-24T23:15:52.193Z"
   },
   {
    "duration": 4,
    "start_time": "2025-01-24T23:15:52.202Z"
   },
   {
    "duration": 7,
    "start_time": "2025-01-24T23:15:52.207Z"
   },
   {
    "duration": 9,
    "start_time": "2025-01-24T23:15:52.216Z"
   },
   {
    "duration": 34,
    "start_time": "2025-01-24T23:15:52.226Z"
   },
   {
    "duration": 6,
    "start_time": "2025-01-24T23:15:52.261Z"
   },
   {
    "duration": 6,
    "start_time": "2025-01-24T23:15:52.268Z"
   },
   {
    "duration": 38,
    "start_time": "2025-01-24T23:15:52.275Z"
   },
   {
    "duration": 5,
    "start_time": "2025-01-24T23:15:52.314Z"
   },
   {
    "duration": 6,
    "start_time": "2025-01-24T23:15:52.320Z"
   },
   {
    "duration": 18,
    "start_time": "2025-01-24T23:15:52.328Z"
   },
   {
    "duration": 20,
    "start_time": "2025-01-24T23:15:52.347Z"
   },
   {
    "duration": 12,
    "start_time": "2025-01-24T23:15:52.369Z"
   },
   {
    "duration": 3,
    "start_time": "2025-01-24T23:15:52.383Z"
   },
   {
    "duration": 9,
    "start_time": "2025-01-24T23:15:52.387Z"
   },
   {
    "duration": 9,
    "start_time": "2025-01-24T23:15:52.397Z"
   },
   {
    "duration": 9,
    "start_time": "2025-01-24T23:15:52.407Z"
   },
   {
    "duration": 11,
    "start_time": "2025-01-24T23:15:52.446Z"
   },
   {
    "duration": 9,
    "start_time": "2025-01-24T23:15:52.459Z"
   },
   {
    "duration": 14,
    "start_time": "2025-01-24T23:15:52.469Z"
   },
   {
    "duration": 288,
    "start_time": "2025-01-24T23:15:52.485Z"
   },
   {
    "duration": 220,
    "start_time": "2025-01-24T23:15:52.774Z"
   },
   {
    "duration": 13,
    "start_time": "2025-01-24T23:15:52.996Z"
   },
   {
    "duration": 6,
    "start_time": "2025-01-24T23:15:53.013Z"
   },
   {
    "duration": 19,
    "start_time": "2025-01-24T23:15:53.020Z"
   },
   {
    "duration": 18,
    "start_time": "2025-01-24T23:15:53.045Z"
   },
   {
    "duration": 8,
    "start_time": "2025-01-24T23:15:53.064Z"
   },
   {
    "duration": 9,
    "start_time": "2025-01-24T23:15:53.073Z"
   },
   {
    "duration": 11,
    "start_time": "2025-01-24T23:15:53.084Z"
   },
   {
    "duration": 18,
    "start_time": "2025-01-24T23:15:53.096Z"
   },
   {
    "duration": 4,
    "start_time": "2025-01-24T23:15:53.115Z"
   },
   {
    "duration": 8,
    "start_time": "2025-01-24T23:15:53.120Z"
   },
   {
    "duration": 17,
    "start_time": "2025-01-24T23:15:53.129Z"
   },
   {
    "duration": 13,
    "start_time": "2025-01-24T23:15:53.147Z"
   },
   {
    "duration": 14,
    "start_time": "2025-01-24T23:15:53.162Z"
   },
   {
    "duration": 11,
    "start_time": "2025-01-24T23:15:53.177Z"
   },
   {
    "duration": 4,
    "start_time": "2025-01-24T23:15:53.190Z"
   },
   {
    "duration": 9,
    "start_time": "2025-01-24T23:15:53.195Z"
   },
   {
    "duration": 41,
    "start_time": "2025-01-24T23:15:53.205Z"
   },
   {
    "duration": 22,
    "start_time": "2025-01-24T23:15:53.249Z"
   },
   {
    "duration": 18,
    "start_time": "2025-01-24T23:15:53.273Z"
   },
   {
    "duration": 29,
    "start_time": "2025-01-24T23:15:53.293Z"
   },
   {
    "duration": 39,
    "start_time": "2025-01-24T23:15:53.324Z"
   },
   {
    "duration": 3,
    "start_time": "2025-01-24T23:15:53.366Z"
   },
   {
    "duration": 12,
    "start_time": "2025-01-24T23:15:53.371Z"
   },
   {
    "duration": 9,
    "start_time": "2025-01-24T23:15:53.385Z"
   },
   {
    "duration": 12,
    "start_time": "2025-01-24T23:15:53.396Z"
   },
   {
    "duration": 8,
    "start_time": "2025-01-24T23:15:53.409Z"
   },
   {
    "duration": 6,
    "start_time": "2025-01-24T23:15:53.418Z"
   },
   {
    "duration": 41,
    "start_time": "2025-01-24T23:15:53.426Z"
   },
   {
    "duration": 4,
    "start_time": "2025-01-24T23:15:53.468Z"
   },
   {
    "duration": 5,
    "start_time": "2025-01-24T23:15:53.473Z"
   },
   {
    "duration": 7,
    "start_time": "2025-01-24T23:15:53.479Z"
   },
   {
    "duration": 14,
    "start_time": "2025-01-24T23:15:53.487Z"
   },
   {
    "duration": 4,
    "start_time": "2025-01-24T23:15:53.502Z"
   },
   {
    "duration": 6,
    "start_time": "2025-01-24T23:15:53.508Z"
   },
   {
    "duration": 48,
    "start_time": "2025-01-24T23:15:53.515Z"
   },
   {
    "duration": 4,
    "start_time": "2025-01-24T23:15:53.564Z"
   },
   {
    "duration": 6,
    "start_time": "2025-01-24T23:15:53.570Z"
   },
   {
    "duration": 5,
    "start_time": "2025-01-24T23:15:53.578Z"
   },
   {
    "duration": 11,
    "start_time": "2025-01-24T23:15:53.584Z"
   },
   {
    "duration": 6,
    "start_time": "2025-01-24T23:15:53.596Z"
   },
   {
    "duration": 6,
    "start_time": "2025-01-24T23:15:53.604Z"
   },
   {
    "duration": 13,
    "start_time": "2025-01-24T23:15:53.646Z"
   },
   {
    "duration": 23,
    "start_time": "2025-01-24T23:15:53.661Z"
   },
   {
    "duration": 13,
    "start_time": "2025-01-24T23:15:53.685Z"
   },
   {
    "duration": 3,
    "start_time": "2025-01-24T23:16:06.173Z"
   },
   {
    "duration": 3,
    "start_time": "2025-01-24T23:17:04.113Z"
   },
   {
    "duration": 11,
    "start_time": "2025-01-24T23:17:04.118Z"
   },
   {
    "duration": 10,
    "start_time": "2025-01-24T23:17:04.130Z"
   },
   {
    "duration": 420,
    "start_time": "2025-01-24T23:17:04.141Z"
   },
   {
    "duration": 111,
    "start_time": "2025-01-24T23:17:04.563Z"
   },
   {
    "duration": 14,
    "start_time": "2025-01-24T23:17:04.676Z"
   },
   {
    "duration": 90,
    "start_time": "2025-01-24T23:17:04.691Z"
   },
   {
    "duration": 4,
    "start_time": "2025-01-24T23:17:04.782Z"
   },
   {
    "duration": 6,
    "start_time": "2025-01-24T23:17:04.788Z"
   },
   {
    "duration": 17,
    "start_time": "2025-01-24T23:17:04.796Z"
   },
   {
    "duration": 5,
    "start_time": "2025-01-24T23:17:04.815Z"
   },
   {
    "duration": 9,
    "start_time": "2025-01-24T23:17:04.821Z"
   },
   {
    "duration": 32,
    "start_time": "2025-01-24T23:17:04.831Z"
   },
   {
    "duration": 5,
    "start_time": "2025-01-24T23:17:04.866Z"
   },
   {
    "duration": 16,
    "start_time": "2025-01-24T23:17:04.872Z"
   },
   {
    "duration": 82,
    "start_time": "2025-01-24T23:17:04.889Z"
   },
   {
    "duration": 7,
    "start_time": "2025-01-24T23:17:04.972Z"
   },
   {
    "duration": 6,
    "start_time": "2025-01-24T23:17:04.980Z"
   },
   {
    "duration": 9,
    "start_time": "2025-01-24T23:17:04.987Z"
   },
   {
    "duration": 5,
    "start_time": "2025-01-24T23:17:04.997Z"
   },
   {
    "duration": 14,
    "start_time": "2025-01-24T23:17:05.003Z"
   },
   {
    "duration": 13,
    "start_time": "2025-01-24T23:17:05.019Z"
   },
   {
    "duration": 23,
    "start_time": "2025-01-24T23:17:05.034Z"
   },
   {
    "duration": 21,
    "start_time": "2025-01-24T23:17:05.063Z"
   },
   {
    "duration": 25,
    "start_time": "2025-01-24T23:17:05.085Z"
   },
   {
    "duration": 13,
    "start_time": "2025-01-24T23:17:05.112Z"
   },
   {
    "duration": 3,
    "start_time": "2025-01-24T23:17:05.126Z"
   },
   {
    "duration": 25,
    "start_time": "2025-01-24T23:17:05.130Z"
   },
   {
    "duration": 13,
    "start_time": "2025-01-24T23:17:05.158Z"
   },
   {
    "duration": 13,
    "start_time": "2025-01-24T23:17:05.172Z"
   },
   {
    "duration": 25,
    "start_time": "2025-01-24T23:17:05.186Z"
   },
   {
    "duration": 5,
    "start_time": "2025-01-24T23:17:05.213Z"
   },
   {
    "duration": 37,
    "start_time": "2025-01-24T23:17:05.220Z"
   },
   {
    "duration": 295,
    "start_time": "2025-01-24T23:17:05.260Z"
   },
   {
    "duration": 237,
    "start_time": "2025-01-24T23:17:05.558Z"
   },
   {
    "duration": 14,
    "start_time": "2025-01-24T23:17:05.797Z"
   },
   {
    "duration": 6,
    "start_time": "2025-01-24T23:17:05.814Z"
   },
   {
    "duration": 43,
    "start_time": "2025-01-24T23:17:05.821Z"
   },
   {
    "duration": 17,
    "start_time": "2025-01-24T23:17:05.866Z"
   },
   {
    "duration": 17,
    "start_time": "2025-01-24T23:17:05.885Z"
   },
   {
    "duration": 6,
    "start_time": "2025-01-24T23:17:05.904Z"
   },
   {
    "duration": 7,
    "start_time": "2025-01-24T23:17:05.912Z"
   },
   {
    "duration": 17,
    "start_time": "2025-01-24T23:17:05.921Z"
   },
   {
    "duration": 74,
    "start_time": "2025-01-24T23:17:05.939Z"
   },
   {
    "duration": 34,
    "start_time": "2025-01-24T23:17:06.015Z"
   },
   {
    "duration": 15,
    "start_time": "2025-01-24T23:17:06.051Z"
   },
   {
    "duration": 8,
    "start_time": "2025-01-24T23:17:06.067Z"
   },
   {
    "duration": 7,
    "start_time": "2025-01-24T23:17:06.077Z"
   },
   {
    "duration": 14,
    "start_time": "2025-01-24T23:17:06.086Z"
   },
   {
    "duration": 5,
    "start_time": "2025-01-24T23:17:06.101Z"
   },
   {
    "duration": 9,
    "start_time": "2025-01-24T23:17:06.107Z"
   },
   {
    "duration": 33,
    "start_time": "2025-01-24T23:17:06.117Z"
   },
   {
    "duration": 23,
    "start_time": "2025-01-24T23:17:06.152Z"
   },
   {
    "duration": 12,
    "start_time": "2025-01-24T23:17:06.177Z"
   },
   {
    "duration": 64,
    "start_time": "2025-01-24T23:17:06.191Z"
   },
   {
    "duration": 20,
    "start_time": "2025-01-24T23:17:06.257Z"
   },
   {
    "duration": 12,
    "start_time": "2025-01-24T23:17:06.279Z"
   },
   {
    "duration": 22,
    "start_time": "2025-01-24T23:17:06.292Z"
   },
   {
    "duration": 9,
    "start_time": "2025-01-24T23:17:06.315Z"
   },
   {
    "duration": 40,
    "start_time": "2025-01-24T23:17:06.326Z"
   },
   {
    "duration": 26,
    "start_time": "2025-01-24T23:17:06.367Z"
   },
   {
    "duration": 11,
    "start_time": "2025-01-24T23:17:06.395Z"
   },
   {
    "duration": 12,
    "start_time": "2025-01-24T23:17:06.408Z"
   },
   {
    "duration": 9,
    "start_time": "2025-01-24T23:17:06.421Z"
   },
   {
    "duration": 30,
    "start_time": "2025-01-24T23:17:06.431Z"
   },
   {
    "duration": 21,
    "start_time": "2025-01-24T23:17:06.463Z"
   },
   {
    "duration": 13,
    "start_time": "2025-01-24T23:17:06.485Z"
   },
   {
    "duration": 11,
    "start_time": "2025-01-24T23:17:06.499Z"
   },
   {
    "duration": 15,
    "start_time": "2025-01-24T23:17:06.514Z"
   },
   {
    "duration": 13,
    "start_time": "2025-01-24T23:17:06.531Z"
   },
   {
    "duration": 22,
    "start_time": "2025-01-24T23:17:06.545Z"
   },
   {
    "duration": 75,
    "start_time": "2025-01-24T23:17:06.568Z"
   },
   {
    "duration": 58,
    "start_time": "2025-01-24T23:17:06.644Z"
   },
   {
    "duration": 52,
    "start_time": "2025-01-24T23:17:06.704Z"
   },
   {
    "duration": 13,
    "start_time": "2025-01-24T23:17:06.758Z"
   },
   {
    "duration": 6,
    "start_time": "2025-01-24T23:17:06.773Z"
   },
   {
    "duration": 26,
    "start_time": "2025-01-24T23:17:06.781Z"
   },
   {
    "duration": 13,
    "start_time": "2025-01-24T23:17:06.809Z"
   },
   {
    "duration": 3,
    "start_time": "2025-01-25T05:35:18.289Z"
   },
   {
    "duration": 4,
    "start_time": "2025-01-25T05:35:18.294Z"
   },
   {
    "duration": 6,
    "start_time": "2025-01-25T05:35:18.300Z"
   },
   {
    "duration": 430,
    "start_time": "2025-01-25T05:35:18.308Z"
   },
   {
    "duration": 127,
    "start_time": "2025-01-25T05:35:18.741Z"
   },
   {
    "duration": 18,
    "start_time": "2025-01-25T05:35:18.870Z"
   },
   {
    "duration": 21,
    "start_time": "2025-01-25T05:35:18.890Z"
   },
   {
    "duration": 3,
    "start_time": "2025-01-25T05:35:18.914Z"
   },
   {
    "duration": 4,
    "start_time": "2025-01-25T05:35:18.919Z"
   },
   {
    "duration": 6,
    "start_time": "2025-01-25T05:35:18.925Z"
   },
   {
    "duration": 4,
    "start_time": "2025-01-25T05:35:18.933Z"
   },
   {
    "duration": 8,
    "start_time": "2025-01-25T05:35:18.939Z"
   },
   {
    "duration": 6,
    "start_time": "2025-01-25T05:35:18.949Z"
   },
   {
    "duration": 50,
    "start_time": "2025-01-25T05:35:18.959Z"
   },
   {
    "duration": 6,
    "start_time": "2025-01-25T05:35:19.010Z"
   },
   {
    "duration": 8,
    "start_time": "2025-01-25T05:35:19.017Z"
   },
   {
    "duration": 6,
    "start_time": "2025-01-25T05:35:19.027Z"
   },
   {
    "duration": 12,
    "start_time": "2025-01-25T05:35:19.035Z"
   },
   {
    "duration": 17,
    "start_time": "2025-01-25T05:35:19.048Z"
   },
   {
    "duration": 6,
    "start_time": "2025-01-25T05:35:19.066Z"
   },
   {
    "duration": 5,
    "start_time": "2025-01-25T05:35:19.074Z"
   },
   {
    "duration": 3,
    "start_time": "2025-01-25T05:35:19.107Z"
   },
   {
    "duration": 7,
    "start_time": "2025-01-25T05:35:19.112Z"
   },
   {
    "duration": 22,
    "start_time": "2025-01-25T05:35:19.120Z"
   },
   {
    "duration": 16,
    "start_time": "2025-01-25T05:35:19.143Z"
   },
   {
    "duration": 49,
    "start_time": "2025-01-25T05:35:19.161Z"
   },
   {
    "duration": 4,
    "start_time": "2025-01-25T05:35:19.211Z"
   },
   {
    "duration": 14,
    "start_time": "2025-01-25T05:35:19.217Z"
   },
   {
    "duration": 14,
    "start_time": "2025-01-25T05:35:19.233Z"
   },
   {
    "duration": 8,
    "start_time": "2025-01-25T05:35:19.248Z"
   },
   {
    "duration": 9,
    "start_time": "2025-01-25T05:35:19.258Z"
   },
   {
    "duration": 5,
    "start_time": "2025-01-25T05:35:19.268Z"
   },
   {
    "duration": 45,
    "start_time": "2025-01-25T05:35:19.275Z"
   },
   {
    "duration": 259,
    "start_time": "2025-01-25T05:35:19.322Z"
   },
   {
    "duration": 215,
    "start_time": "2025-01-25T05:35:19.583Z"
   },
   {
    "duration": 14,
    "start_time": "2025-01-25T05:35:19.800Z"
   },
   {
    "duration": 4,
    "start_time": "2025-01-25T05:35:19.816Z"
   },
   {
    "duration": 29,
    "start_time": "2025-01-25T05:35:19.822Z"
   },
   {
    "duration": 105,
    "start_time": "2025-01-25T05:35:19.853Z"
   },
   {
    "duration": 19,
    "start_time": "2025-01-25T05:35:19.959Z"
   },
   {
    "duration": 8,
    "start_time": "2025-01-25T05:35:19.982Z"
   },
   {
    "duration": 7,
    "start_time": "2025-01-25T05:35:19.992Z"
   },
   {
    "duration": 15,
    "start_time": "2025-01-25T05:35:20.000Z"
   },
   {
    "duration": 84,
    "start_time": "2025-01-25T05:35:20.017Z"
   },
   {
    "duration": 43,
    "start_time": "2025-01-25T05:35:20.102Z"
   },
   {
    "duration": 6,
    "start_time": "2025-01-25T05:35:20.147Z"
   },
   {
    "duration": 9,
    "start_time": "2025-01-25T05:35:20.154Z"
   },
   {
    "duration": 13,
    "start_time": "2025-01-25T05:35:20.164Z"
   },
   {
    "duration": 13,
    "start_time": "2025-01-25T05:35:20.179Z"
   },
   {
    "duration": 4,
    "start_time": "2025-01-25T05:35:20.194Z"
   },
   {
    "duration": 12,
    "start_time": "2025-01-25T05:35:20.200Z"
   },
   {
    "duration": 123,
    "start_time": "2025-01-25T05:35:20.213Z"
   },
   {
    "duration": 20,
    "start_time": "2025-01-25T05:35:20.338Z"
   },
   {
    "duration": 14,
    "start_time": "2025-01-25T05:35:20.360Z"
   },
   {
    "duration": 35,
    "start_time": "2025-01-25T05:35:20.377Z"
   },
   {
    "duration": 17,
    "start_time": "2025-01-25T05:35:20.413Z"
   },
   {
    "duration": 3,
    "start_time": "2025-01-25T05:35:20.431Z"
   },
   {
    "duration": 6,
    "start_time": "2025-01-25T05:35:20.436Z"
   },
   {
    "duration": 15,
    "start_time": "2025-01-25T05:35:20.444Z"
   },
   {
    "duration": 25,
    "start_time": "2025-01-25T05:35:20.460Z"
   },
   {
    "duration": 4,
    "start_time": "2025-01-25T05:35:20.507Z"
   },
   {
    "duration": 13,
    "start_time": "2025-01-25T05:35:20.514Z"
   },
   {
    "duration": 31,
    "start_time": "2025-01-25T05:35:20.529Z"
   },
   {
    "duration": 4,
    "start_time": "2025-01-25T05:35:20.562Z"
   },
   {
    "duration": 8,
    "start_time": "2025-01-25T05:35:20.568Z"
   },
   {
    "duration": 34,
    "start_time": "2025-01-25T05:35:20.578Z"
   },
   {
    "duration": 8,
    "start_time": "2025-01-25T05:35:20.614Z"
   },
   {
    "duration": 28,
    "start_time": "2025-01-25T05:35:20.624Z"
   },
   {
    "duration": 18,
    "start_time": "2025-01-25T05:35:20.654Z"
   },
   {
    "duration": 9,
    "start_time": "2025-01-25T05:35:20.674Z"
   },
   {
    "duration": 16,
    "start_time": "2025-01-25T05:35:20.684Z"
   },
   {
    "duration": 6,
    "start_time": "2025-01-25T05:35:20.702Z"
   },
   {
    "duration": 7,
    "start_time": "2025-01-25T05:35:20.710Z"
   },
   {
    "duration": 10,
    "start_time": "2025-01-25T05:35:20.719Z"
   },
   {
    "duration": 12,
    "start_time": "2025-01-25T05:35:20.730Z"
   },
   {
    "duration": 11,
    "start_time": "2025-01-25T05:35:20.743Z"
   },
   {
    "duration": 27,
    "start_time": "2025-01-25T05:35:20.756Z"
   },
   {
    "duration": 16,
    "start_time": "2025-01-25T05:35:20.807Z"
   },
   {
    "duration": 4,
    "start_time": "2025-02-24T16:26:01.071Z"
   },
   {
    "duration": 4,
    "start_time": "2025-02-24T16:26:01.077Z"
   },
   {
    "duration": 9,
    "start_time": "2025-02-24T16:26:01.083Z"
   },
   {
    "duration": 414,
    "start_time": "2025-02-24T16:26:01.094Z"
   },
   {
    "duration": 129,
    "start_time": "2025-02-24T16:26:01.510Z"
   },
   {
    "duration": 16,
    "start_time": "2025-02-24T16:26:01.641Z"
   },
   {
    "duration": 27,
    "start_time": "2025-02-24T16:26:01.659Z"
   },
   {
    "duration": 110,
    "start_time": "2025-02-24T16:26:01.688Z"
   },
   {
    "duration": 13,
    "start_time": "2025-02-24T16:26:01.800Z"
   },
   {
    "duration": 15,
    "start_time": "2025-02-24T16:26:01.815Z"
   },
   {
    "duration": 29,
    "start_time": "2025-02-24T16:26:01.831Z"
   },
   {
    "duration": 95,
    "start_time": "2025-02-24T16:26:01.862Z"
   },
   {
    "duration": 18,
    "start_time": "2025-02-24T16:26:01.959Z"
   },
   {
    "duration": 35,
    "start_time": "2025-02-24T16:26:01.979Z"
   },
   {
    "duration": 44,
    "start_time": "2025-02-24T16:26:02.016Z"
   },
   {
    "duration": 24,
    "start_time": "2025-02-24T16:26:02.062Z"
   },
   {
    "duration": 7,
    "start_time": "2025-02-24T16:26:02.088Z"
   },
   {
    "duration": 15,
    "start_time": "2025-02-24T16:26:02.096Z"
   },
   {
    "duration": 12,
    "start_time": "2025-02-24T16:26:02.113Z"
   },
   {
    "duration": 25,
    "start_time": "2025-02-24T16:26:02.126Z"
   },
   {
    "duration": 49,
    "start_time": "2025-02-24T16:26:02.153Z"
   },
   {
    "duration": 13,
    "start_time": "2025-02-24T16:26:02.204Z"
   },
   {
    "duration": 7,
    "start_time": "2025-02-24T16:26:02.220Z"
   },
   {
    "duration": 59,
    "start_time": "2025-02-24T16:26:02.229Z"
   },
   {
    "duration": 37,
    "start_time": "2025-02-24T16:26:02.291Z"
   },
   {
    "duration": 26,
    "start_time": "2025-02-24T16:26:02.330Z"
   },
   {
    "duration": 181,
    "start_time": "2025-02-24T16:26:02.358Z"
   },
   {
    "duration": 48,
    "start_time": "2025-02-24T16:26:02.540Z"
   },
   {
    "duration": 31,
    "start_time": "2025-02-24T16:26:02.590Z"
   },
   {
    "duration": 11,
    "start_time": "2025-02-24T16:26:02.623Z"
   },
   {
    "duration": 64,
    "start_time": "2025-02-24T16:26:02.636Z"
   },
   {
    "duration": 191,
    "start_time": "2025-02-24T16:26:02.702Z"
   },
   {
    "duration": 25,
    "start_time": "2025-02-24T16:26:02.895Z"
   },
   {
    "duration": 352,
    "start_time": "2025-02-24T16:26:02.922Z"
   },
   {
    "duration": 202,
    "start_time": "2025-02-24T16:26:03.275Z"
   },
   {
    "duration": 14,
    "start_time": "2025-02-24T16:26:03.478Z"
   },
   {
    "duration": 20,
    "start_time": "2025-02-24T16:26:03.494Z"
   },
   {
    "duration": 19,
    "start_time": "2025-02-24T16:26:03.516Z"
   },
   {
    "duration": 10,
    "start_time": "2025-02-24T16:26:03.537Z"
   },
   {
    "duration": 20,
    "start_time": "2025-02-24T16:26:03.549Z"
   },
   {
    "duration": 13,
    "start_time": "2025-02-24T16:26:03.570Z"
   },
   {
    "duration": 20,
    "start_time": "2025-02-24T16:26:03.584Z"
   },
   {
    "duration": 15,
    "start_time": "2025-02-24T16:26:03.605Z"
   },
   {
    "duration": 22,
    "start_time": "2025-02-24T16:26:03.622Z"
   },
   {
    "duration": 34,
    "start_time": "2025-02-24T16:26:03.646Z"
   },
   {
    "duration": 120,
    "start_time": "2025-02-24T16:26:03.682Z"
   },
   {
    "duration": 10,
    "start_time": "2025-02-24T16:26:03.804Z"
   },
   {
    "duration": 16,
    "start_time": "2025-02-24T16:26:03.816Z"
   },
   {
    "duration": 31,
    "start_time": "2025-02-24T16:26:03.833Z"
   },
   {
    "duration": 97,
    "start_time": "2025-02-24T16:26:03.866Z"
   },
   {
    "duration": 9,
    "start_time": "2025-02-24T16:26:03.965Z"
   },
   {
    "duration": 19,
    "start_time": "2025-02-24T16:26:03.975Z"
   },
   {
    "duration": 17,
    "start_time": "2025-02-24T16:26:03.996Z"
   },
   {
    "duration": 15,
    "start_time": "2025-02-24T16:26:04.015Z"
   },
   {
    "duration": 51,
    "start_time": "2025-02-24T16:26:04.032Z"
   },
   {
    "duration": 14,
    "start_time": "2025-02-24T16:26:04.085Z"
   },
   {
    "duration": 5,
    "start_time": "2025-02-24T16:26:04.101Z"
   },
   {
    "duration": 7,
    "start_time": "2025-02-24T16:26:04.107Z"
   },
   {
    "duration": 8,
    "start_time": "2025-02-24T16:26:04.115Z"
   },
   {
    "duration": 24,
    "start_time": "2025-02-24T16:26:04.125Z"
   },
   {
    "duration": 34,
    "start_time": "2025-02-24T16:26:04.150Z"
   },
   {
    "duration": 21,
    "start_time": "2025-02-24T16:26:04.185Z"
   },
   {
    "duration": 24,
    "start_time": "2025-02-24T16:26:04.208Z"
   },
   {
    "duration": 16,
    "start_time": "2025-02-24T16:26:04.234Z"
   },
   {
    "duration": 33,
    "start_time": "2025-02-24T16:26:04.251Z"
   },
   {
    "duration": 28,
    "start_time": "2025-02-24T16:26:04.286Z"
   },
   {
    "duration": 8,
    "start_time": "2025-02-24T16:26:04.316Z"
   },
   {
    "duration": 7,
    "start_time": "2025-02-24T16:26:04.325Z"
   },
   {
    "duration": 104,
    "start_time": "2025-02-24T16:26:04.333Z"
   },
   {
    "duration": 38,
    "start_time": "2025-02-24T16:26:04.442Z"
   },
   {
    "duration": 17,
    "start_time": "2025-02-24T16:26:04.482Z"
   },
   {
    "duration": 26,
    "start_time": "2025-02-24T16:26:04.500Z"
   },
   {
    "duration": 7,
    "start_time": "2025-02-24T16:26:04.527Z"
   },
   {
    "duration": 25,
    "start_time": "2025-02-24T16:26:04.536Z"
   },
   {
    "duration": 24,
    "start_time": "2025-02-24T16:26:04.562Z"
   },
   {
    "duration": 35,
    "start_time": "2025-02-24T16:26:04.588Z"
   },
   {
    "duration": 26,
    "start_time": "2025-02-24T16:26:04.625Z"
   },
   {
    "duration": 18,
    "start_time": "2025-02-24T16:26:04.653Z"
   }
  ],
  "colab": {
   "provenance": []
  },
  "kernelspec": {
   "display_name": "Python 3 (ipykernel)",
   "language": "python",
   "name": "python3"
  },
  "language_info": {
   "codemirror_mode": {
    "name": "ipython",
    "version": 3
   },
   "file_extension": ".py",
   "mimetype": "text/x-python",
   "name": "python",
   "nbconvert_exporter": "python",
   "pygments_lexer": "ipython3",
   "version": "3.12.7"
  },
  "toc": {
   "base_numbering": 1,
   "nav_menu": {},
   "number_sections": true,
   "sideBar": true,
   "skip_h1_title": true,
   "title_cell": "Table of Contents",
   "title_sidebar": "Contents",
   "toc_cell": false,
   "toc_position": {},
   "toc_section_display": true,
   "toc_window_display": false
  }
 },
 "nbformat": 4,
 "nbformat_minor": 5
}
